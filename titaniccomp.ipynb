{
 "cells": [
  {
   "cell_type": "code",
   "execution_count": 1,
   "id": "bdf0c514",
   "metadata": {
    "_cell_guid": "b1076dfc-b9ad-4769-8c92-a6c4dae69d19",
    "_uuid": "8f2839f25d086af736a60e9eeb907d3b93b6e0e5",
    "execution": {
     "iopub.execute_input": "2024-02-12T22:31:22.233995Z",
     "iopub.status.busy": "2024-02-12T22:31:22.233252Z",
     "iopub.status.idle": "2024-02-12T22:31:23.505388Z",
     "shell.execute_reply": "2024-02-12T22:31:23.504026Z"
    },
    "papermill": {
     "duration": 1.291456,
     "end_time": "2024-02-12T22:31:23.507777",
     "exception": false,
     "start_time": "2024-02-12T22:31:22.216321",
     "status": "completed"
    },
    "tags": []
   },
   "outputs": [
    {
     "name": "stdout",
     "output_type": "stream",
     "text": [
      "/kaggle/input/titanic/train.csv\n",
      "/kaggle/input/titanic/test.csv\n",
      "/kaggle/input/titanic/gender_submission.csv\n"
     ]
    }
   ],
   "source": [
    "# This Python 3 environment comes with many helpful analytics libraries installed\n",
    "# It is defined by the kaggle/python Docker image: https://github.com/kaggle/docker-python\n",
    "# For example, here's several helpful packages to load\n",
    "\n",
    "import numpy as np # linear algebra\n",
    "import pandas as pd # data processing, CSV file I/O (e.g. pd.read_csv)\n",
    "\n",
    "# Input data files are available in the read-only \"../input/\" directory\n",
    "# For example, running this (by clicking run or pressing Shift+Enter) will list all files under the input directory\n",
    "\n",
    "import os\n",
    "for dirname, _, filenames in os.walk('/kaggle/input'):\n",
    "    for filename in filenames:\n",
    "        print(os.path.join(dirname, filename))\n",
    "\n",
    "# You can write up to 20GB to the current directory (/kaggle/working/) that gets preserved as output when you create a version using \"Save & Run All\" \n",
    "# You can also write temporary files to /kaggle/temp/, but they won't be saved outside of the current session"
   ]
  },
  {
   "cell_type": "code",
   "execution_count": 2,
   "id": "1f37d2ec",
   "metadata": {
    "execution": {
     "iopub.execute_input": "2024-02-12T22:31:23.537319Z",
     "iopub.status.busy": "2024-02-12T22:31:23.536766Z",
     "iopub.status.idle": "2024-02-12T22:31:23.566410Z",
     "shell.execute_reply": "2024-02-12T22:31:23.565078Z"
    },
    "papermill": {
     "duration": 0.04687,
     "end_time": "2024-02-12T22:31:23.569035",
     "exception": false,
     "start_time": "2024-02-12T22:31:23.522165",
     "status": "completed"
    },
    "tags": []
   },
   "outputs": [],
   "source": [
    "train_data = pd.read_csv(\"/kaggle/input/titanic/train.csv\")\n",
    "test_data = pd.read_csv(\"/kaggle/input/titanic/test.csv\")\n"
   ]
  },
  {
   "cell_type": "code",
   "execution_count": 3,
   "id": "8f171fdc",
   "metadata": {
    "execution": {
     "iopub.execute_input": "2024-02-12T22:31:23.599758Z",
     "iopub.status.busy": "2024-02-12T22:31:23.599327Z",
     "iopub.status.idle": "2024-02-12T22:31:23.622056Z",
     "shell.execute_reply": "2024-02-12T22:31:23.620893Z"
    },
    "papermill": {
     "duration": 0.040613,
     "end_time": "2024-02-12T22:31:23.624890",
     "exception": false,
     "start_time": "2024-02-12T22:31:23.584277",
     "status": "completed"
    },
    "tags": []
   },
   "outputs": [
    {
     "data": {
      "text/html": [
       "<div>\n",
       "<style scoped>\n",
       "    .dataframe tbody tr th:only-of-type {\n",
       "        vertical-align: middle;\n",
       "    }\n",
       "\n",
       "    .dataframe tbody tr th {\n",
       "        vertical-align: top;\n",
       "    }\n",
       "\n",
       "    .dataframe thead th {\n",
       "        text-align: right;\n",
       "    }\n",
       "</style>\n",
       "<table border=\"1\" class=\"dataframe\">\n",
       "  <thead>\n",
       "    <tr style=\"text-align: right;\">\n",
       "      <th></th>\n",
       "      <th>PassengerId</th>\n",
       "      <th>Survived</th>\n",
       "      <th>Pclass</th>\n",
       "      <th>Name</th>\n",
       "      <th>Sex</th>\n",
       "      <th>Age</th>\n",
       "      <th>SibSp</th>\n",
       "      <th>Parch</th>\n",
       "      <th>Ticket</th>\n",
       "      <th>Fare</th>\n",
       "      <th>Cabin</th>\n",
       "      <th>Embarked</th>\n",
       "    </tr>\n",
       "  </thead>\n",
       "  <tbody>\n",
       "    <tr>\n",
       "      <th>0</th>\n",
       "      <td>1</td>\n",
       "      <td>0</td>\n",
       "      <td>3</td>\n",
       "      <td>Braund, Mr. Owen Harris</td>\n",
       "      <td>male</td>\n",
       "      <td>22.0</td>\n",
       "      <td>1</td>\n",
       "      <td>0</td>\n",
       "      <td>A/5 21171</td>\n",
       "      <td>7.2500</td>\n",
       "      <td>NaN</td>\n",
       "      <td>S</td>\n",
       "    </tr>\n",
       "    <tr>\n",
       "      <th>1</th>\n",
       "      <td>2</td>\n",
       "      <td>1</td>\n",
       "      <td>1</td>\n",
       "      <td>Cumings, Mrs. John Bradley (Florence Briggs Th...</td>\n",
       "      <td>female</td>\n",
       "      <td>38.0</td>\n",
       "      <td>1</td>\n",
       "      <td>0</td>\n",
       "      <td>PC 17599</td>\n",
       "      <td>71.2833</td>\n",
       "      <td>C85</td>\n",
       "      <td>C</td>\n",
       "    </tr>\n",
       "    <tr>\n",
       "      <th>2</th>\n",
       "      <td>3</td>\n",
       "      <td>1</td>\n",
       "      <td>3</td>\n",
       "      <td>Heikkinen, Miss. Laina</td>\n",
       "      <td>female</td>\n",
       "      <td>26.0</td>\n",
       "      <td>0</td>\n",
       "      <td>0</td>\n",
       "      <td>STON/O2. 3101282</td>\n",
       "      <td>7.9250</td>\n",
       "      <td>NaN</td>\n",
       "      <td>S</td>\n",
       "    </tr>\n",
       "    <tr>\n",
       "      <th>3</th>\n",
       "      <td>4</td>\n",
       "      <td>1</td>\n",
       "      <td>1</td>\n",
       "      <td>Futrelle, Mrs. Jacques Heath (Lily May Peel)</td>\n",
       "      <td>female</td>\n",
       "      <td>35.0</td>\n",
       "      <td>1</td>\n",
       "      <td>0</td>\n",
       "      <td>113803</td>\n",
       "      <td>53.1000</td>\n",
       "      <td>C123</td>\n",
       "      <td>S</td>\n",
       "    </tr>\n",
       "    <tr>\n",
       "      <th>4</th>\n",
       "      <td>5</td>\n",
       "      <td>0</td>\n",
       "      <td>3</td>\n",
       "      <td>Allen, Mr. William Henry</td>\n",
       "      <td>male</td>\n",
       "      <td>35.0</td>\n",
       "      <td>0</td>\n",
       "      <td>0</td>\n",
       "      <td>373450</td>\n",
       "      <td>8.0500</td>\n",
       "      <td>NaN</td>\n",
       "      <td>S</td>\n",
       "    </tr>\n",
       "  </tbody>\n",
       "</table>\n",
       "</div>"
      ],
      "text/plain": [
       "   PassengerId  Survived  Pclass  \\\n",
       "0            1         0       3   \n",
       "1            2         1       1   \n",
       "2            3         1       3   \n",
       "3            4         1       1   \n",
       "4            5         0       3   \n",
       "\n",
       "                                                Name     Sex   Age  SibSp  \\\n",
       "0                            Braund, Mr. Owen Harris    male  22.0      1   \n",
       "1  Cumings, Mrs. John Bradley (Florence Briggs Th...  female  38.0      1   \n",
       "2                             Heikkinen, Miss. Laina  female  26.0      0   \n",
       "3       Futrelle, Mrs. Jacques Heath (Lily May Peel)  female  35.0      1   \n",
       "4                           Allen, Mr. William Henry    male  35.0      0   \n",
       "\n",
       "   Parch            Ticket     Fare Cabin Embarked  \n",
       "0      0         A/5 21171   7.2500   NaN        S  \n",
       "1      0          PC 17599  71.2833   C85        C  \n",
       "2      0  STON/O2. 3101282   7.9250   NaN        S  \n",
       "3      0            113803  53.1000  C123        S  \n",
       "4      0            373450   8.0500   NaN        S  "
      ]
     },
     "execution_count": 3,
     "metadata": {},
     "output_type": "execute_result"
    }
   ],
   "source": [
    "train_data.head()"
   ]
  },
  {
   "cell_type": "code",
   "execution_count": 4,
   "id": "c77b9cef",
   "metadata": {
    "execution": {
     "iopub.execute_input": "2024-02-12T22:31:23.660588Z",
     "iopub.status.busy": "2024-02-12T22:31:23.660179Z",
     "iopub.status.idle": "2024-02-12T22:31:23.677598Z",
     "shell.execute_reply": "2024-02-12T22:31:23.676485Z"
    },
    "papermill": {
     "duration": 0.038943,
     "end_time": "2024-02-12T22:31:23.680067",
     "exception": false,
     "start_time": "2024-02-12T22:31:23.641124",
     "status": "completed"
    },
    "tags": []
   },
   "outputs": [
    {
     "data": {
      "text/html": [
       "<div>\n",
       "<style scoped>\n",
       "    .dataframe tbody tr th:only-of-type {\n",
       "        vertical-align: middle;\n",
       "    }\n",
       "\n",
       "    .dataframe tbody tr th {\n",
       "        vertical-align: top;\n",
       "    }\n",
       "\n",
       "    .dataframe thead th {\n",
       "        text-align: right;\n",
       "    }\n",
       "</style>\n",
       "<table border=\"1\" class=\"dataframe\">\n",
       "  <thead>\n",
       "    <tr style=\"text-align: right;\">\n",
       "      <th></th>\n",
       "      <th>PassengerId</th>\n",
       "      <th>Pclass</th>\n",
       "      <th>Name</th>\n",
       "      <th>Sex</th>\n",
       "      <th>Age</th>\n",
       "      <th>SibSp</th>\n",
       "      <th>Parch</th>\n",
       "      <th>Ticket</th>\n",
       "      <th>Fare</th>\n",
       "      <th>Cabin</th>\n",
       "      <th>Embarked</th>\n",
       "    </tr>\n",
       "  </thead>\n",
       "  <tbody>\n",
       "    <tr>\n",
       "      <th>0</th>\n",
       "      <td>892</td>\n",
       "      <td>3</td>\n",
       "      <td>Kelly, Mr. James</td>\n",
       "      <td>male</td>\n",
       "      <td>34.5</td>\n",
       "      <td>0</td>\n",
       "      <td>0</td>\n",
       "      <td>330911</td>\n",
       "      <td>7.8292</td>\n",
       "      <td>NaN</td>\n",
       "      <td>Q</td>\n",
       "    </tr>\n",
       "    <tr>\n",
       "      <th>1</th>\n",
       "      <td>893</td>\n",
       "      <td>3</td>\n",
       "      <td>Wilkes, Mrs. James (Ellen Needs)</td>\n",
       "      <td>female</td>\n",
       "      <td>47.0</td>\n",
       "      <td>1</td>\n",
       "      <td>0</td>\n",
       "      <td>363272</td>\n",
       "      <td>7.0000</td>\n",
       "      <td>NaN</td>\n",
       "      <td>S</td>\n",
       "    </tr>\n",
       "    <tr>\n",
       "      <th>2</th>\n",
       "      <td>894</td>\n",
       "      <td>2</td>\n",
       "      <td>Myles, Mr. Thomas Francis</td>\n",
       "      <td>male</td>\n",
       "      <td>62.0</td>\n",
       "      <td>0</td>\n",
       "      <td>0</td>\n",
       "      <td>240276</td>\n",
       "      <td>9.6875</td>\n",
       "      <td>NaN</td>\n",
       "      <td>Q</td>\n",
       "    </tr>\n",
       "    <tr>\n",
       "      <th>3</th>\n",
       "      <td>895</td>\n",
       "      <td>3</td>\n",
       "      <td>Wirz, Mr. Albert</td>\n",
       "      <td>male</td>\n",
       "      <td>27.0</td>\n",
       "      <td>0</td>\n",
       "      <td>0</td>\n",
       "      <td>315154</td>\n",
       "      <td>8.6625</td>\n",
       "      <td>NaN</td>\n",
       "      <td>S</td>\n",
       "    </tr>\n",
       "    <tr>\n",
       "      <th>4</th>\n",
       "      <td>896</td>\n",
       "      <td>3</td>\n",
       "      <td>Hirvonen, Mrs. Alexander (Helga E Lindqvist)</td>\n",
       "      <td>female</td>\n",
       "      <td>22.0</td>\n",
       "      <td>1</td>\n",
       "      <td>1</td>\n",
       "      <td>3101298</td>\n",
       "      <td>12.2875</td>\n",
       "      <td>NaN</td>\n",
       "      <td>S</td>\n",
       "    </tr>\n",
       "  </tbody>\n",
       "</table>\n",
       "</div>"
      ],
      "text/plain": [
       "   PassengerId  Pclass                                          Name     Sex  \\\n",
       "0          892       3                              Kelly, Mr. James    male   \n",
       "1          893       3              Wilkes, Mrs. James (Ellen Needs)  female   \n",
       "2          894       2                     Myles, Mr. Thomas Francis    male   \n",
       "3          895       3                              Wirz, Mr. Albert    male   \n",
       "4          896       3  Hirvonen, Mrs. Alexander (Helga E Lindqvist)  female   \n",
       "\n",
       "    Age  SibSp  Parch   Ticket     Fare Cabin Embarked  \n",
       "0  34.5      0      0   330911   7.8292   NaN        Q  \n",
       "1  47.0      1      0   363272   7.0000   NaN        S  \n",
       "2  62.0      0      0   240276   9.6875   NaN        Q  \n",
       "3  27.0      0      0   315154   8.6625   NaN        S  \n",
       "4  22.0      1      1  3101298  12.2875   NaN        S  "
      ]
     },
     "execution_count": 4,
     "metadata": {},
     "output_type": "execute_result"
    }
   ],
   "source": [
    "test_data.head()"
   ]
  },
  {
   "cell_type": "markdown",
   "id": "366bf82c",
   "metadata": {
    "papermill": {
     "duration": 0.014825,
     "end_time": "2024-02-12T22:31:23.710062",
     "exception": false,
     "start_time": "2024-02-12T22:31:23.695237",
     "status": "completed"
    },
    "tags": []
   },
   "source": [
    "Data Preprocessing"
   ]
  },
  {
   "cell_type": "code",
   "execution_count": 5,
   "id": "527f206f",
   "metadata": {
    "execution": {
     "iopub.execute_input": "2024-02-12T22:31:23.741109Z",
     "iopub.status.busy": "2024-02-12T22:31:23.740726Z",
     "iopub.status.idle": "2024-02-12T22:31:25.821315Z",
     "shell.execute_reply": "2024-02-12T22:31:25.819936Z"
    },
    "papermill": {
     "duration": 2.099472,
     "end_time": "2024-02-12T22:31:25.824447",
     "exception": false,
     "start_time": "2024-02-12T22:31:23.724975",
     "status": "completed"
    },
    "tags": []
   },
   "outputs": [],
   "source": [
    "import matplotlib.pyplot as plt\n",
    "import  seaborn as sns"
   ]
  },
  {
   "cell_type": "markdown",
   "id": "8a812d2e",
   "metadata": {
    "papermill": {
     "duration": 0.014644,
     "end_time": "2024-02-12T22:31:25.858509",
     "exception": false,
     "start_time": "2024-02-12T22:31:25.843865",
     "status": "completed"
    },
    "tags": []
   },
   "source": []
  },
  {
   "cell_type": "code",
   "execution_count": 6,
   "id": "b9503e0d",
   "metadata": {
    "execution": {
     "iopub.execute_input": "2024-02-12T22:31:25.892241Z",
     "iopub.status.busy": "2024-02-12T22:31:25.891258Z",
     "iopub.status.idle": "2024-02-12T22:31:25.899512Z",
     "shell.execute_reply": "2024-02-12T22:31:25.898485Z"
    },
    "papermill": {
     "duration": 0.027893,
     "end_time": "2024-02-12T22:31:25.902251",
     "exception": false,
     "start_time": "2024-02-12T22:31:25.874358",
     "status": "completed"
    },
    "tags": []
   },
   "outputs": [
    {
     "data": {
      "text/plain": [
       "(891, 12)"
      ]
     },
     "execution_count": 6,
     "metadata": {},
     "output_type": "execute_result"
    }
   ],
   "source": [
    "train_data.shape"
   ]
  },
  {
   "cell_type": "code",
   "execution_count": 7,
   "id": "b925f8f0",
   "metadata": {
    "execution": {
     "iopub.execute_input": "2024-02-12T22:31:25.936271Z",
     "iopub.status.busy": "2024-02-12T22:31:25.935374Z",
     "iopub.status.idle": "2024-02-12T22:31:25.971032Z",
     "shell.execute_reply": "2024-02-12T22:31:25.969731Z"
    },
    "papermill": {
     "duration": 0.053984,
     "end_time": "2024-02-12T22:31:25.973750",
     "exception": false,
     "start_time": "2024-02-12T22:31:25.919766",
     "status": "completed"
    },
    "tags": []
   },
   "outputs": [
    {
     "name": "stdout",
     "output_type": "stream",
     "text": [
      "<class 'pandas.core.frame.DataFrame'>\n",
      "RangeIndex: 891 entries, 0 to 890\n",
      "Data columns (total 12 columns):\n",
      " #   Column       Non-Null Count  Dtype  \n",
      "---  ------       --------------  -----  \n",
      " 0   PassengerId  891 non-null    int64  \n",
      " 1   Survived     891 non-null    int64  \n",
      " 2   Pclass       891 non-null    int64  \n",
      " 3   Name         891 non-null    object \n",
      " 4   Sex          891 non-null    object \n",
      " 5   Age          714 non-null    float64\n",
      " 6   SibSp        891 non-null    int64  \n",
      " 7   Parch        891 non-null    int64  \n",
      " 8   Ticket       891 non-null    object \n",
      " 9   Fare         891 non-null    float64\n",
      " 10  Cabin        204 non-null    object \n",
      " 11  Embarked     889 non-null    object \n",
      "dtypes: float64(2), int64(5), object(5)\n",
      "memory usage: 83.7+ KB\n"
     ]
    }
   ],
   "source": [
    "train_data.info()"
   ]
  },
  {
   "cell_type": "code",
   "execution_count": 8,
   "id": "be2e44f4",
   "metadata": {
    "execution": {
     "iopub.execute_input": "2024-02-12T22:31:26.006282Z",
     "iopub.status.busy": "2024-02-12T22:31:26.005502Z",
     "iopub.status.idle": "2024-02-12T22:31:26.015592Z",
     "shell.execute_reply": "2024-02-12T22:31:26.014040Z"
    },
    "papermill": {
     "duration": 0.028908,
     "end_time": "2024-02-12T22:31:26.018222",
     "exception": false,
     "start_time": "2024-02-12T22:31:25.989314",
     "status": "completed"
    },
    "tags": []
   },
   "outputs": [
    {
     "data": {
      "text/plain": [
       "PassengerId      0\n",
       "Survived         0\n",
       "Pclass           0\n",
       "Name             0\n",
       "Sex              0\n",
       "Age            177\n",
       "SibSp            0\n",
       "Parch            0\n",
       "Ticket           0\n",
       "Fare             0\n",
       "Cabin          687\n",
       "Embarked         2\n",
       "dtype: int64"
      ]
     },
     "execution_count": 8,
     "metadata": {},
     "output_type": "execute_result"
    }
   ],
   "source": [
    "train_data.isnull().sum()"
   ]
  },
  {
   "cell_type": "code",
   "execution_count": 9,
   "id": "1599e202",
   "metadata": {
    "execution": {
     "iopub.execute_input": "2024-02-12T22:31:26.048901Z",
     "iopub.status.busy": "2024-02-12T22:31:26.048466Z",
     "iopub.status.idle": "2024-02-12T22:31:26.061089Z",
     "shell.execute_reply": "2024-02-12T22:31:26.059572Z"
    },
    "papermill": {
     "duration": 0.031081,
     "end_time": "2024-02-12T22:31:26.064047",
     "exception": false,
     "start_time": "2024-02-12T22:31:26.032966",
     "status": "completed"
    },
    "tags": []
   },
   "outputs": [],
   "source": [
    "train_data.drop(columns=['Cabin'], inplace=True)\n",
    "test_data.drop(columns=['Cabin'], inplace=True)"
   ]
  },
  {
   "cell_type": "code",
   "execution_count": 10,
   "id": "94e005b6",
   "metadata": {
    "execution": {
     "iopub.execute_input": "2024-02-12T22:31:26.098027Z",
     "iopub.status.busy": "2024-02-12T22:31:26.097130Z",
     "iopub.status.idle": "2024-02-12T22:31:26.108945Z",
     "shell.execute_reply": "2024-02-12T22:31:26.107627Z"
    },
    "papermill": {
     "duration": 0.032447,
     "end_time": "2024-02-12T22:31:26.111576",
     "exception": false,
     "start_time": "2024-02-12T22:31:26.079129",
     "status": "completed"
    },
    "tags": []
   },
   "outputs": [],
   "source": [
    "train_data.dropna(subset=['Embarked'], inplace=True)\n",
    "test_data.dropna(subset=['Embarked'],inplace =True)"
   ]
  },
  {
   "cell_type": "code",
   "execution_count": 11,
   "id": "6a54b459",
   "metadata": {
    "execution": {
     "iopub.execute_input": "2024-02-12T22:31:26.143861Z",
     "iopub.status.busy": "2024-02-12T22:31:26.143422Z",
     "iopub.status.idle": "2024-02-12T22:31:26.153383Z",
     "shell.execute_reply": "2024-02-12T22:31:26.151751Z"
    },
    "papermill": {
     "duration": 0.029877,
     "end_time": "2024-02-12T22:31:26.156285",
     "exception": false,
     "start_time": "2024-02-12T22:31:26.126408",
     "status": "completed"
    },
    "tags": []
   },
   "outputs": [
    {
     "data": {
      "text/plain": [
       "PassengerId      0\n",
       "Survived         0\n",
       "Pclass           0\n",
       "Name             0\n",
       "Sex              0\n",
       "Age            177\n",
       "SibSp            0\n",
       "Parch            0\n",
       "Ticket           0\n",
       "Fare             0\n",
       "Embarked         0\n",
       "dtype: int64"
      ]
     },
     "execution_count": 11,
     "metadata": {},
     "output_type": "execute_result"
    }
   ],
   "source": [
    "train_data.isnull().sum()"
   ]
  },
  {
   "cell_type": "code",
   "execution_count": 12,
   "id": "457de534",
   "metadata": {
    "execution": {
     "iopub.execute_input": "2024-02-12T22:31:26.193292Z",
     "iopub.status.busy": "2024-02-12T22:31:26.192856Z",
     "iopub.status.idle": "2024-02-12T22:31:26.203693Z",
     "shell.execute_reply": "2024-02-12T22:31:26.202796Z"
    },
    "papermill": {
     "duration": 0.033105,
     "end_time": "2024-02-12T22:31:26.206451",
     "exception": false,
     "start_time": "2024-02-12T22:31:26.173346",
     "status": "completed"
    },
    "tags": []
   },
   "outputs": [
    {
     "data": {
      "text/plain": [
       "array([22.  , 38.  , 26.  , 35.  ,   nan, 54.  ,  2.  , 27.  , 14.  ,\n",
       "        4.  , 58.  , 20.  , 39.  , 55.  , 31.  , 34.  , 15.  , 28.  ,\n",
       "        8.  , 19.  , 40.  , 66.  , 42.  , 21.  , 18.  ,  3.  ,  7.  ,\n",
       "       49.  , 29.  , 65.  , 28.5 ,  5.  , 11.  , 45.  , 17.  , 32.  ,\n",
       "       16.  , 25.  ,  0.83, 30.  , 33.  , 23.  , 24.  , 46.  , 59.  ,\n",
       "       71.  , 37.  , 47.  , 14.5 , 70.5 , 32.5 , 12.  ,  9.  , 36.5 ,\n",
       "       51.  , 55.5 , 40.5 , 44.  ,  1.  , 61.  , 56.  , 50.  , 36.  ,\n",
       "       45.5 , 20.5 , 62.  , 41.  , 52.  , 63.  , 23.5 ,  0.92, 43.  ,\n",
       "       60.  , 10.  , 64.  , 13.  , 48.  ,  0.75, 53.  , 57.  , 80.  ,\n",
       "       70.  , 24.5 ,  6.  ,  0.67, 30.5 ,  0.42, 34.5 , 74.  ])"
      ]
     },
     "execution_count": 12,
     "metadata": {},
     "output_type": "execute_result"
    }
   ],
   "source": [
    "train_data[\"Age\"].unique()"
   ]
  },
  {
   "cell_type": "code",
   "execution_count": 13,
   "id": "71f810eb",
   "metadata": {
    "execution": {
     "iopub.execute_input": "2024-02-12T22:31:26.240031Z",
     "iopub.status.busy": "2024-02-12T22:31:26.239615Z",
     "iopub.status.idle": "2024-02-12T22:31:26.915640Z",
     "shell.execute_reply": "2024-02-12T22:31:26.913979Z"
    },
    "papermill": {
     "duration": 0.696689,
     "end_time": "2024-02-12T22:31:26.918302",
     "exception": false,
     "start_time": "2024-02-12T22:31:26.221613",
     "status": "completed"
    },
    "tags": []
   },
   "outputs": [],
   "source": [
    "from sklearn.impute import SimpleImputer\n",
    "imputer = SimpleImputer(strategy = 'median')"
   ]
  },
  {
   "cell_type": "code",
   "execution_count": 14,
   "id": "6b501b8b",
   "metadata": {
    "execution": {
     "iopub.execute_input": "2024-02-12T22:31:26.962281Z",
     "iopub.status.busy": "2024-02-12T22:31:26.961605Z",
     "iopub.status.idle": "2024-02-12T22:31:26.983797Z",
     "shell.execute_reply": "2024-02-12T22:31:26.982782Z"
    },
    "papermill": {
     "duration": 0.050346,
     "end_time": "2024-02-12T22:31:26.986867",
     "exception": false,
     "start_time": "2024-02-12T22:31:26.936521",
     "status": "completed"
    },
    "tags": []
   },
   "outputs": [
    {
     "data": {
      "text/plain": [
       "(889,)"
      ]
     },
     "execution_count": 14,
     "metadata": {},
     "output_type": "execute_result"
    }
   ],
   "source": [
    "age_column = train_data[['Age']]\n",
    "age_imputed = pd.DataFrame(imputer.fit_transform(age_column))\n",
    "age_imputed.shape\n",
    "train_data['Age'].shape"
   ]
  },
  {
   "cell_type": "code",
   "execution_count": 15,
   "id": "91e8bef7",
   "metadata": {
    "execution": {
     "iopub.execute_input": "2024-02-12T22:31:27.031221Z",
     "iopub.status.busy": "2024-02-12T22:31:27.030795Z",
     "iopub.status.idle": "2024-02-12T22:31:27.045874Z",
     "shell.execute_reply": "2024-02-12T22:31:27.044559Z"
    },
    "papermill": {
     "duration": 0.042073,
     "end_time": "2024-02-12T22:31:27.049368",
     "exception": false,
     "start_time": "2024-02-12T22:31:27.007295",
     "status": "completed"
    },
    "tags": []
   },
   "outputs": [],
   "source": [
    "test_age_column = test_data[['Age']]\n",
    "test_age_imputed = pd.DataFrame(imputer.fit_transform(test_age_column))"
   ]
  },
  {
   "cell_type": "code",
   "execution_count": 16,
   "id": "d0e18a20",
   "metadata": {
    "execution": {
     "iopub.execute_input": "2024-02-12T22:31:27.081982Z",
     "iopub.status.busy": "2024-02-12T22:31:27.081340Z",
     "iopub.status.idle": "2024-02-12T22:31:27.089709Z",
     "shell.execute_reply": "2024-02-12T22:31:27.088289Z"
    },
    "papermill": {
     "duration": 0.027672,
     "end_time": "2024-02-12T22:31:27.092359",
     "exception": false,
     "start_time": "2024-02-12T22:31:27.064687",
     "status": "completed"
    },
    "tags": []
   },
   "outputs": [],
   "source": [
    "train_data['Age'] = age_imputed\n"
   ]
  },
  {
   "cell_type": "code",
   "execution_count": 17,
   "id": "8d2ca1bd",
   "metadata": {
    "execution": {
     "iopub.execute_input": "2024-02-12T22:31:27.139888Z",
     "iopub.status.busy": "2024-02-12T22:31:27.138624Z",
     "iopub.status.idle": "2024-02-12T22:31:27.146319Z",
     "shell.execute_reply": "2024-02-12T22:31:27.144595Z"
    },
    "papermill": {
     "duration": 0.032207,
     "end_time": "2024-02-12T22:31:27.150077",
     "exception": false,
     "start_time": "2024-02-12T22:31:27.117870",
     "status": "completed"
    },
    "tags": []
   },
   "outputs": [],
   "source": [
    "test_data['Age'] = test_age_imputed"
   ]
  },
  {
   "cell_type": "code",
   "execution_count": 18,
   "id": "e0ec3d20",
   "metadata": {
    "execution": {
     "iopub.execute_input": "2024-02-12T22:31:27.197874Z",
     "iopub.status.busy": "2024-02-12T22:31:27.197117Z",
     "iopub.status.idle": "2024-02-12T22:31:27.205912Z",
     "shell.execute_reply": "2024-02-12T22:31:27.204911Z"
    },
    "papermill": {
     "duration": 0.036434,
     "end_time": "2024-02-12T22:31:27.209059",
     "exception": false,
     "start_time": "2024-02-12T22:31:27.172625",
     "status": "completed"
    },
    "tags": []
   },
   "outputs": [
    {
     "data": {
      "text/plain": [
       "PassengerId    0\n",
       "Survived       0\n",
       "Pclass         0\n",
       "Name           0\n",
       "Sex            0\n",
       "Age            2\n",
       "SibSp          0\n",
       "Parch          0\n",
       "Ticket         0\n",
       "Fare           0\n",
       "Embarked       0\n",
       "dtype: int64"
      ]
     },
     "execution_count": 18,
     "metadata": {},
     "output_type": "execute_result"
    }
   ],
   "source": [
    "train_data.isnull().sum()\n"
   ]
  },
  {
   "cell_type": "code",
   "execution_count": 19,
   "id": "9c418c98",
   "metadata": {
    "execution": {
     "iopub.execute_input": "2024-02-12T22:31:27.258969Z",
     "iopub.status.busy": "2024-02-12T22:31:27.258332Z",
     "iopub.status.idle": "2024-02-12T22:31:27.275178Z",
     "shell.execute_reply": "2024-02-12T22:31:27.274143Z"
    },
    "papermill": {
     "duration": 0.046819,
     "end_time": "2024-02-12T22:31:27.277916",
     "exception": false,
     "start_time": "2024-02-12T22:31:27.231097",
     "status": "completed"
    },
    "tags": []
   },
   "outputs": [
    {
     "data": {
      "text/plain": [
       "PassengerId    0\n",
       "Survived       0\n",
       "Pclass         0\n",
       "Name           0\n",
       "Sex            0\n",
       "Age            0\n",
       "SibSp          0\n",
       "Parch          0\n",
       "Ticket         0\n",
       "Fare           0\n",
       "Embarked       0\n",
       "dtype: int64"
      ]
     },
     "execution_count": 19,
     "metadata": {},
     "output_type": "execute_result"
    }
   ],
   "source": [
    "train_data.dropna(subset=['Age'], inplace = True)\n",
    "train_data.isnull().sum()"
   ]
  },
  {
   "cell_type": "code",
   "execution_count": 20,
   "id": "6acd5b2c",
   "metadata": {
    "execution": {
     "iopub.execute_input": "2024-02-12T22:31:27.385794Z",
     "iopub.status.busy": "2024-02-12T22:31:27.384986Z",
     "iopub.status.idle": "2024-02-12T22:31:27.398528Z",
     "shell.execute_reply": "2024-02-12T22:31:27.396774Z"
    },
    "papermill": {
     "duration": 0.102857,
     "end_time": "2024-02-12T22:31:27.401400",
     "exception": false,
     "start_time": "2024-02-12T22:31:27.298543",
     "status": "completed"
    },
    "tags": []
   },
   "outputs": [
    {
     "data": {
      "text/plain": [
       "PassengerId    0\n",
       "Pclass         0\n",
       "Name           0\n",
       "Sex            0\n",
       "Age            0\n",
       "SibSp          0\n",
       "Parch          0\n",
       "Ticket         0\n",
       "Fare           1\n",
       "Embarked       0\n",
       "dtype: int64"
      ]
     },
     "execution_count": 20,
     "metadata": {},
     "output_type": "execute_result"
    }
   ],
   "source": [
    "test_data.isnull().sum()"
   ]
  },
  {
   "cell_type": "code",
   "execution_count": 21,
   "id": "a2891e86",
   "metadata": {
    "execution": {
     "iopub.execute_input": "2024-02-12T22:31:27.436077Z",
     "iopub.status.busy": "2024-02-12T22:31:27.435676Z",
     "iopub.status.idle": "2024-02-12T22:31:27.447868Z",
     "shell.execute_reply": "2024-02-12T22:31:27.446653Z"
    },
    "papermill": {
     "duration": 0.030882,
     "end_time": "2024-02-12T22:31:27.450188",
     "exception": false,
     "start_time": "2024-02-12T22:31:27.419306",
     "status": "completed"
    },
    "tags": []
   },
   "outputs": [
    {
     "data": {
      "text/plain": [
       "PassengerId    0\n",
       "Pclass         0\n",
       "Name           0\n",
       "Sex            0\n",
       "Age            0\n",
       "SibSp          0\n",
       "Parch          0\n",
       "Ticket         0\n",
       "Fare           0\n",
       "Embarked       0\n",
       "dtype: int64"
      ]
     },
     "execution_count": 21,
     "metadata": {},
     "output_type": "execute_result"
    }
   ],
   "source": [
    "test_data.dropna(subset=['Fare'], inplace = True)\n",
    "test_data.isnull().sum()"
   ]
  },
  {
   "cell_type": "code",
   "execution_count": 22,
   "id": "823a49cf",
   "metadata": {
    "execution": {
     "iopub.execute_input": "2024-02-12T22:31:27.490199Z",
     "iopub.status.busy": "2024-02-12T22:31:27.489596Z",
     "iopub.status.idle": "2024-02-12T22:31:27.749943Z",
     "shell.execute_reply": "2024-02-12T22:31:27.748726Z"
    },
    "papermill": {
     "duration": 0.28551,
     "end_time": "2024-02-12T22:31:27.752267",
     "exception": false,
     "start_time": "2024-02-12T22:31:27.466757",
     "status": "completed"
    },
    "tags": []
   },
   "outputs": [
    {
     "data": {
      "image/png": "[encoded data removed]",
      "text/plain": [
       "<Figure size 640x480 with 1 Axes>"
      ]
     },
     "metadata": {},
     "output_type": "display_data"
    }
   ],
   "source": [
    "class_counts = train_data['Pclass'].value_counts()\n",
    "class_counts.plot(kind='bar')\n",
    "plt.xlabel('Passenger Class')\n",
    "plt.ylabel('Number of Passengers')\n",
    "plt.title('Number of Passengers in Each Class on the Titanic')\n",
    "plt.show()"
   ]
  },
  {
   "cell_type": "code",
   "execution_count": 23,
   "id": "0ed88d06",
   "metadata": {
    "execution": {
     "iopub.execute_input": "2024-02-12T22:31:27.785669Z",
     "iopub.status.busy": "2024-02-12T22:31:27.785192Z",
     "iopub.status.idle": "2024-02-12T22:31:28.043508Z",
     "shell.execute_reply": "2024-02-12T22:31:28.042087Z"
    },
    "papermill": {
     "duration": 0.278459,
     "end_time": "2024-02-12T22:31:28.046206",
     "exception": false,
     "start_time": "2024-02-12T22:31:27.767747",
     "status": "completed"
    },
    "tags": []
   },
   "outputs": [
    {
     "data": {
      "image/png": "[encoded data removed]",
      "text/plain": [
       "<Figure size 640x480 with 1 Axes>"
      ]
     },
     "metadata": {},
     "output_type": "display_data"
    }
   ],
   "source": [
    "plt.hist(train_data['Age'].dropna(),bins=20, edgecolor='black')\n",
    "plt.xlabel('Age')\n",
    "plt.ylabel('Counts')\n",
    "plt.title('Distribution of Passenger Ages on the Titanic')\n",
    "plt.show()"
   ]
  },
  {
   "cell_type": "code",
   "execution_count": 24,
   "id": "dbb436e0",
   "metadata": {
    "execution": {
     "iopub.execute_input": "2024-02-12T22:31:28.083445Z",
     "iopub.status.busy": "2024-02-12T22:31:28.083016Z",
     "iopub.status.idle": "2024-02-12T22:31:28.205808Z",
     "shell.execute_reply": "2024-02-12T22:31:28.203806Z"
    },
    "papermill": {
     "duration": 0.144118,
     "end_time": "2024-02-12T22:31:28.208503",
     "exception": false,
     "start_time": "2024-02-12T22:31:28.064385",
     "status": "completed"
    },
    "tags": []
   },
   "outputs": [
    {
     "data": {
      "image/png": "[encoded data removed]",
      "text/plain": [
       "<Figure size 640x480 with 1 Axes>"
      ]
     },
     "metadata": {},
     "output_type": "display_data"
    }
   ],
   "source": [
    "plt.pie(train_data['Sex'].value_counts(),labels=[\"male\",\"female\"],autopct='%1.1f%%')\n",
    "plt.title('Percentage of Passengers by Gender')\n",
    "plt.show()"
   ]
  },
  {
   "cell_type": "code",
   "execution_count": 25,
   "id": "3d8eca70",
   "metadata": {
    "execution": {
     "iopub.execute_input": "2024-02-12T22:31:28.248748Z",
     "iopub.status.busy": "2024-02-12T22:31:28.248272Z",
     "iopub.status.idle": "2024-02-12T22:31:28.428936Z",
     "shell.execute_reply": "2024-02-12T22:31:28.427463Z"
    },
    "papermill": {
     "duration": 0.203667,
     "end_time": "2024-02-12T22:31:28.432010",
     "exception": false,
     "start_time": "2024-02-12T22:31:28.228343",
     "status": "completed"
    },
    "tags": []
   },
   "outputs": [
    {
     "data": {
      "image/png": "[encoded data removed]",
      "text/plain": [
       "<Figure size 640x480 with 1 Axes>"
      ]
     },
     "metadata": {},
     "output_type": "display_data"
    }
   ],
   "source": [
    "plt.boxplot(train_data['Fare'].dropna())\n",
    "         \n",
    "\n",
    "plt.xlabel('Fare')\n",
    "plt.ylabel('Fare Amount')\n",
    "plt.title('Distribution of Fares  on the Titanic')\n",
    "\n",
    "plt.show()"
   ]
  },
  {
   "cell_type": "code",
   "execution_count": 26,
   "id": "2d01d22c",
   "metadata": {
    "execution": {
     "iopub.execute_input": "2024-02-12T22:31:28.469790Z",
     "iopub.status.busy": "2024-02-12T22:31:28.469385Z",
     "iopub.status.idle": "2024-02-12T22:31:28.791833Z",
     "shell.execute_reply": "2024-02-12T22:31:28.790479Z"
    },
    "papermill": {
     "duration": 0.34396,
     "end_time": "2024-02-12T22:31:28.794360",
     "exception": false,
     "start_time": "2024-02-12T22:31:28.450400",
     "status": "completed"
    },
    "tags": []
   },
   "outputs": [
    {
     "data": {
      "image/png": "[encoded data removed]",
      "text/plain": [
       "<Figure size 640x480 with 1 Axes>"
      ]
     },
     "metadata": {},
     "output_type": "display_data"
    }
   ],
   "source": [
    "sns.violinplot(x=train_data[\"Pclass\"],y=train_data[\"Age\"])\n",
    "plt.xlabel('Passenger class')\n",
    "plt.ylabel('Age')\n",
    "plt.title('Violin Plot of Ages by Class')\n",
    "plt.show()"
   ]
  },
  {
   "cell_type": "code",
   "execution_count": 27,
   "id": "db08cf29",
   "metadata": {
    "execution": {
     "iopub.execute_input": "2024-02-12T22:31:28.831955Z",
     "iopub.status.busy": "2024-02-12T22:31:28.831555Z",
     "iopub.status.idle": "2024-02-12T22:31:29.088082Z",
     "shell.execute_reply": "2024-02-12T22:31:29.086703Z"
    },
    "papermill": {
     "duration": 0.279004,
     "end_time": "2024-02-12T22:31:29.090638",
     "exception": false,
     "start_time": "2024-02-12T22:31:28.811634",
     "status": "completed"
    },
    "tags": []
   },
   "outputs": [
    {
     "data": {
      "image/png": "[encoded data removed]",
      "text/plain": [
       "<Figure size 640x480 with 1 Axes>"
      ]
     },
     "metadata": {},
     "output_type": "display_data"
    }
   ],
   "source": [
    "sns.countplot(x='Survived',hue='Pclass',data=train_data,palette='rainbow')\n",
    "plt.xticks([0,1],['Not Survived','Survived'])\n",
    "plt.xlabel('Survival Status')\n",
    "plt.ylabel('Count')\n",
    "plt.title('Count Plot of Survival Status by Passenger Class')\n",
    "plt.show()"
   ]
  },
  {
   "cell_type": "code",
   "execution_count": 28,
   "id": "de3a9b3b",
   "metadata": {
    "execution": {
     "iopub.execute_input": "2024-02-12T22:31:29.129923Z",
     "iopub.status.busy": "2024-02-12T22:31:29.128937Z",
     "iopub.status.idle": "2024-02-12T22:31:29.137961Z",
     "shell.execute_reply": "2024-02-12T22:31:29.136729Z"
    },
    "papermill": {
     "duration": 0.031293,
     "end_time": "2024-02-12T22:31:29.140468",
     "exception": false,
     "start_time": "2024-02-12T22:31:29.109175",
     "status": "completed"
    },
    "tags": []
   },
   "outputs": [],
   "source": [
    "train_data['People_Related'] = train_data['SibSp'] + train_data['Parch']\n",
    "test_data['People_Related'] = test_data['SibSp'] + test_data['Parch']"
   ]
  },
  {
   "cell_type": "code",
   "execution_count": 29,
   "id": "7fabaa59",
   "metadata": {
    "execution": {
     "iopub.execute_input": "2024-02-12T22:31:29.180121Z",
     "iopub.status.busy": "2024-02-12T22:31:29.179515Z",
     "iopub.status.idle": "2024-02-12T22:31:29.198056Z",
     "shell.execute_reply": "2024-02-12T22:31:29.197171Z"
    },
    "papermill": {
     "duration": 0.041392,
     "end_time": "2024-02-12T22:31:29.200167",
     "exception": false,
     "start_time": "2024-02-12T22:31:29.158775",
     "status": "completed"
    },
    "tags": []
   },
   "outputs": [
    {
     "data": {
      "text/html": [
       "<div>\n",
       "<style scoped>\n",
       "    .dataframe tbody tr th:only-of-type {\n",
       "        vertical-align: middle;\n",
       "    }\n",
       "\n",
       "    .dataframe tbody tr th {\n",
       "        vertical-align: top;\n",
       "    }\n",
       "\n",
       "    .dataframe thead th {\n",
       "        text-align: right;\n",
       "    }\n",
       "</style>\n",
       "<table border=\"1\" class=\"dataframe\">\n",
       "  <thead>\n",
       "    <tr style=\"text-align: right;\">\n",
       "      <th></th>\n",
       "      <th>PassengerId</th>\n",
       "      <th>Survived</th>\n",
       "      <th>Pclass</th>\n",
       "      <th>Name</th>\n",
       "      <th>Sex</th>\n",
       "      <th>Age</th>\n",
       "      <th>SibSp</th>\n",
       "      <th>Parch</th>\n",
       "      <th>Ticket</th>\n",
       "      <th>Fare</th>\n",
       "      <th>Embarked</th>\n",
       "      <th>People_Related</th>\n",
       "    </tr>\n",
       "  </thead>\n",
       "  <tbody>\n",
       "    <tr>\n",
       "      <th>0</th>\n",
       "      <td>1</td>\n",
       "      <td>0</td>\n",
       "      <td>3</td>\n",
       "      <td>Braund, Mr. Owen Harris</td>\n",
       "      <td>male</td>\n",
       "      <td>22.0</td>\n",
       "      <td>1</td>\n",
       "      <td>0</td>\n",
       "      <td>A/5 21171</td>\n",
       "      <td>7.2500</td>\n",
       "      <td>S</td>\n",
       "      <td>1</td>\n",
       "    </tr>\n",
       "    <tr>\n",
       "      <th>1</th>\n",
       "      <td>2</td>\n",
       "      <td>1</td>\n",
       "      <td>1</td>\n",
       "      <td>Cumings, Mrs. John Bradley (Florence Briggs Th...</td>\n",
       "      <td>female</td>\n",
       "      <td>38.0</td>\n",
       "      <td>1</td>\n",
       "      <td>0</td>\n",
       "      <td>PC 17599</td>\n",
       "      <td>71.2833</td>\n",
       "      <td>C</td>\n",
       "      <td>1</td>\n",
       "    </tr>\n",
       "    <tr>\n",
       "      <th>2</th>\n",
       "      <td>3</td>\n",
       "      <td>1</td>\n",
       "      <td>3</td>\n",
       "      <td>Heikkinen, Miss. Laina</td>\n",
       "      <td>female</td>\n",
       "      <td>26.0</td>\n",
       "      <td>0</td>\n",
       "      <td>0</td>\n",
       "      <td>STON/O2. 3101282</td>\n",
       "      <td>7.9250</td>\n",
       "      <td>S</td>\n",
       "      <td>0</td>\n",
       "    </tr>\n",
       "    <tr>\n",
       "      <th>3</th>\n",
       "      <td>4</td>\n",
       "      <td>1</td>\n",
       "      <td>1</td>\n",
       "      <td>Futrelle, Mrs. Jacques Heath (Lily May Peel)</td>\n",
       "      <td>female</td>\n",
       "      <td>35.0</td>\n",
       "      <td>1</td>\n",
       "      <td>0</td>\n",
       "      <td>113803</td>\n",
       "      <td>53.1000</td>\n",
       "      <td>S</td>\n",
       "      <td>1</td>\n",
       "    </tr>\n",
       "    <tr>\n",
       "      <th>4</th>\n",
       "      <td>5</td>\n",
       "      <td>0</td>\n",
       "      <td>3</td>\n",
       "      <td>Allen, Mr. William Henry</td>\n",
       "      <td>male</td>\n",
       "      <td>35.0</td>\n",
       "      <td>0</td>\n",
       "      <td>0</td>\n",
       "      <td>373450</td>\n",
       "      <td>8.0500</td>\n",
       "      <td>S</td>\n",
       "      <td>0</td>\n",
       "    </tr>\n",
       "  </tbody>\n",
       "</table>\n",
       "</div>"
      ],
      "text/plain": [
       "   PassengerId  Survived  Pclass  \\\n",
       "0            1         0       3   \n",
       "1            2         1       1   \n",
       "2            3         1       3   \n",
       "3            4         1       1   \n",
       "4            5         0       3   \n",
       "\n",
       "                                                Name     Sex   Age  SibSp  \\\n",
       "0                            Braund, Mr. Owen Harris    male  22.0      1   \n",
       "1  Cumings, Mrs. John Bradley (Florence Briggs Th...  female  38.0      1   \n",
       "2                             Heikkinen, Miss. Laina  female  26.0      0   \n",
       "3       Futrelle, Mrs. Jacques Heath (Lily May Peel)  female  35.0      1   \n",
       "4                           Allen, Mr. William Henry    male  35.0      0   \n",
       "\n",
       "   Parch            Ticket     Fare Embarked  People_Related  \n",
       "0      0         A/5 21171   7.2500        S               1  \n",
       "1      0          PC 17599  71.2833        C               1  \n",
       "2      0  STON/O2. 3101282   7.9250        S               0  \n",
       "3      0            113803  53.1000        S               1  \n",
       "4      0            373450   8.0500        S               0  "
      ]
     },
     "execution_count": 29,
     "metadata": {},
     "output_type": "execute_result"
    }
   ],
   "source": [
    "train_data.head()"
   ]
  },
  {
   "cell_type": "code",
   "execution_count": 30,
   "id": "8582e48e",
   "metadata": {
    "execution": {
     "iopub.execute_input": "2024-02-12T22:31:29.242277Z",
     "iopub.status.busy": "2024-02-12T22:31:29.241461Z",
     "iopub.status.idle": "2024-02-12T22:31:29.258678Z",
     "shell.execute_reply": "2024-02-12T22:31:29.257110Z"
    },
    "papermill": {
     "duration": 0.041795,
     "end_time": "2024-02-12T22:31:29.261634",
     "exception": false,
     "start_time": "2024-02-12T22:31:29.219839",
     "status": "completed"
    },
    "tags": []
   },
   "outputs": [],
   "source": [
    "from sklearn.preprocessing import OneHotEncoder \n",
    "encoder = OneHotEncoder()\n",
    "\n",
    "encoded_values = encoder.fit_transform(train_data[['Sex', 'Embarked']]).toarray()\n",
    "encoded_df = pd.DataFrame(encoded_values, columns=encoder.get_feature_names_out(['Sex', 'Embarked']))\n",
    "df_encoded = pd.concat([train_data, encoded_df], axis=1)\n"
   ]
  },
  {
   "cell_type": "code",
   "execution_count": 31,
   "id": "48e38b67",
   "metadata": {
    "execution": {
     "iopub.execute_input": "2024-02-12T22:31:29.301251Z",
     "iopub.status.busy": "2024-02-12T22:31:29.300839Z",
     "iopub.status.idle": "2024-02-12T22:31:29.312104Z",
     "shell.execute_reply": "2024-02-12T22:31:29.310840Z"
    },
    "papermill": {
     "duration": 0.034585,
     "end_time": "2024-02-12T22:31:29.314929",
     "exception": false,
     "start_time": "2024-02-12T22:31:29.280344",
     "status": "completed"
    },
    "tags": []
   },
   "outputs": [],
   "source": [
    "test_encoded_values = encoder.fit_transform(test_data[['Sex', 'Embarked']]).toarray()\n",
    "test_encoded_df = pd.DataFrame(test_encoded_values, columns=encoder.get_feature_names_out(['Sex', 'Embarked']))\n",
    "test_df_encoded = pd.concat([test_data, test_encoded_df], axis=1)"
   ]
  },
  {
   "cell_type": "code",
   "execution_count": 32,
   "id": "4c7a7b18",
   "metadata": {
    "execution": {
     "iopub.execute_input": "2024-02-12T22:31:29.354568Z",
     "iopub.status.busy": "2024-02-12T22:31:29.354161Z",
     "iopub.status.idle": "2024-02-12T22:31:29.378221Z",
     "shell.execute_reply": "2024-02-12T22:31:29.377388Z"
    },
    "papermill": {
     "duration": 0.046706,
     "end_time": "2024-02-12T22:31:29.380233",
     "exception": false,
     "start_time": "2024-02-12T22:31:29.333527",
     "status": "completed"
    },
    "tags": []
   },
   "outputs": [
    {
     "data": {
      "text/html": [
       "<div>\n",
       "<style scoped>\n",
       "    .dataframe tbody tr th:only-of-type {\n",
       "        vertical-align: middle;\n",
       "    }\n",
       "\n",
       "    .dataframe tbody tr th {\n",
       "        vertical-align: top;\n",
       "    }\n",
       "\n",
       "    .dataframe thead th {\n",
       "        text-align: right;\n",
       "    }\n",
       "</style>\n",
       "<table border=\"1\" class=\"dataframe\">\n",
       "  <thead>\n",
       "    <tr style=\"text-align: right;\">\n",
       "      <th></th>\n",
       "      <th>PassengerId</th>\n",
       "      <th>Survived</th>\n",
       "      <th>Pclass</th>\n",
       "      <th>Name</th>\n",
       "      <th>Sex</th>\n",
       "      <th>Age</th>\n",
       "      <th>SibSp</th>\n",
       "      <th>Parch</th>\n",
       "      <th>Ticket</th>\n",
       "      <th>Fare</th>\n",
       "      <th>Embarked</th>\n",
       "      <th>People_Related</th>\n",
       "      <th>Sex_female</th>\n",
       "      <th>Sex_male</th>\n",
       "      <th>Embarked_C</th>\n",
       "      <th>Embarked_Q</th>\n",
       "      <th>Embarked_S</th>\n",
       "    </tr>\n",
       "  </thead>\n",
       "  <tbody>\n",
       "    <tr>\n",
       "      <th>0</th>\n",
       "      <td>1.0</td>\n",
       "      <td>0.0</td>\n",
       "      <td>3.0</td>\n",
       "      <td>Braund, Mr. Owen Harris</td>\n",
       "      <td>male</td>\n",
       "      <td>22.0</td>\n",
       "      <td>1.0</td>\n",
       "      <td>0.0</td>\n",
       "      <td>A/5 21171</td>\n",
       "      <td>7.2500</td>\n",
       "      <td>S</td>\n",
       "      <td>1.0</td>\n",
       "      <td>0.0</td>\n",
       "      <td>1.0</td>\n",
       "      <td>0.0</td>\n",
       "      <td>0.0</td>\n",
       "      <td>1.0</td>\n",
       "    </tr>\n",
       "    <tr>\n",
       "      <th>1</th>\n",
       "      <td>2.0</td>\n",
       "      <td>1.0</td>\n",
       "      <td>1.0</td>\n",
       "      <td>Cumings, Mrs. John Bradley (Florence Briggs Th...</td>\n",
       "      <td>female</td>\n",
       "      <td>38.0</td>\n",
       "      <td>1.0</td>\n",
       "      <td>0.0</td>\n",
       "      <td>PC 17599</td>\n",
       "      <td>71.2833</td>\n",
       "      <td>C</td>\n",
       "      <td>1.0</td>\n",
       "      <td>1.0</td>\n",
       "      <td>0.0</td>\n",
       "      <td>1.0</td>\n",
       "      <td>0.0</td>\n",
       "      <td>0.0</td>\n",
       "    </tr>\n",
       "    <tr>\n",
       "      <th>2</th>\n",
       "      <td>3.0</td>\n",
       "      <td>1.0</td>\n",
       "      <td>3.0</td>\n",
       "      <td>Heikkinen, Miss. Laina</td>\n",
       "      <td>female</td>\n",
       "      <td>26.0</td>\n",
       "      <td>0.0</td>\n",
       "      <td>0.0</td>\n",
       "      <td>STON/O2. 3101282</td>\n",
       "      <td>7.9250</td>\n",
       "      <td>S</td>\n",
       "      <td>0.0</td>\n",
       "      <td>1.0</td>\n",
       "      <td>0.0</td>\n",
       "      <td>0.0</td>\n",
       "      <td>0.0</td>\n",
       "      <td>1.0</td>\n",
       "    </tr>\n",
       "    <tr>\n",
       "      <th>3</th>\n",
       "      <td>4.0</td>\n",
       "      <td>1.0</td>\n",
       "      <td>1.0</td>\n",
       "      <td>Futrelle, Mrs. Jacques Heath (Lily May Peel)</td>\n",
       "      <td>female</td>\n",
       "      <td>35.0</td>\n",
       "      <td>1.0</td>\n",
       "      <td>0.0</td>\n",
       "      <td>113803</td>\n",
       "      <td>53.1000</td>\n",
       "      <td>S</td>\n",
       "      <td>1.0</td>\n",
       "      <td>1.0</td>\n",
       "      <td>0.0</td>\n",
       "      <td>0.0</td>\n",
       "      <td>0.0</td>\n",
       "      <td>1.0</td>\n",
       "    </tr>\n",
       "    <tr>\n",
       "      <th>4</th>\n",
       "      <td>5.0</td>\n",
       "      <td>0.0</td>\n",
       "      <td>3.0</td>\n",
       "      <td>Allen, Mr. William Henry</td>\n",
       "      <td>male</td>\n",
       "      <td>35.0</td>\n",
       "      <td>0.0</td>\n",
       "      <td>0.0</td>\n",
       "      <td>373450</td>\n",
       "      <td>8.0500</td>\n",
       "      <td>S</td>\n",
       "      <td>0.0</td>\n",
       "      <td>0.0</td>\n",
       "      <td>1.0</td>\n",
       "      <td>0.0</td>\n",
       "      <td>0.0</td>\n",
       "      <td>1.0</td>\n",
       "    </tr>\n",
       "  </tbody>\n",
       "</table>\n",
       "</div>"
      ],
      "text/plain": [
       "   PassengerId  Survived  Pclass  \\\n",
       "0          1.0       0.0     3.0   \n",
       "1          2.0       1.0     1.0   \n",
       "2          3.0       1.0     3.0   \n",
       "3          4.0       1.0     1.0   \n",
       "4          5.0       0.0     3.0   \n",
       "\n",
       "                                                Name     Sex   Age  SibSp  \\\n",
       "0                            Braund, Mr. Owen Harris    male  22.0    1.0   \n",
       "1  Cumings, Mrs. John Bradley (Florence Briggs Th...  female  38.0    1.0   \n",
       "2                             Heikkinen, Miss. Laina  female  26.0    0.0   \n",
       "3       Futrelle, Mrs. Jacques Heath (Lily May Peel)  female  35.0    1.0   \n",
       "4                           Allen, Mr. William Henry    male  35.0    0.0   \n",
       "\n",
       "   Parch            Ticket     Fare Embarked  People_Related  Sex_female  \\\n",
       "0    0.0         A/5 21171   7.2500        S             1.0         0.0   \n",
       "1    0.0          PC 17599  71.2833        C             1.0         1.0   \n",
       "2    0.0  STON/O2. 3101282   7.9250        S             0.0         1.0   \n",
       "3    0.0            113803  53.1000        S             1.0         1.0   \n",
       "4    0.0            373450   8.0500        S             0.0         0.0   \n",
       "\n",
       "   Sex_male  Embarked_C  Embarked_Q  Embarked_S  \n",
       "0       1.0         0.0         0.0         1.0  \n",
       "1       0.0         1.0         0.0         0.0  \n",
       "2       0.0         0.0         0.0         1.0  \n",
       "3       0.0         0.0         0.0         1.0  \n",
       "4       1.0         0.0         0.0         1.0  "
      ]
     },
     "execution_count": 32,
     "metadata": {},
     "output_type": "execute_result"
    }
   ],
   "source": [
    "df_encoded.head()"
   ]
  },
  {
   "cell_type": "code",
   "execution_count": 33,
   "id": "ed46b5b3",
   "metadata": {
    "execution": {
     "iopub.execute_input": "2024-02-12T22:31:29.421965Z",
     "iopub.status.busy": "2024-02-12T22:31:29.420937Z",
     "iopub.status.idle": "2024-02-12T22:31:29.444633Z",
     "shell.execute_reply": "2024-02-12T22:31:29.443742Z"
    },
    "papermill": {
     "duration": 0.047751,
     "end_time": "2024-02-12T22:31:29.446953",
     "exception": false,
     "start_time": "2024-02-12T22:31:29.399202",
     "status": "completed"
    },
    "tags": []
   },
   "outputs": [
    {
     "data": {
      "text/html": [
       "<div>\n",
       "<style scoped>\n",
       "    .dataframe tbody tr th:only-of-type {\n",
       "        vertical-align: middle;\n",
       "    }\n",
       "\n",
       "    .dataframe tbody tr th {\n",
       "        vertical-align: top;\n",
       "    }\n",
       "\n",
       "    .dataframe thead th {\n",
       "        text-align: right;\n",
       "    }\n",
       "</style>\n",
       "<table border=\"1\" class=\"dataframe\">\n",
       "  <thead>\n",
       "    <tr style=\"text-align: right;\">\n",
       "      <th></th>\n",
       "      <th>PassengerId</th>\n",
       "      <th>Pclass</th>\n",
       "      <th>Name</th>\n",
       "      <th>Sex</th>\n",
       "      <th>Age</th>\n",
       "      <th>SibSp</th>\n",
       "      <th>Parch</th>\n",
       "      <th>Ticket</th>\n",
       "      <th>Fare</th>\n",
       "      <th>Embarked</th>\n",
       "      <th>People_Related</th>\n",
       "      <th>Sex_female</th>\n",
       "      <th>Sex_male</th>\n",
       "      <th>Embarked_C</th>\n",
       "      <th>Embarked_Q</th>\n",
       "      <th>Embarked_S</th>\n",
       "    </tr>\n",
       "  </thead>\n",
       "  <tbody>\n",
       "    <tr>\n",
       "      <th>0</th>\n",
       "      <td>892.0</td>\n",
       "      <td>3.0</td>\n",
       "      <td>Kelly, Mr. James</td>\n",
       "      <td>male</td>\n",
       "      <td>34.5</td>\n",
       "      <td>0.0</td>\n",
       "      <td>0.0</td>\n",
       "      <td>330911</td>\n",
       "      <td>7.8292</td>\n",
       "      <td>Q</td>\n",
       "      <td>0.0</td>\n",
       "      <td>0.0</td>\n",
       "      <td>1.0</td>\n",
       "      <td>0.0</td>\n",
       "      <td>1.0</td>\n",
       "      <td>0.0</td>\n",
       "    </tr>\n",
       "    <tr>\n",
       "      <th>1</th>\n",
       "      <td>893.0</td>\n",
       "      <td>3.0</td>\n",
       "      <td>Wilkes, Mrs. James (Ellen Needs)</td>\n",
       "      <td>female</td>\n",
       "      <td>47.0</td>\n",
       "      <td>1.0</td>\n",
       "      <td>0.0</td>\n",
       "      <td>363272</td>\n",
       "      <td>7.0000</td>\n",
       "      <td>S</td>\n",
       "      <td>1.0</td>\n",
       "      <td>1.0</td>\n",
       "      <td>0.0</td>\n",
       "      <td>0.0</td>\n",
       "      <td>0.0</td>\n",
       "      <td>1.0</td>\n",
       "    </tr>\n",
       "    <tr>\n",
       "      <th>2</th>\n",
       "      <td>894.0</td>\n",
       "      <td>2.0</td>\n",
       "      <td>Myles, Mr. Thomas Francis</td>\n",
       "      <td>male</td>\n",
       "      <td>62.0</td>\n",
       "      <td>0.0</td>\n",
       "      <td>0.0</td>\n",
       "      <td>240276</td>\n",
       "      <td>9.6875</td>\n",
       "      <td>Q</td>\n",
       "      <td>0.0</td>\n",
       "      <td>0.0</td>\n",
       "      <td>1.0</td>\n",
       "      <td>0.0</td>\n",
       "      <td>1.0</td>\n",
       "      <td>0.0</td>\n",
       "    </tr>\n",
       "    <tr>\n",
       "      <th>3</th>\n",
       "      <td>895.0</td>\n",
       "      <td>3.0</td>\n",
       "      <td>Wirz, Mr. Albert</td>\n",
       "      <td>male</td>\n",
       "      <td>27.0</td>\n",
       "      <td>0.0</td>\n",
       "      <td>0.0</td>\n",
       "      <td>315154</td>\n",
       "      <td>8.6625</td>\n",
       "      <td>S</td>\n",
       "      <td>0.0</td>\n",
       "      <td>0.0</td>\n",
       "      <td>1.0</td>\n",
       "      <td>0.0</td>\n",
       "      <td>0.0</td>\n",
       "      <td>1.0</td>\n",
       "    </tr>\n",
       "    <tr>\n",
       "      <th>4</th>\n",
       "      <td>896.0</td>\n",
       "      <td>3.0</td>\n",
       "      <td>Hirvonen, Mrs. Alexander (Helga E Lindqvist)</td>\n",
       "      <td>female</td>\n",
       "      <td>22.0</td>\n",
       "      <td>1.0</td>\n",
       "      <td>1.0</td>\n",
       "      <td>3101298</td>\n",
       "      <td>12.2875</td>\n",
       "      <td>S</td>\n",
       "      <td>2.0</td>\n",
       "      <td>1.0</td>\n",
       "      <td>0.0</td>\n",
       "      <td>0.0</td>\n",
       "      <td>0.0</td>\n",
       "      <td>1.0</td>\n",
       "    </tr>\n",
       "  </tbody>\n",
       "</table>\n",
       "</div>"
      ],
      "text/plain": [
       "   PassengerId  Pclass                                          Name     Sex  \\\n",
       "0        892.0     3.0                              Kelly, Mr. James    male   \n",
       "1        893.0     3.0              Wilkes, Mrs. James (Ellen Needs)  female   \n",
       "2        894.0     2.0                     Myles, Mr. Thomas Francis    male   \n",
       "3        895.0     3.0                              Wirz, Mr. Albert    male   \n",
       "4        896.0     3.0  Hirvonen, Mrs. Alexander (Helga E Lindqvist)  female   \n",
       "\n",
       "    Age  SibSp  Parch   Ticket     Fare Embarked  People_Related  Sex_female  \\\n",
       "0  34.5    0.0    0.0   330911   7.8292        Q             0.0         0.0   \n",
       "1  47.0    1.0    0.0   363272   7.0000        S             1.0         1.0   \n",
       "2  62.0    0.0    0.0   240276   9.6875        Q             0.0         0.0   \n",
       "3  27.0    0.0    0.0   315154   8.6625        S             0.0         0.0   \n",
       "4  22.0    1.0    1.0  3101298  12.2875        S             2.0         1.0   \n",
       "\n",
       "   Sex_male  Embarked_C  Embarked_Q  Embarked_S  \n",
       "0       1.0         0.0         1.0         0.0  \n",
       "1       0.0         0.0         0.0         1.0  \n",
       "2       1.0         0.0         1.0         0.0  \n",
       "3       1.0         0.0         0.0         1.0  \n",
       "4       0.0         0.0         0.0         1.0  "
      ]
     },
     "execution_count": 33,
     "metadata": {},
     "output_type": "execute_result"
    }
   ],
   "source": [
    "test_df_encoded.head()"
   ]
  },
  {
   "cell_type": "code",
   "execution_count": 34,
   "id": "4708df2e",
   "metadata": {
    "execution": {
     "iopub.execute_input": "2024-02-12T22:31:29.487749Z",
     "iopub.status.busy": "2024-02-12T22:31:29.487303Z",
     "iopub.status.idle": "2024-02-12T22:31:29.495827Z",
     "shell.execute_reply": "2024-02-12T22:31:29.494176Z"
    },
    "papermill": {
     "duration": 0.032233,
     "end_time": "2024-02-12T22:31:29.498441",
     "exception": false,
     "start_time": "2024-02-12T22:31:29.466208",
     "status": "completed"
    },
    "tags": []
   },
   "outputs": [],
   "source": [
    "df_encoded.drop(columns =['Name','Ticket','SibSp','Parch','Ticket','Sex','Embarked'],inplace = True)\n",
    "test_df_encoded.drop(columns =['Name','Ticket','SibSp','Parch','Ticket','Sex','Embarked'],inplace = True)"
   ]
  },
  {
   "cell_type": "code",
   "execution_count": 35,
   "id": "ae0d1159",
   "metadata": {
    "execution": {
     "iopub.execute_input": "2024-02-12T22:31:29.542331Z",
     "iopub.status.busy": "2024-02-12T22:31:29.541908Z",
     "iopub.status.idle": "2024-02-12T22:31:29.564413Z",
     "shell.execute_reply": "2024-02-12T22:31:29.563275Z"
    },
    "papermill": {
     "duration": 0.049219,
     "end_time": "2024-02-12T22:31:29.568184",
     "exception": false,
     "start_time": "2024-02-12T22:31:29.518965",
     "status": "completed"
    },
    "tags": []
   },
   "outputs": [
    {
     "data": {
      "text/html": [
       "<div>\n",
       "<style scoped>\n",
       "    .dataframe tbody tr th:only-of-type {\n",
       "        vertical-align: middle;\n",
       "    }\n",
       "\n",
       "    .dataframe tbody tr th {\n",
       "        vertical-align: top;\n",
       "    }\n",
       "\n",
       "    .dataframe thead th {\n",
       "        text-align: right;\n",
       "    }\n",
       "</style>\n",
       "<table border=\"1\" class=\"dataframe\">\n",
       "  <thead>\n",
       "    <tr style=\"text-align: right;\">\n",
       "      <th></th>\n",
       "      <th>PassengerId</th>\n",
       "      <th>Survived</th>\n",
       "      <th>Pclass</th>\n",
       "      <th>Age</th>\n",
       "      <th>Fare</th>\n",
       "      <th>People_Related</th>\n",
       "      <th>Sex_female</th>\n",
       "      <th>Sex_male</th>\n",
       "      <th>Embarked_C</th>\n",
       "      <th>Embarked_Q</th>\n",
       "      <th>Embarked_S</th>\n",
       "    </tr>\n",
       "  </thead>\n",
       "  <tbody>\n",
       "    <tr>\n",
       "      <th>0</th>\n",
       "      <td>1.0</td>\n",
       "      <td>0.0</td>\n",
       "      <td>3.0</td>\n",
       "      <td>22.0</td>\n",
       "      <td>7.2500</td>\n",
       "      <td>1.0</td>\n",
       "      <td>0.0</td>\n",
       "      <td>1.0</td>\n",
       "      <td>0.0</td>\n",
       "      <td>0.0</td>\n",
       "      <td>1.0</td>\n",
       "    </tr>\n",
       "    <tr>\n",
       "      <th>1</th>\n",
       "      <td>2.0</td>\n",
       "      <td>1.0</td>\n",
       "      <td>1.0</td>\n",
       "      <td>38.0</td>\n",
       "      <td>71.2833</td>\n",
       "      <td>1.0</td>\n",
       "      <td>1.0</td>\n",
       "      <td>0.0</td>\n",
       "      <td>1.0</td>\n",
       "      <td>0.0</td>\n",
       "      <td>0.0</td>\n",
       "    </tr>\n",
       "    <tr>\n",
       "      <th>2</th>\n",
       "      <td>3.0</td>\n",
       "      <td>1.0</td>\n",
       "      <td>3.0</td>\n",
       "      <td>26.0</td>\n",
       "      <td>7.9250</td>\n",
       "      <td>0.0</td>\n",
       "      <td>1.0</td>\n",
       "      <td>0.0</td>\n",
       "      <td>0.0</td>\n",
       "      <td>0.0</td>\n",
       "      <td>1.0</td>\n",
       "    </tr>\n",
       "    <tr>\n",
       "      <th>3</th>\n",
       "      <td>4.0</td>\n",
       "      <td>1.0</td>\n",
       "      <td>1.0</td>\n",
       "      <td>35.0</td>\n",
       "      <td>53.1000</td>\n",
       "      <td>1.0</td>\n",
       "      <td>1.0</td>\n",
       "      <td>0.0</td>\n",
       "      <td>0.0</td>\n",
       "      <td>0.0</td>\n",
       "      <td>1.0</td>\n",
       "    </tr>\n",
       "    <tr>\n",
       "      <th>4</th>\n",
       "      <td>5.0</td>\n",
       "      <td>0.0</td>\n",
       "      <td>3.0</td>\n",
       "      <td>35.0</td>\n",
       "      <td>8.0500</td>\n",
       "      <td>0.0</td>\n",
       "      <td>0.0</td>\n",
       "      <td>1.0</td>\n",
       "      <td>0.0</td>\n",
       "      <td>0.0</td>\n",
       "      <td>1.0</td>\n",
       "    </tr>\n",
       "  </tbody>\n",
       "</table>\n",
       "</div>"
      ],
      "text/plain": [
       "   PassengerId  Survived  Pclass   Age     Fare  People_Related  Sex_female  \\\n",
       "0          1.0       0.0     3.0  22.0   7.2500             1.0         0.0   \n",
       "1          2.0       1.0     1.0  38.0  71.2833             1.0         1.0   \n",
       "2          3.0       1.0     3.0  26.0   7.9250             0.0         1.0   \n",
       "3          4.0       1.0     1.0  35.0  53.1000             1.0         1.0   \n",
       "4          5.0       0.0     3.0  35.0   8.0500             0.0         0.0   \n",
       "\n",
       "   Sex_male  Embarked_C  Embarked_Q  Embarked_S  \n",
       "0       1.0         0.0         0.0         1.0  \n",
       "1       0.0         1.0         0.0         0.0  \n",
       "2       0.0         0.0         0.0         1.0  \n",
       "3       0.0         0.0         0.0         1.0  \n",
       "4       1.0         0.0         0.0         1.0  "
      ]
     },
     "execution_count": 35,
     "metadata": {},
     "output_type": "execute_result"
    }
   ],
   "source": [
    "df_encoded.head()"
   ]
  },
  {
   "cell_type": "code",
   "execution_count": 36,
   "id": "314de0aa",
   "metadata": {
    "execution": {
     "iopub.execute_input": "2024-02-12T22:31:29.621058Z",
     "iopub.status.busy": "2024-02-12T22:31:29.620216Z",
     "iopub.status.idle": "2024-02-12T22:31:29.643313Z",
     "shell.execute_reply": "2024-02-12T22:31:29.642068Z"
    },
    "papermill": {
     "duration": 0.050177,
     "end_time": "2024-02-12T22:31:29.646755",
     "exception": false,
     "start_time": "2024-02-12T22:31:29.596578",
     "status": "completed"
    },
    "tags": []
   },
   "outputs": [
    {
     "data": {
      "text/html": [
       "<div>\n",
       "<style scoped>\n",
       "    .dataframe tbody tr th:only-of-type {\n",
       "        vertical-align: middle;\n",
       "    }\n",
       "\n",
       "    .dataframe tbody tr th {\n",
       "        vertical-align: top;\n",
       "    }\n",
       "\n",
       "    .dataframe thead th {\n",
       "        text-align: right;\n",
       "    }\n",
       "</style>\n",
       "<table border=\"1\" class=\"dataframe\">\n",
       "  <thead>\n",
       "    <tr style=\"text-align: right;\">\n",
       "      <th></th>\n",
       "      <th>PassengerId</th>\n",
       "      <th>Pclass</th>\n",
       "      <th>Age</th>\n",
       "      <th>Fare</th>\n",
       "      <th>People_Related</th>\n",
       "      <th>Sex_female</th>\n",
       "      <th>Sex_male</th>\n",
       "      <th>Embarked_C</th>\n",
       "      <th>Embarked_Q</th>\n",
       "      <th>Embarked_S</th>\n",
       "    </tr>\n",
       "  </thead>\n",
       "  <tbody>\n",
       "    <tr>\n",
       "      <th>0</th>\n",
       "      <td>892.0</td>\n",
       "      <td>3.0</td>\n",
       "      <td>34.5</td>\n",
       "      <td>7.8292</td>\n",
       "      <td>0.0</td>\n",
       "      <td>0.0</td>\n",
       "      <td>1.0</td>\n",
       "      <td>0.0</td>\n",
       "      <td>1.0</td>\n",
       "      <td>0.0</td>\n",
       "    </tr>\n",
       "    <tr>\n",
       "      <th>1</th>\n",
       "      <td>893.0</td>\n",
       "      <td>3.0</td>\n",
       "      <td>47.0</td>\n",
       "      <td>7.0000</td>\n",
       "      <td>1.0</td>\n",
       "      <td>1.0</td>\n",
       "      <td>0.0</td>\n",
       "      <td>0.0</td>\n",
       "      <td>0.0</td>\n",
       "      <td>1.0</td>\n",
       "    </tr>\n",
       "    <tr>\n",
       "      <th>2</th>\n",
       "      <td>894.0</td>\n",
       "      <td>2.0</td>\n",
       "      <td>62.0</td>\n",
       "      <td>9.6875</td>\n",
       "      <td>0.0</td>\n",
       "      <td>0.0</td>\n",
       "      <td>1.0</td>\n",
       "      <td>0.0</td>\n",
       "      <td>1.0</td>\n",
       "      <td>0.0</td>\n",
       "    </tr>\n",
       "    <tr>\n",
       "      <th>3</th>\n",
       "      <td>895.0</td>\n",
       "      <td>3.0</td>\n",
       "      <td>27.0</td>\n",
       "      <td>8.6625</td>\n",
       "      <td>0.0</td>\n",
       "      <td>0.0</td>\n",
       "      <td>1.0</td>\n",
       "      <td>0.0</td>\n",
       "      <td>0.0</td>\n",
       "      <td>1.0</td>\n",
       "    </tr>\n",
       "    <tr>\n",
       "      <th>4</th>\n",
       "      <td>896.0</td>\n",
       "      <td>3.0</td>\n",
       "      <td>22.0</td>\n",
       "      <td>12.2875</td>\n",
       "      <td>2.0</td>\n",
       "      <td>1.0</td>\n",
       "      <td>0.0</td>\n",
       "      <td>0.0</td>\n",
       "      <td>0.0</td>\n",
       "      <td>1.0</td>\n",
       "    </tr>\n",
       "  </tbody>\n",
       "</table>\n",
       "</div>"
      ],
      "text/plain": [
       "   PassengerId  Pclass   Age     Fare  People_Related  Sex_female  Sex_male  \\\n",
       "0        892.0     3.0  34.5   7.8292             0.0         0.0       1.0   \n",
       "1        893.0     3.0  47.0   7.0000             1.0         1.0       0.0   \n",
       "2        894.0     2.0  62.0   9.6875             0.0         0.0       1.0   \n",
       "3        895.0     3.0  27.0   8.6625             0.0         0.0       1.0   \n",
       "4        896.0     3.0  22.0  12.2875             2.0         1.0       0.0   \n",
       "\n",
       "   Embarked_C  Embarked_Q  Embarked_S  \n",
       "0         0.0         1.0         0.0  \n",
       "1         0.0         0.0         1.0  \n",
       "2         0.0         1.0         0.0  \n",
       "3         0.0         0.0         1.0  \n",
       "4         0.0         0.0         1.0  "
      ]
     },
     "execution_count": 36,
     "metadata": {},
     "output_type": "execute_result"
    }
   ],
   "source": [
    "test_df_encoded.head()"
   ]
  },
  {
   "cell_type": "code",
   "execution_count": 37,
   "id": "c18ff908",
   "metadata": {
    "execution": {
     "iopub.execute_input": "2024-02-12T22:31:29.699726Z",
     "iopub.status.busy": "2024-02-12T22:31:29.699280Z",
     "iopub.status.idle": "2024-02-12T22:31:29.711412Z",
     "shell.execute_reply": "2024-02-12T22:31:29.709627Z"
    },
    "papermill": {
     "duration": 0.043762,
     "end_time": "2024-02-12T22:31:29.715725",
     "exception": false,
     "start_time": "2024-02-12T22:31:29.671963",
     "status": "completed"
    },
    "tags": []
   },
   "outputs": [],
   "source": [
    "test_df_encoded.isnull().sum()\n",
    "test_df_encoded.dropna(inplace = True)"
   ]
  },
  {
   "cell_type": "code",
   "execution_count": 38,
   "id": "37a48b72",
   "metadata": {
    "execution": {
     "iopub.execute_input": "2024-02-12T22:31:29.762377Z",
     "iopub.status.busy": "2024-02-12T22:31:29.761859Z",
     "iopub.status.idle": "2024-02-12T22:31:29.772418Z",
     "shell.execute_reply": "2024-02-12T22:31:29.771039Z"
    },
    "papermill": {
     "duration": 0.037852,
     "end_time": "2024-02-12T22:31:29.775863",
     "exception": false,
     "start_time": "2024-02-12T22:31:29.738011",
     "status": "completed"
    },
    "tags": []
   },
   "outputs": [
    {
     "data": {
      "text/plain": [
       "PassengerId       0\n",
       "Pclass            0\n",
       "Age               0\n",
       "Fare              0\n",
       "People_Related    0\n",
       "Sex_female        0\n",
       "Sex_male          0\n",
       "Embarked_C        0\n",
       "Embarked_Q        0\n",
       "Embarked_S        0\n",
       "dtype: int64"
      ]
     },
     "execution_count": 38,
     "metadata": {},
     "output_type": "execute_result"
    }
   ],
   "source": [
    "test_df_encoded.isnull().sum()"
   ]
  },
  {
   "cell_type": "code",
   "execution_count": 39,
   "id": "c15f2c17",
   "metadata": {
    "execution": {
     "iopub.execute_input": "2024-02-12T22:31:29.830121Z",
     "iopub.status.busy": "2024-02-12T22:31:29.829425Z",
     "iopub.status.idle": "2024-02-12T22:31:29.840373Z",
     "shell.execute_reply": "2024-02-12T22:31:29.839069Z"
    },
    "papermill": {
     "duration": 0.0416,
     "end_time": "2024-02-12T22:31:29.843161",
     "exception": false,
     "start_time": "2024-02-12T22:31:29.801561",
     "status": "completed"
    },
    "tags": []
   },
   "outputs": [
    {
     "data": {
      "text/plain": [
       "PassengerId       2\n",
       "Survived          2\n",
       "Pclass            2\n",
       "Age               2\n",
       "Fare              2\n",
       "People_Related    2\n",
       "Sex_female        2\n",
       "Sex_male          2\n",
       "Embarked_C        2\n",
       "Embarked_Q        2\n",
       "Embarked_S        2\n",
       "dtype: int64"
      ]
     },
     "execution_count": 39,
     "metadata": {},
     "output_type": "execute_result"
    }
   ],
   "source": [
    "df_encoded.isna().sum()"
   ]
  },
  {
   "cell_type": "code",
   "execution_count": 40,
   "id": "e9243fc0",
   "metadata": {
    "execution": {
     "iopub.execute_input": "2024-02-12T22:31:29.892168Z",
     "iopub.status.busy": "2024-02-12T22:31:29.891484Z",
     "iopub.status.idle": "2024-02-12T22:31:29.899301Z",
     "shell.execute_reply": "2024-02-12T22:31:29.897947Z"
    },
    "papermill": {
     "duration": 0.036328,
     "end_time": "2024-02-12T22:31:29.902128",
     "exception": false,
     "start_time": "2024-02-12T22:31:29.865800",
     "status": "completed"
    },
    "tags": []
   },
   "outputs": [],
   "source": [
    "df_encoded.dropna(inplace = True)"
   ]
  },
  {
   "cell_type": "code",
   "execution_count": 41,
   "id": "7feef324",
   "metadata": {
    "execution": {
     "iopub.execute_input": "2024-02-12T22:31:29.957559Z",
     "iopub.status.busy": "2024-02-12T22:31:29.957114Z",
     "iopub.status.idle": "2024-02-12T22:31:29.979821Z",
     "shell.execute_reply": "2024-02-12T22:31:29.978682Z"
    },
    "papermill": {
     "duration": 0.054986,
     "end_time": "2024-02-12T22:31:29.982261",
     "exception": false,
     "start_time": "2024-02-12T22:31:29.927275",
     "status": "completed"
    },
    "tags": []
   },
   "outputs": [
    {
     "data": {
      "text/html": [
       "<div>\n",
       "<style scoped>\n",
       "    .dataframe tbody tr th:only-of-type {\n",
       "        vertical-align: middle;\n",
       "    }\n",
       "\n",
       "    .dataframe tbody tr th {\n",
       "        vertical-align: top;\n",
       "    }\n",
       "\n",
       "    .dataframe thead th {\n",
       "        text-align: right;\n",
       "    }\n",
       "</style>\n",
       "<table border=\"1\" class=\"dataframe\">\n",
       "  <thead>\n",
       "    <tr style=\"text-align: right;\">\n",
       "      <th></th>\n",
       "      <th>Pclass</th>\n",
       "      <th>Age</th>\n",
       "      <th>Fare</th>\n",
       "      <th>People_Related</th>\n",
       "      <th>Sex_female</th>\n",
       "      <th>Sex_male</th>\n",
       "      <th>Embarked_C</th>\n",
       "      <th>Embarked_Q</th>\n",
       "      <th>Embarked_S</th>\n",
       "    </tr>\n",
       "  </thead>\n",
       "  <tbody>\n",
       "    <tr>\n",
       "      <th>0</th>\n",
       "      <td>3.0</td>\n",
       "      <td>22.0</td>\n",
       "      <td>7.2500</td>\n",
       "      <td>1.0</td>\n",
       "      <td>0.0</td>\n",
       "      <td>1.0</td>\n",
       "      <td>0.0</td>\n",
       "      <td>0.0</td>\n",
       "      <td>1.0</td>\n",
       "    </tr>\n",
       "    <tr>\n",
       "      <th>1</th>\n",
       "      <td>1.0</td>\n",
       "      <td>38.0</td>\n",
       "      <td>71.2833</td>\n",
       "      <td>1.0</td>\n",
       "      <td>1.0</td>\n",
       "      <td>0.0</td>\n",
       "      <td>1.0</td>\n",
       "      <td>0.0</td>\n",
       "      <td>0.0</td>\n",
       "    </tr>\n",
       "    <tr>\n",
       "      <th>2</th>\n",
       "      <td>3.0</td>\n",
       "      <td>26.0</td>\n",
       "      <td>7.9250</td>\n",
       "      <td>0.0</td>\n",
       "      <td>1.0</td>\n",
       "      <td>0.0</td>\n",
       "      <td>0.0</td>\n",
       "      <td>0.0</td>\n",
       "      <td>1.0</td>\n",
       "    </tr>\n",
       "    <tr>\n",
       "      <th>3</th>\n",
       "      <td>1.0</td>\n",
       "      <td>35.0</td>\n",
       "      <td>53.1000</td>\n",
       "      <td>1.0</td>\n",
       "      <td>1.0</td>\n",
       "      <td>0.0</td>\n",
       "      <td>0.0</td>\n",
       "      <td>0.0</td>\n",
       "      <td>1.0</td>\n",
       "    </tr>\n",
       "    <tr>\n",
       "      <th>4</th>\n",
       "      <td>3.0</td>\n",
       "      <td>35.0</td>\n",
       "      <td>8.0500</td>\n",
       "      <td>0.0</td>\n",
       "      <td>0.0</td>\n",
       "      <td>1.0</td>\n",
       "      <td>0.0</td>\n",
       "      <td>0.0</td>\n",
       "      <td>1.0</td>\n",
       "    </tr>\n",
       "  </tbody>\n",
       "</table>\n",
       "</div>"
      ],
      "text/plain": [
       "   Pclass   Age     Fare  People_Related  Sex_female  Sex_male  Embarked_C  \\\n",
       "0     3.0  22.0   7.2500             1.0         0.0       1.0         0.0   \n",
       "1     1.0  38.0  71.2833             1.0         1.0       0.0         1.0   \n",
       "2     3.0  26.0   7.9250             0.0         1.0       0.0         0.0   \n",
       "3     1.0  35.0  53.1000             1.0         1.0       0.0         0.0   \n",
       "4     3.0  35.0   8.0500             0.0         0.0       1.0         0.0   \n",
       "\n",
       "   Embarked_Q  Embarked_S  \n",
       "0         0.0         1.0  \n",
       "1         0.0         0.0  \n",
       "2         0.0         1.0  \n",
       "3         0.0         1.0  \n",
       "4         0.0         1.0  "
      ]
     },
     "execution_count": 41,
     "metadata": {},
     "output_type": "execute_result"
    }
   ],
   "source": [
    "X_train = df_encoded.iloc[:,2:]\n",
    "y_train = df_encoded['Survived']\n",
    "y_train.isnull().sum()\n",
    "X_train.head()"
   ]
  },
  {
   "cell_type": "code",
   "execution_count": 42,
   "id": "a905c1a6",
   "metadata": {
    "execution": {
     "iopub.execute_input": "2024-02-12T22:31:30.036307Z",
     "iopub.status.busy": "2024-02-12T22:31:30.035730Z",
     "iopub.status.idle": "2024-02-12T22:31:30.045141Z",
     "shell.execute_reply": "2024-02-12T22:31:30.043467Z"
    },
    "papermill": {
     "duration": 0.043087,
     "end_time": "2024-02-12T22:31:30.048848",
     "exception": false,
     "start_time": "2024-02-12T22:31:30.005761",
     "status": "completed"
    },
    "tags": []
   },
   "outputs": [
    {
     "data": {
      "text/plain": [
       "(885, 9)"
      ]
     },
     "execution_count": 42,
     "metadata": {},
     "output_type": "execute_result"
    }
   ],
   "source": [
    "X_train.shape"
   ]
  },
  {
   "cell_type": "code",
   "execution_count": 43,
   "id": "93684491",
   "metadata": {
    "execution": {
     "iopub.execute_input": "2024-02-12T22:31:30.100765Z",
     "iopub.status.busy": "2024-02-12T22:31:30.100055Z",
     "iopub.status.idle": "2024-02-12T22:31:30.108866Z",
     "shell.execute_reply": "2024-02-12T22:31:30.107507Z"
    },
    "papermill": {
     "duration": 0.039019,
     "end_time": "2024-02-12T22:31:30.114290",
     "exception": false,
     "start_time": "2024-02-12T22:31:30.075271",
     "status": "completed"
    },
    "tags": []
   },
   "outputs": [
    {
     "data": {
      "text/plain": [
       "(885,)"
      ]
     },
     "execution_count": 43,
     "metadata": {},
     "output_type": "execute_result"
    }
   ],
   "source": [
    "y_train.shape"
   ]
  },
  {
   "cell_type": "code",
   "execution_count": 44,
   "id": "8d86de20",
   "metadata": {
    "execution": {
     "iopub.execute_input": "2024-02-12T22:31:30.162979Z",
     "iopub.status.busy": "2024-02-12T22:31:30.162554Z",
     "iopub.status.idle": "2024-02-12T22:31:30.182173Z",
     "shell.execute_reply": "2024-02-12T22:31:30.180614Z"
    },
    "papermill": {
     "duration": 0.046907,
     "end_time": "2024-02-12T22:31:30.184542",
     "exception": false,
     "start_time": "2024-02-12T22:31:30.137635",
     "status": "completed"
    },
    "tags": []
   },
   "outputs": [
    {
     "data": {
      "text/html": [
       "<div>\n",
       "<style scoped>\n",
       "    .dataframe tbody tr th:only-of-type {\n",
       "        vertical-align: middle;\n",
       "    }\n",
       "\n",
       "    .dataframe tbody tr th {\n",
       "        vertical-align: top;\n",
       "    }\n",
       "\n",
       "    .dataframe thead th {\n",
       "        text-align: right;\n",
       "    }\n",
       "</style>\n",
       "<table border=\"1\" class=\"dataframe\">\n",
       "  <thead>\n",
       "    <tr style=\"text-align: right;\">\n",
       "      <th></th>\n",
       "      <th>Pclass</th>\n",
       "      <th>Age</th>\n",
       "      <th>Fare</th>\n",
       "      <th>People_Related</th>\n",
       "      <th>Sex_female</th>\n",
       "      <th>Sex_male</th>\n",
       "      <th>Embarked_C</th>\n",
       "      <th>Embarked_Q</th>\n",
       "      <th>Embarked_S</th>\n",
       "    </tr>\n",
       "  </thead>\n",
       "  <tbody>\n",
       "    <tr>\n",
       "      <th>0</th>\n",
       "      <td>3.0</td>\n",
       "      <td>34.5</td>\n",
       "      <td>7.8292</td>\n",
       "      <td>0.0</td>\n",
       "      <td>0.0</td>\n",
       "      <td>1.0</td>\n",
       "      <td>0.0</td>\n",
       "      <td>1.0</td>\n",
       "      <td>0.0</td>\n",
       "    </tr>\n",
       "    <tr>\n",
       "      <th>1</th>\n",
       "      <td>3.0</td>\n",
       "      <td>47.0</td>\n",
       "      <td>7.0000</td>\n",
       "      <td>1.0</td>\n",
       "      <td>1.0</td>\n",
       "      <td>0.0</td>\n",
       "      <td>0.0</td>\n",
       "      <td>0.0</td>\n",
       "      <td>1.0</td>\n",
       "    </tr>\n",
       "    <tr>\n",
       "      <th>2</th>\n",
       "      <td>2.0</td>\n",
       "      <td>62.0</td>\n",
       "      <td>9.6875</td>\n",
       "      <td>0.0</td>\n",
       "      <td>0.0</td>\n",
       "      <td>1.0</td>\n",
       "      <td>0.0</td>\n",
       "      <td>1.0</td>\n",
       "      <td>0.0</td>\n",
       "    </tr>\n",
       "    <tr>\n",
       "      <th>3</th>\n",
       "      <td>3.0</td>\n",
       "      <td>27.0</td>\n",
       "      <td>8.6625</td>\n",
       "      <td>0.0</td>\n",
       "      <td>0.0</td>\n",
       "      <td>1.0</td>\n",
       "      <td>0.0</td>\n",
       "      <td>0.0</td>\n",
       "      <td>1.0</td>\n",
       "    </tr>\n",
       "    <tr>\n",
       "      <th>4</th>\n",
       "      <td>3.0</td>\n",
       "      <td>22.0</td>\n",
       "      <td>12.2875</td>\n",
       "      <td>2.0</td>\n",
       "      <td>1.0</td>\n",
       "      <td>0.0</td>\n",
       "      <td>0.0</td>\n",
       "      <td>0.0</td>\n",
       "      <td>1.0</td>\n",
       "    </tr>\n",
       "  </tbody>\n",
       "</table>\n",
       "</div>"
      ],
      "text/plain": [
       "   Pclass   Age     Fare  People_Related  Sex_female  Sex_male  Embarked_C  \\\n",
       "0     3.0  34.5   7.8292             0.0         0.0       1.0         0.0   \n",
       "1     3.0  47.0   7.0000             1.0         1.0       0.0         0.0   \n",
       "2     2.0  62.0   9.6875             0.0         0.0       1.0         0.0   \n",
       "3     3.0  27.0   8.6625             0.0         0.0       1.0         0.0   \n",
       "4     3.0  22.0  12.2875             2.0         1.0       0.0         0.0   \n",
       "\n",
       "   Embarked_Q  Embarked_S  \n",
       "0         1.0         0.0  \n",
       "1         0.0         1.0  \n",
       "2         1.0         0.0  \n",
       "3         0.0         1.0  \n",
       "4         0.0         1.0  "
      ]
     },
     "execution_count": 44,
     "metadata": {},
     "output_type": "execute_result"
    }
   ],
   "source": [
    "X_test = test_df_encoded.iloc[:,1:]\n",
    "X_test.head()"
   ]
  },
  {
   "cell_type": "code",
   "execution_count": 45,
   "id": "cabeab51",
   "metadata": {
    "execution": {
     "iopub.execute_input": "2024-02-12T22:31:30.230832Z",
     "iopub.status.busy": "2024-02-12T22:31:30.230395Z",
     "iopub.status.idle": "2024-02-12T22:31:30.238145Z",
     "shell.execute_reply": "2024-02-12T22:31:30.237093Z"
    },
    "papermill": {
     "duration": 0.033758,
     "end_time": "2024-02-12T22:31:30.240351",
     "exception": false,
     "start_time": "2024-02-12T22:31:30.206593",
     "status": "completed"
    },
    "tags": []
   },
   "outputs": [],
   "source": [
    "df_encoded.isnull().sum()\n",
    "df_encoded.dropna(inplace =True)"
   ]
  },
  {
   "cell_type": "code",
   "execution_count": 46,
   "id": "624d10ac",
   "metadata": {
    "execution": {
     "iopub.execute_input": "2024-02-12T22:31:30.282888Z",
     "iopub.status.busy": "2024-02-12T22:31:30.282424Z",
     "iopub.status.idle": "2024-02-12T22:31:32.432827Z",
     "shell.execute_reply": "2024-02-12T22:31:32.431595Z"
    },
    "papermill": {
     "duration": 2.174812,
     "end_time": "2024-02-12T22:31:32.435572",
     "exception": false,
     "start_time": "2024-02-12T22:31:30.260760",
     "status": "completed"
    },
    "tags": []
   },
   "outputs": [],
   "source": [
    "import xgboost as xgb\n",
    "from catboost import CatBoostClassifier, CatBoostRegressor\n",
    "import lightgbm as lgb\n"
   ]
  },
  {
   "cell_type": "code",
   "execution_count": 47,
   "id": "b5285ec1",
   "metadata": {
    "execution": {
     "iopub.execute_input": "2024-02-12T22:31:32.481386Z",
     "iopub.status.busy": "2024-02-12T22:31:32.480883Z",
     "iopub.status.idle": "2024-02-12T22:31:32.488763Z",
     "shell.execute_reply": "2024-02-12T22:31:32.487832Z"
    },
    "papermill": {
     "duration": 0.033391,
     "end_time": "2024-02-12T22:31:32.491229",
     "exception": false,
     "start_time": "2024-02-12T22:31:32.457838",
     "status": "completed"
    },
    "tags": []
   },
   "outputs": [],
   "source": [
    "xgb_model = xgb.XGBClassifier() \n",
    "catboost_model = CatBoostClassifier()\n",
    "lgb_model = lgb.LGBMClassifier()"
   ]
  },
  {
   "cell_type": "code",
   "execution_count": 48,
   "id": "05ade55a",
   "metadata": {
    "execution": {
     "iopub.execute_input": "2024-02-12T22:31:32.537204Z",
     "iopub.status.busy": "2024-02-12T22:31:32.536395Z",
     "iopub.status.idle": "2024-02-12T22:31:32.705385Z",
     "shell.execute_reply": "2024-02-12T22:31:32.703755Z"
    },
    "papermill": {
     "duration": 0.195439,
     "end_time": "2024-02-12T22:31:32.707824",
     "exception": false,
     "start_time": "2024-02-12T22:31:32.512385",
     "status": "completed"
    },
    "tags": []
   },
   "outputs": [
    {
     "name": "stdout",
     "output_type": "stream",
     "text": [
      "Training Accuracy: 0.94\n"
     ]
    }
   ],
   "source": [
    "from sklearn.metrics import accuracy_score\n",
    "\n",
    "xgb_model.fit(X_train, y_train)\n",
    "xgb_preds = xgb_model.predict(X_test)\n",
    "xgb_train_preds = xgb_model.predict(X_train)\n",
    "\n",
    "xgb_train_accuracy = accuracy_score(y_train, xgb_train_preds)\n",
    "\n",
    "print(f\"Training Accuracy: {xgb_train_accuracy:.2f}\")"
   ]
  },
  {
   "cell_type": "code",
   "execution_count": 49,
   "id": "08467f1b",
   "metadata": {
    "execution": {
     "iopub.execute_input": "2024-02-12T22:31:32.755810Z",
     "iopub.status.busy": "2024-02-12T22:31:32.755011Z",
     "iopub.status.idle": "2024-02-12T22:31:33.472782Z",
     "shell.execute_reply": "2024-02-12T22:31:33.470618Z"
    },
    "papermill": {
     "duration": 0.744931,
     "end_time": "2024-02-12T22:31:33.475156",
     "exception": false,
     "start_time": "2024-02-12T22:31:32.730225",
     "status": "completed"
    },
    "tags": []
   },
   "outputs": [
    {
     "name": "stdout",
     "output_type": "stream",
     "text": [
      "[LightGBM] [Info] Number of positive: 338, number of negative: 547\n",
      "[LightGBM] [Info] Auto-choosing row-wise multi-threading, the overhead of testing was 0.003455 seconds.\n",
      "You can set `force_row_wise=true` to remove the overhead.\n",
      "And if memory is not enough, you can set `force_col_wise=true`.\n",
      "[LightGBM] [Info] Total Bins 220\n",
      "[LightGBM] [Info] Number of data points in the train set: 885, number of used features: 9\n",
      "[LightGBM] [Info] [binary:BoostFromScore]: pavg=0.381921 -> initscore=-0.481403\n",
      "[LightGBM] [Info] Start training from score -0.481403\n",
      "[LightGBM] [Warning] No further splits with positive gain, best gain: -inf\n",
      "Training Accuracy: 0.92\n"
     ]
    }
   ],
   "source": [
    "\n",
    "lgb_model.fit(X_train, y_train)\n",
    "lgb_preds = lgb_model.predict(X_test)\n",
    "lgb_train_preds = lgb_model.predict(X_train)\n",
    "\n",
    "lgb_train_accuracy = accuracy_score(y_train, lgb_train_preds)\n",
    "\n",
    "print(f\"Training Accuracy: {lgb_train_accuracy:.2f}\")"
   ]
  },
  {
   "cell_type": "code",
   "execution_count": 50,
   "id": "9f8ffbd6",
   "metadata": {
    "execution": {
     "iopub.execute_input": "2024-02-12T22:31:33.520251Z",
     "iopub.status.busy": "2024-02-12T22:31:33.519834Z",
     "iopub.status.idle": "2024-02-12T22:31:35.307448Z",
     "shell.execute_reply": "2024-02-12T22:31:35.306538Z"
    },
    "papermill": {
     "duration": 1.813233,
     "end_time": "2024-02-12T22:31:35.309977",
     "exception": false,
     "start_time": "2024-02-12T22:31:33.496744",
     "status": "completed"
    },
    "tags": []
   },
   "outputs": [
    {
     "name": "stdout",
     "output_type": "stream",
     "text": [
      "Learning rate set to 0.009779\n",
      "0:\tlearn: 0.6905428\ttotal: 58.8ms\tremaining: 58.8s\n",
      "1:\tlearn: 0.6879209\ttotal: 60.3ms\tremaining: 30.1s\n",
      "2:\tlearn: 0.6862927\ttotal: 61.2ms\tremaining: 20.4s\n",
      "3:\tlearn: 0.6846753\ttotal: 62.4ms\tremaining: 15.5s\n",
      "4:\tlearn: 0.6824370\ttotal: 63.7ms\tremaining: 12.7s\n",
      "5:\tlearn: 0.6802149\ttotal: 64.8ms\tremaining: 10.7s\n",
      "6:\tlearn: 0.6778842\ttotal: 66ms\tremaining: 9.36s\n",
      "7:\tlearn: 0.6758985\ttotal: 67.1ms\tremaining: 8.32s\n",
      "8:\tlearn: 0.6734708\ttotal: 68.5ms\tremaining: 7.54s\n",
      "9:\tlearn: 0.6714811\ttotal: 69.7ms\tremaining: 6.9s\n",
      "10:\tlearn: 0.6699388\ttotal: 70.5ms\tremaining: 6.34s\n",
      "11:\tlearn: 0.6685686\ttotal: 71.4ms\tremaining: 5.88s\n",
      "12:\tlearn: 0.6666055\ttotal: 72.9ms\tremaining: 5.54s\n",
      "13:\tlearn: 0.6647726\ttotal: 74.3ms\tremaining: 5.23s\n",
      "14:\tlearn: 0.6627556\ttotal: 75.6ms\tremaining: 4.96s\n",
      "15:\tlearn: 0.6607075\ttotal: 78.2ms\tremaining: 4.81s\n",
      "16:\tlearn: 0.6584967\ttotal: 79.6ms\tremaining: 4.6s\n",
      "17:\tlearn: 0.6570306\ttotal: 80.8ms\tremaining: 4.41s\n",
      "18:\tlearn: 0.6548840\ttotal: 82.3ms\tremaining: 4.25s\n",
      "19:\tlearn: 0.6527171\ttotal: 83.7ms\tremaining: 4.1s\n",
      "20:\tlearn: 0.6506816\ttotal: 84.9ms\tremaining: 3.96s\n",
      "21:\tlearn: 0.6485768\ttotal: 86.5ms\tremaining: 3.85s\n",
      "22:\tlearn: 0.6467413\ttotal: 88.3ms\tremaining: 3.75s\n",
      "23:\tlearn: 0.6451635\ttotal: 89.6ms\tremaining: 3.64s\n",
      "24:\tlearn: 0.6433494\ttotal: 91.3ms\tremaining: 3.56s\n",
      "25:\tlearn: 0.6415961\ttotal: 92.8ms\tremaining: 3.48s\n",
      "26:\tlearn: 0.6399061\ttotal: 94.8ms\tremaining: 3.42s\n",
      "27:\tlearn: 0.6386849\ttotal: 95.9ms\tremaining: 3.33s\n",
      "28:\tlearn: 0.6366978\ttotal: 97.3ms\tremaining: 3.26s\n",
      "29:\tlearn: 0.6351350\ttotal: 98.5ms\tremaining: 3.18s\n",
      "30:\tlearn: 0.6334710\ttotal: 99.6ms\tremaining: 3.11s\n",
      "31:\tlearn: 0.6318408\ttotal: 101ms\tremaining: 3.05s\n",
      "32:\tlearn: 0.6299389\ttotal: 102ms\tremaining: 2.99s\n",
      "33:\tlearn: 0.6282434\ttotal: 103ms\tremaining: 2.94s\n",
      "34:\tlearn: 0.6267841\ttotal: 105ms\tremaining: 2.89s\n",
      "35:\tlearn: 0.6255698\ttotal: 106ms\tremaining: 2.83s\n",
      "36:\tlearn: 0.6246384\ttotal: 106ms\tremaining: 2.77s\n",
      "37:\tlearn: 0.6239205\ttotal: 107ms\tremaining: 2.71s\n",
      "38:\tlearn: 0.6224690\ttotal: 108ms\tremaining: 2.66s\n",
      "39:\tlearn: 0.6212107\ttotal: 109ms\tremaining: 2.62s\n",
      "40:\tlearn: 0.6198670\ttotal: 110ms\tremaining: 2.58s\n",
      "41:\tlearn: 0.6187817\ttotal: 111ms\tremaining: 2.54s\n",
      "42:\tlearn: 0.6174817\ttotal: 112ms\tremaining: 2.5s\n",
      "43:\tlearn: 0.6160474\ttotal: 113ms\tremaining: 2.46s\n",
      "44:\tlearn: 0.6149132\ttotal: 115ms\tremaining: 2.43s\n",
      "45:\tlearn: 0.6133820\ttotal: 116ms\tremaining: 2.41s\n",
      "46:\tlearn: 0.6126227\ttotal: 117ms\tremaining: 2.38s\n",
      "47:\tlearn: 0.6114181\ttotal: 118ms\tremaining: 2.35s\n",
      "48:\tlearn: 0.6100662\ttotal: 119ms\tremaining: 2.32s\n",
      "49:\tlearn: 0.6090815\ttotal: 120ms\tremaining: 2.29s\n",
      "50:\tlearn: 0.6080240\ttotal: 121ms\tremaining: 2.26s\n",
      "51:\tlearn: 0.6066591\ttotal: 122ms\tremaining: 2.23s\n",
      "52:\tlearn: 0.6054721\ttotal: 124ms\tremaining: 2.21s\n",
      "53:\tlearn: 0.6042625\ttotal: 125ms\tremaining: 2.19s\n",
      "54:\tlearn: 0.6035468\ttotal: 126ms\tremaining: 2.16s\n",
      "55:\tlearn: 0.6023663\ttotal: 127ms\tremaining: 2.13s\n",
      "56:\tlearn: 0.6014558\ttotal: 128ms\tremaining: 2.12s\n",
      "57:\tlearn: 0.6003092\ttotal: 130ms\tremaining: 2.11s\n",
      "58:\tlearn: 0.5992564\ttotal: 132ms\tremaining: 2.1s\n",
      "59:\tlearn: 0.5984463\ttotal: 133ms\tremaining: 2.08s\n",
      "60:\tlearn: 0.5972833\ttotal: 135ms\tremaining: 2.08s\n",
      "61:\tlearn: 0.5962781\ttotal: 137ms\tremaining: 2.07s\n",
      "62:\tlearn: 0.5953542\ttotal: 138ms\tremaining: 2.05s\n",
      "63:\tlearn: 0.5945397\ttotal: 139ms\tremaining: 2.04s\n",
      "64:\tlearn: 0.5933338\ttotal: 141ms\tremaining: 2.02s\n",
      "65:\tlearn: 0.5926061\ttotal: 142ms\tremaining: 2s\n",
      "66:\tlearn: 0.5916652\ttotal: 143ms\tremaining: 1.99s\n",
      "67:\tlearn: 0.5907333\ttotal: 144ms\tremaining: 1.97s\n",
      "68:\tlearn: 0.5898977\ttotal: 145ms\tremaining: 1.96s\n",
      "69:\tlearn: 0.5894293\ttotal: 146ms\tremaining: 1.94s\n",
      "70:\tlearn: 0.5883331\ttotal: 148ms\tremaining: 1.93s\n",
      "71:\tlearn: 0.5874342\ttotal: 149ms\tremaining: 1.92s\n",
      "72:\tlearn: 0.5865201\ttotal: 151ms\tremaining: 1.92s\n",
      "73:\tlearn: 0.5854767\ttotal: 153ms\tremaining: 1.91s\n",
      "74:\tlearn: 0.5846720\ttotal: 154ms\tremaining: 1.9s\n",
      "75:\tlearn: 0.5835775\ttotal: 155ms\tremaining: 1.89s\n",
      "76:\tlearn: 0.5828006\ttotal: 156ms\tremaining: 1.88s\n",
      "77:\tlearn: 0.5820645\ttotal: 158ms\tremaining: 1.86s\n",
      "78:\tlearn: 0.5812976\ttotal: 159ms\tremaining: 1.85s\n",
      "79:\tlearn: 0.5804882\ttotal: 160ms\tremaining: 1.84s\n",
      "80:\tlearn: 0.5795599\ttotal: 161ms\tremaining: 1.83s\n",
      "81:\tlearn: 0.5787290\ttotal: 162ms\tremaining: 1.82s\n",
      "82:\tlearn: 0.5780027\ttotal: 164ms\tremaining: 1.81s\n",
      "83:\tlearn: 0.5773710\ttotal: 165ms\tremaining: 1.8s\n",
      "84:\tlearn: 0.5764268\ttotal: 166ms\tremaining: 1.78s\n",
      "85:\tlearn: 0.5756556\ttotal: 166ms\tremaining: 1.77s\n",
      "86:\tlearn: 0.5747180\ttotal: 167ms\tremaining: 1.76s\n",
      "87:\tlearn: 0.5739327\ttotal: 168ms\tremaining: 1.74s\n",
      "88:\tlearn: 0.5732271\ttotal: 169ms\tremaining: 1.73s\n",
      "89:\tlearn: 0.5725144\ttotal: 170ms\tremaining: 1.72s\n",
      "90:\tlearn: 0.5718541\ttotal: 171ms\tremaining: 1.71s\n",
      "91:\tlearn: 0.5711412\ttotal: 172ms\tremaining: 1.69s\n",
      "92:\tlearn: 0.5703881\ttotal: 173ms\tremaining: 1.69s\n",
      "93:\tlearn: 0.5700623\ttotal: 174ms\tremaining: 1.68s\n",
      "94:\tlearn: 0.5694191\ttotal: 175ms\tremaining: 1.67s\n",
      "95:\tlearn: 0.5687594\ttotal: 176ms\tremaining: 1.66s\n",
      "96:\tlearn: 0.5681900\ttotal: 178ms\tremaining: 1.65s\n",
      "97:\tlearn: 0.5676462\ttotal: 178ms\tremaining: 1.64s\n",
      "98:\tlearn: 0.5669938\ttotal: 179ms\tremaining: 1.63s\n",
      "99:\tlearn: 0.5664945\ttotal: 181ms\tremaining: 1.63s\n",
      "100:\tlearn: 0.5658081\ttotal: 182ms\tremaining: 1.62s\n",
      "101:\tlearn: 0.5651452\ttotal: 184ms\tremaining: 1.62s\n",
      "102:\tlearn: 0.5644279\ttotal: 186ms\tremaining: 1.62s\n",
      "103:\tlearn: 0.5638621\ttotal: 188ms\tremaining: 1.62s\n",
      "104:\tlearn: 0.5633230\ttotal: 189ms\tremaining: 1.61s\n",
      "105:\tlearn: 0.5626646\ttotal: 190ms\tremaining: 1.61s\n",
      "106:\tlearn: 0.5623139\ttotal: 192ms\tremaining: 1.6s\n",
      "107:\tlearn: 0.5616220\ttotal: 193ms\tremaining: 1.59s\n",
      "108:\tlearn: 0.5614139\ttotal: 194ms\tremaining: 1.58s\n",
      "109:\tlearn: 0.5608252\ttotal: 195ms\tremaining: 1.57s\n",
      "110:\tlearn: 0.5602396\ttotal: 196ms\tremaining: 1.57s\n",
      "111:\tlearn: 0.5597656\ttotal: 197ms\tremaining: 1.56s\n",
      "112:\tlearn: 0.5592546\ttotal: 198ms\tremaining: 1.55s\n",
      "113:\tlearn: 0.5587946\ttotal: 199ms\tremaining: 1.55s\n",
      "114:\tlearn: 0.5583034\ttotal: 200ms\tremaining: 1.54s\n",
      "115:\tlearn: 0.5576763\ttotal: 201ms\tremaining: 1.53s\n",
      "116:\tlearn: 0.5570178\ttotal: 202ms\tremaining: 1.53s\n",
      "117:\tlearn: 0.5566239\ttotal: 203ms\tremaining: 1.52s\n",
      "118:\tlearn: 0.5560492\ttotal: 205ms\tremaining: 1.51s\n",
      "119:\tlearn: 0.5554769\ttotal: 206ms\tremaining: 1.51s\n",
      "120:\tlearn: 0.5550304\ttotal: 206ms\tremaining: 1.5s\n",
      "121:\tlearn: 0.5543695\ttotal: 208ms\tremaining: 1.49s\n",
      "122:\tlearn: 0.5538068\ttotal: 209ms\tremaining: 1.49s\n",
      "123:\tlearn: 0.5535403\ttotal: 209ms\tremaining: 1.48s\n",
      "124:\tlearn: 0.5529059\ttotal: 210ms\tremaining: 1.47s\n",
      "125:\tlearn: 0.5524627\ttotal: 212ms\tremaining: 1.47s\n",
      "126:\tlearn: 0.5520917\ttotal: 213ms\tremaining: 1.46s\n",
      "127:\tlearn: 0.5516535\ttotal: 214ms\tremaining: 1.46s\n",
      "128:\tlearn: 0.5511104\ttotal: 215ms\tremaining: 1.45s\n",
      "129:\tlearn: 0.5507854\ttotal: 216ms\tremaining: 1.45s\n",
      "130:\tlearn: 0.5503513\ttotal: 217ms\tremaining: 1.44s\n",
      "131:\tlearn: 0.5499594\ttotal: 218ms\tremaining: 1.43s\n",
      "132:\tlearn: 0.5494414\ttotal: 219ms\tremaining: 1.43s\n",
      "133:\tlearn: 0.5490667\ttotal: 220ms\tremaining: 1.42s\n",
      "134:\tlearn: 0.5486536\ttotal: 221ms\tremaining: 1.42s\n",
      "135:\tlearn: 0.5480869\ttotal: 223ms\tremaining: 1.41s\n",
      "136:\tlearn: 0.5476437\ttotal: 224ms\tremaining: 1.41s\n",
      "137:\tlearn: 0.5469211\ttotal: 225ms\tremaining: 1.41s\n",
      "138:\tlearn: 0.5464315\ttotal: 227ms\tremaining: 1.4s\n",
      "139:\tlearn: 0.5459779\ttotal: 228ms\tremaining: 1.4s\n",
      "140:\tlearn: 0.5456473\ttotal: 229ms\tremaining: 1.39s\n",
      "141:\tlearn: 0.5452424\ttotal: 230ms\tremaining: 1.39s\n",
      "142:\tlearn: 0.5449043\ttotal: 231ms\tremaining: 1.38s\n",
      "143:\tlearn: 0.5447225\ttotal: 232ms\tremaining: 1.38s\n",
      "144:\tlearn: 0.5441177\ttotal: 233ms\tremaining: 1.37s\n",
      "145:\tlearn: 0.5437394\ttotal: 234ms\tremaining: 1.37s\n",
      "146:\tlearn: 0.5435187\ttotal: 235ms\tremaining: 1.36s\n",
      "147:\tlearn: 0.5431715\ttotal: 236ms\tremaining: 1.36s\n",
      "148:\tlearn: 0.5428095\ttotal: 237ms\tremaining: 1.35s\n",
      "149:\tlearn: 0.5422507\ttotal: 239ms\tremaining: 1.35s\n",
      "150:\tlearn: 0.5415498\ttotal: 240ms\tremaining: 1.35s\n",
      "151:\tlearn: 0.5414795\ttotal: 241ms\tremaining: 1.35s\n",
      "152:\tlearn: 0.5409461\ttotal: 243ms\tremaining: 1.34s\n",
      "153:\tlearn: 0.5404144\ttotal: 244ms\tremaining: 1.34s\n",
      "154:\tlearn: 0.5402322\ttotal: 245ms\tremaining: 1.33s\n",
      "155:\tlearn: 0.5400162\ttotal: 248ms\tremaining: 1.34s\n",
      "156:\tlearn: 0.5394458\ttotal: 249ms\tremaining: 1.33s\n",
      "157:\tlearn: 0.5391797\ttotal: 250ms\tremaining: 1.33s\n",
      "158:\tlearn: 0.5388055\ttotal: 251ms\tremaining: 1.33s\n",
      "159:\tlearn: 0.5383248\ttotal: 252ms\tremaining: 1.32s\n",
      "160:\tlearn: 0.5378568\ttotal: 254ms\tremaining: 1.32s\n",
      "161:\tlearn: 0.5375472\ttotal: 255ms\tremaining: 1.32s\n",
      "162:\tlearn: 0.5371386\ttotal: 256ms\tremaining: 1.31s\n",
      "163:\tlearn: 0.5366636\ttotal: 257ms\tremaining: 1.31s\n",
      "164:\tlearn: 0.5365109\ttotal: 259ms\tremaining: 1.31s\n",
      "165:\tlearn: 0.5362725\ttotal: 260ms\tremaining: 1.31s\n",
      "166:\tlearn: 0.5359551\ttotal: 262ms\tremaining: 1.3s\n",
      "167:\tlearn: 0.5357155\ttotal: 264ms\tremaining: 1.31s\n",
      "168:\tlearn: 0.5355429\ttotal: 267ms\tremaining: 1.31s\n",
      "169:\tlearn: 0.5352385\ttotal: 269ms\tremaining: 1.31s\n",
      "170:\tlearn: 0.5349163\ttotal: 271ms\tremaining: 1.31s\n",
      "171:\tlearn: 0.5346827\ttotal: 272ms\tremaining: 1.31s\n",
      "172:\tlearn: 0.5344546\ttotal: 274ms\tremaining: 1.31s\n",
      "173:\tlearn: 0.5342580\ttotal: 275ms\tremaining: 1.3s\n",
      "174:\tlearn: 0.5337885\ttotal: 277ms\tremaining: 1.3s\n",
      "175:\tlearn: 0.5332835\ttotal: 278ms\tremaining: 1.3s\n",
      "176:\tlearn: 0.5328726\ttotal: 279ms\tremaining: 1.3s\n",
      "177:\tlearn: 0.5325463\ttotal: 284ms\tremaining: 1.31s\n",
      "178:\tlearn: 0.5322169\ttotal: 286ms\tremaining: 1.31s\n",
      "179:\tlearn: 0.5319598\ttotal: 287ms\tremaining: 1.31s\n",
      "180:\tlearn: 0.5316186\ttotal: 288ms\tremaining: 1.3s\n",
      "181:\tlearn: 0.5313080\ttotal: 289ms\tremaining: 1.3s\n",
      "182:\tlearn: 0.5311990\ttotal: 290ms\tremaining: 1.3s\n",
      "183:\tlearn: 0.5307279\ttotal: 292ms\tremaining: 1.29s\n",
      "184:\tlearn: 0.5305989\ttotal: 293ms\tremaining: 1.29s\n",
      "185:\tlearn: 0.5303292\ttotal: 295ms\tremaining: 1.29s\n",
      "186:\tlearn: 0.5300189\ttotal: 297ms\tremaining: 1.29s\n",
      "187:\tlearn: 0.5298385\ttotal: 298ms\tremaining: 1.29s\n",
      "188:\tlearn: 0.5294671\ttotal: 301ms\tremaining: 1.29s\n",
      "189:\tlearn: 0.5292021\ttotal: 302ms\tremaining: 1.29s\n",
      "190:\tlearn: 0.5291659\ttotal: 303ms\tremaining: 1.28s\n",
      "191:\tlearn: 0.5287192\ttotal: 304ms\tremaining: 1.28s\n",
      "192:\tlearn: 0.5283514\ttotal: 305ms\tremaining: 1.28s\n",
      "193:\tlearn: 0.5280990\ttotal: 307ms\tremaining: 1.27s\n",
      "194:\tlearn: 0.5277018\ttotal: 310ms\tremaining: 1.28s\n",
      "195:\tlearn: 0.5274699\ttotal: 315ms\tremaining: 1.29s\n",
      "196:\tlearn: 0.5270517\ttotal: 316ms\tremaining: 1.29s\n",
      "197:\tlearn: 0.5266873\ttotal: 317ms\tremaining: 1.28s\n",
      "198:\tlearn: 0.5266161\ttotal: 318ms\tremaining: 1.28s\n",
      "199:\tlearn: 0.5262823\ttotal: 320ms\tremaining: 1.28s\n",
      "200:\tlearn: 0.5258156\ttotal: 322ms\tremaining: 1.28s\n",
      "201:\tlearn: 0.5252828\ttotal: 324ms\tremaining: 1.28s\n",
      "202:\tlearn: 0.5249766\ttotal: 325ms\tremaining: 1.28s\n",
      "203:\tlearn: 0.5244425\ttotal: 326ms\tremaining: 1.27s\n",
      "204:\tlearn: 0.5241358\ttotal: 327ms\tremaining: 1.27s\n",
      "205:\tlearn: 0.5238658\ttotal: 329ms\tremaining: 1.27s\n",
      "206:\tlearn: 0.5234621\ttotal: 330ms\tremaining: 1.26s\n",
      "207:\tlearn: 0.5232230\ttotal: 333ms\tremaining: 1.27s\n",
      "208:\tlearn: 0.5229037\ttotal: 336ms\tremaining: 1.27s\n",
      "209:\tlearn: 0.5225214\ttotal: 337ms\tremaining: 1.27s\n",
      "210:\tlearn: 0.5221467\ttotal: 339ms\tremaining: 1.27s\n",
      "211:\tlearn: 0.5217691\ttotal: 340ms\tremaining: 1.26s\n",
      "212:\tlearn: 0.5215141\ttotal: 341ms\tremaining: 1.26s\n",
      "213:\tlearn: 0.5213887\ttotal: 343ms\tremaining: 1.26s\n",
      "214:\tlearn: 0.5210889\ttotal: 344ms\tremaining: 1.25s\n",
      "215:\tlearn: 0.5207512\ttotal: 345ms\tremaining: 1.25s\n",
      "216:\tlearn: 0.5203809\ttotal: 346ms\tremaining: 1.25s\n",
      "217:\tlearn: 0.5201706\ttotal: 348ms\tremaining: 1.25s\n",
      "218:\tlearn: 0.5197308\ttotal: 351ms\tremaining: 1.25s\n",
      "219:\tlearn: 0.5194459\ttotal: 352ms\tremaining: 1.25s\n",
      "220:\tlearn: 0.5192192\ttotal: 354ms\tremaining: 1.25s\n",
      "221:\tlearn: 0.5187591\ttotal: 355ms\tremaining: 1.24s\n",
      "222:\tlearn: 0.5184959\ttotal: 356ms\tremaining: 1.24s\n",
      "223:\tlearn: 0.5183337\ttotal: 357ms\tremaining: 1.24s\n",
      "224:\tlearn: 0.5180535\ttotal: 359ms\tremaining: 1.24s\n",
      "225:\tlearn: 0.5176663\ttotal: 361ms\tremaining: 1.24s\n",
      "226:\tlearn: 0.5173463\ttotal: 363ms\tremaining: 1.24s\n",
      "227:\tlearn: 0.5169994\ttotal: 364ms\tremaining: 1.23s\n",
      "228:\tlearn: 0.5167088\ttotal: 366ms\tremaining: 1.23s\n",
      "229:\tlearn: 0.5165183\ttotal: 368ms\tremaining: 1.23s\n",
      "230:\tlearn: 0.5161259\ttotal: 369ms\tremaining: 1.23s\n",
      "231:\tlearn: 0.5159774\ttotal: 371ms\tremaining: 1.23s\n",
      "232:\tlearn: 0.5157788\ttotal: 373ms\tremaining: 1.23s\n",
      "233:\tlearn: 0.5157569\ttotal: 373ms\tremaining: 1.22s\n",
      "234:\tlearn: 0.5155482\ttotal: 375ms\tremaining: 1.22s\n",
      "235:\tlearn: 0.5153572\ttotal: 376ms\tremaining: 1.22s\n",
      "236:\tlearn: 0.5150877\ttotal: 381ms\tremaining: 1.23s\n",
      "237:\tlearn: 0.5148204\ttotal: 383ms\tremaining: 1.23s\n",
      "238:\tlearn: 0.5146073\ttotal: 384ms\tremaining: 1.22s\n",
      "239:\tlearn: 0.5143735\ttotal: 387ms\tremaining: 1.22s\n",
      "240:\tlearn: 0.5141080\ttotal: 388ms\tremaining: 1.22s\n",
      "241:\tlearn: 0.5140713\ttotal: 388ms\tremaining: 1.22s\n",
      "242:\tlearn: 0.5139217\ttotal: 389ms\tremaining: 1.21s\n",
      "243:\tlearn: 0.5134088\ttotal: 390ms\tremaining: 1.21s\n",
      "244:\tlearn: 0.5131454\ttotal: 395ms\tremaining: 1.22s\n",
      "245:\tlearn: 0.5128315\ttotal: 398ms\tremaining: 1.22s\n",
      "246:\tlearn: 0.5124861\ttotal: 399ms\tremaining: 1.22s\n",
      "247:\tlearn: 0.5122465\ttotal: 400ms\tremaining: 1.21s\n",
      "248:\tlearn: 0.5118798\ttotal: 401ms\tremaining: 1.21s\n",
      "249:\tlearn: 0.5115288\ttotal: 402ms\tremaining: 1.21s\n",
      "250:\tlearn: 0.5112508\ttotal: 403ms\tremaining: 1.2s\n",
      "251:\tlearn: 0.5110602\ttotal: 404ms\tremaining: 1.2s\n",
      "252:\tlearn: 0.5106985\ttotal: 406ms\tremaining: 1.2s\n",
      "253:\tlearn: 0.5105207\ttotal: 407ms\tremaining: 1.2s\n",
      "254:\tlearn: 0.5104019\ttotal: 408ms\tremaining: 1.19s\n",
      "255:\tlearn: 0.5102038\ttotal: 410ms\tremaining: 1.19s\n",
      "256:\tlearn: 0.5100838\ttotal: 414ms\tremaining: 1.2s\n",
      "257:\tlearn: 0.5098496\ttotal: 415ms\tremaining: 1.19s\n",
      "258:\tlearn: 0.5095965\ttotal: 416ms\tremaining: 1.19s\n",
      "259:\tlearn: 0.5093174\ttotal: 418ms\tremaining: 1.19s\n",
      "260:\tlearn: 0.5090574\ttotal: 421ms\tremaining: 1.19s\n",
      "261:\tlearn: 0.5086625\ttotal: 422ms\tremaining: 1.19s\n",
      "262:\tlearn: 0.5083750\ttotal: 425ms\tremaining: 1.19s\n",
      "263:\tlearn: 0.5079036\ttotal: 427ms\tremaining: 1.19s\n",
      "264:\tlearn: 0.5075929\ttotal: 428ms\tremaining: 1.19s\n",
      "265:\tlearn: 0.5074347\ttotal: 430ms\tremaining: 1.19s\n",
      "266:\tlearn: 0.5071182\ttotal: 431ms\tremaining: 1.18s\n",
      "267:\tlearn: 0.5068600\ttotal: 433ms\tremaining: 1.18s\n",
      "268:\tlearn: 0.5065672\ttotal: 436ms\tremaining: 1.19s\n",
      "269:\tlearn: 0.5063528\ttotal: 439ms\tremaining: 1.19s\n",
      "270:\tlearn: 0.5060532\ttotal: 440ms\tremaining: 1.18s\n",
      "271:\tlearn: 0.5058023\ttotal: 442ms\tremaining: 1.18s\n",
      "272:\tlearn: 0.5056007\ttotal: 443ms\tremaining: 1.18s\n",
      "273:\tlearn: 0.5054312\ttotal: 444ms\tremaining: 1.18s\n",
      "274:\tlearn: 0.5051133\ttotal: 446ms\tremaining: 1.18s\n",
      "275:\tlearn: 0.5047966\ttotal: 450ms\tremaining: 1.18s\n",
      "276:\tlearn: 0.5045099\ttotal: 452ms\tremaining: 1.18s\n",
      "277:\tlearn: 0.5042147\ttotal: 454ms\tremaining: 1.18s\n",
      "278:\tlearn: 0.5039813\ttotal: 455ms\tremaining: 1.18s\n",
      "279:\tlearn: 0.5036213\ttotal: 457ms\tremaining: 1.17s\n",
      "280:\tlearn: 0.5033704\ttotal: 458ms\tremaining: 1.17s\n",
      "281:\tlearn: 0.5032563\ttotal: 460ms\tremaining: 1.17s\n",
      "282:\tlearn: 0.5030801\ttotal: 461ms\tremaining: 1.17s\n",
      "283:\tlearn: 0.5026973\ttotal: 463ms\tremaining: 1.17s\n",
      "284:\tlearn: 0.5025941\ttotal: 464ms\tremaining: 1.16s\n",
      "285:\tlearn: 0.5023712\ttotal: 466ms\tremaining: 1.16s\n",
      "286:\tlearn: 0.5021724\ttotal: 467ms\tremaining: 1.16s\n",
      "287:\tlearn: 0.5020797\ttotal: 468ms\tremaining: 1.16s\n",
      "288:\tlearn: 0.5017908\ttotal: 470ms\tremaining: 1.16s\n",
      "289:\tlearn: 0.5013042\ttotal: 471ms\tremaining: 1.15s\n",
      "290:\tlearn: 0.5008750\ttotal: 473ms\tremaining: 1.15s\n",
      "291:\tlearn: 0.5006330\ttotal: 474ms\tremaining: 1.15s\n",
      "292:\tlearn: 0.5004344\ttotal: 475ms\tremaining: 1.15s\n",
      "293:\tlearn: 0.5000673\ttotal: 476ms\tremaining: 1.14s\n",
      "294:\tlearn: 0.4998369\ttotal: 478ms\tremaining: 1.14s\n",
      "295:\tlearn: 0.4995204\ttotal: 479ms\tremaining: 1.14s\n",
      "296:\tlearn: 0.4993228\ttotal: 480ms\tremaining: 1.14s\n",
      "297:\tlearn: 0.4992648\ttotal: 481ms\tremaining: 1.13s\n",
      "298:\tlearn: 0.4989246\ttotal: 483ms\tremaining: 1.13s\n",
      "299:\tlearn: 0.4987354\ttotal: 484ms\tremaining: 1.13s\n",
      "300:\tlearn: 0.4985062\ttotal: 486ms\tremaining: 1.13s\n",
      "301:\tlearn: 0.4983167\ttotal: 487ms\tremaining: 1.13s\n",
      "302:\tlearn: 0.4980586\ttotal: 488ms\tremaining: 1.12s\n",
      "303:\tlearn: 0.4979166\ttotal: 490ms\tremaining: 1.12s\n",
      "304:\tlearn: 0.4975359\ttotal: 491ms\tremaining: 1.12s\n",
      "305:\tlearn: 0.4973569\ttotal: 492ms\tremaining: 1.12s\n",
      "306:\tlearn: 0.4970851\ttotal: 494ms\tremaining: 1.11s\n",
      "307:\tlearn: 0.4967862\ttotal: 495ms\tremaining: 1.11s\n",
      "308:\tlearn: 0.4966870\ttotal: 496ms\tremaining: 1.11s\n",
      "309:\tlearn: 0.4964681\ttotal: 497ms\tremaining: 1.11s\n",
      "310:\tlearn: 0.4961983\ttotal: 498ms\tremaining: 1.1s\n",
      "311:\tlearn: 0.4960695\ttotal: 500ms\tremaining: 1.1s\n",
      "312:\tlearn: 0.4958955\ttotal: 501ms\tremaining: 1.1s\n",
      "313:\tlearn: 0.4956444\ttotal: 502ms\tremaining: 1.1s\n",
      "314:\tlearn: 0.4955188\ttotal: 503ms\tremaining: 1.09s\n",
      "315:\tlearn: 0.4953857\ttotal: 505ms\tremaining: 1.09s\n",
      "316:\tlearn: 0.4951517\ttotal: 506ms\tremaining: 1.09s\n",
      "317:\tlearn: 0.4950649\ttotal: 508ms\tremaining: 1.09s\n",
      "318:\tlearn: 0.4948411\ttotal: 509ms\tremaining: 1.09s\n",
      "319:\tlearn: 0.4946515\ttotal: 510ms\tremaining: 1.08s\n",
      "320:\tlearn: 0.4944859\ttotal: 512ms\tremaining: 1.08s\n",
      "321:\tlearn: 0.4942937\ttotal: 514ms\tremaining: 1.08s\n",
      "322:\tlearn: 0.4942902\ttotal: 515ms\tremaining: 1.08s\n",
      "323:\tlearn: 0.4940444\ttotal: 517ms\tremaining: 1.08s\n",
      "324:\tlearn: 0.4938506\ttotal: 518ms\tremaining: 1.07s\n",
      "325:\tlearn: 0.4936205\ttotal: 519ms\tremaining: 1.07s\n",
      "326:\tlearn: 0.4934182\ttotal: 521ms\tremaining: 1.07s\n",
      "327:\tlearn: 0.4932947\ttotal: 523ms\tremaining: 1.07s\n",
      "328:\tlearn: 0.4932145\ttotal: 523ms\tremaining: 1.07s\n",
      "329:\tlearn: 0.4931069\ttotal: 525ms\tremaining: 1.06s\n",
      "330:\tlearn: 0.4929769\ttotal: 526ms\tremaining: 1.06s\n",
      "331:\tlearn: 0.4929204\ttotal: 529ms\tremaining: 1.06s\n",
      "332:\tlearn: 0.4927731\ttotal: 533ms\tremaining: 1.07s\n",
      "333:\tlearn: 0.4926110\ttotal: 536ms\tremaining: 1.07s\n",
      "334:\tlearn: 0.4923238\ttotal: 537ms\tremaining: 1.07s\n",
      "335:\tlearn: 0.4921567\ttotal: 539ms\tremaining: 1.06s\n",
      "336:\tlearn: 0.4920698\ttotal: 540ms\tremaining: 1.06s\n",
      "337:\tlearn: 0.4919662\ttotal: 541ms\tremaining: 1.06s\n",
      "338:\tlearn: 0.4919528\ttotal: 542ms\tremaining: 1.06s\n",
      "339:\tlearn: 0.4917460\ttotal: 546ms\tremaining: 1.06s\n",
      "340:\tlearn: 0.4916230\ttotal: 547ms\tremaining: 1.06s\n",
      "341:\tlearn: 0.4913948\ttotal: 549ms\tremaining: 1.06s\n",
      "342:\tlearn: 0.4911364\ttotal: 550ms\tremaining: 1.05s\n",
      "343:\tlearn: 0.4908212\ttotal: 552ms\tremaining: 1.05s\n",
      "344:\tlearn: 0.4906307\ttotal: 553ms\tremaining: 1.05s\n",
      "345:\tlearn: 0.4903674\ttotal: 554ms\tremaining: 1.05s\n",
      "346:\tlearn: 0.4901859\ttotal: 555ms\tremaining: 1.04s\n",
      "347:\tlearn: 0.4899241\ttotal: 558ms\tremaining: 1.04s\n",
      "348:\tlearn: 0.4897583\ttotal: 561ms\tremaining: 1.04s\n",
      "349:\tlearn: 0.4894839\ttotal: 562ms\tremaining: 1.04s\n",
      "350:\tlearn: 0.4892692\ttotal: 564ms\tremaining: 1.04s\n",
      "351:\tlearn: 0.4892170\ttotal: 565ms\tremaining: 1.04s\n",
      "352:\tlearn: 0.4889659\ttotal: 566ms\tremaining: 1.04s\n",
      "353:\tlearn: 0.4888160\ttotal: 567ms\tremaining: 1.03s\n",
      "354:\tlearn: 0.4886114\ttotal: 569ms\tremaining: 1.03s\n",
      "355:\tlearn: 0.4884585\ttotal: 570ms\tremaining: 1.03s\n",
      "356:\tlearn: 0.4884287\ttotal: 571ms\tremaining: 1.03s\n",
      "357:\tlearn: 0.4881102\ttotal: 573ms\tremaining: 1.03s\n",
      "358:\tlearn: 0.4879863\ttotal: 574ms\tremaining: 1.02s\n",
      "359:\tlearn: 0.4878655\ttotal: 577ms\tremaining: 1.02s\n",
      "360:\tlearn: 0.4875905\ttotal: 578ms\tremaining: 1.02s\n",
      "361:\tlearn: 0.4873162\ttotal: 579ms\tremaining: 1.02s\n",
      "362:\tlearn: 0.4872358\ttotal: 581ms\tremaining: 1.02s\n",
      "363:\tlearn: 0.4870102\ttotal: 582ms\tremaining: 1.02s\n",
      "364:\tlearn: 0.4867076\ttotal: 584ms\tremaining: 1.01s\n",
      "365:\tlearn: 0.4865474\ttotal: 585ms\tremaining: 1.01s\n",
      "366:\tlearn: 0.4862106\ttotal: 586ms\tremaining: 1.01s\n",
      "367:\tlearn: 0.4860654\ttotal: 587ms\tremaining: 1.01s\n",
      "368:\tlearn: 0.4858220\ttotal: 588ms\tremaining: 1.01s\n",
      "369:\tlearn: 0.4856076\ttotal: 589ms\tremaining: 1s\n",
      "370:\tlearn: 0.4853255\ttotal: 591ms\tremaining: 1s\n",
      "371:\tlearn: 0.4851989\ttotal: 592ms\tremaining: 999ms\n",
      "372:\tlearn: 0.4849977\ttotal: 593ms\tremaining: 997ms\n",
      "373:\tlearn: 0.4848976\ttotal: 594ms\tremaining: 994ms\n",
      "374:\tlearn: 0.4847007\ttotal: 595ms\tremaining: 992ms\n",
      "375:\tlearn: 0.4844209\ttotal: 597ms\tremaining: 991ms\n",
      "376:\tlearn: 0.4841937\ttotal: 598ms\tremaining: 989ms\n",
      "377:\tlearn: 0.4841857\ttotal: 599ms\tremaining: 985ms\n",
      "378:\tlearn: 0.4839500\ttotal: 600ms\tremaining: 983ms\n",
      "379:\tlearn: 0.4838004\ttotal: 601ms\tremaining: 980ms\n",
      "380:\tlearn: 0.4836285\ttotal: 602ms\tremaining: 978ms\n",
      "381:\tlearn: 0.4834724\ttotal: 603ms\tremaining: 976ms\n",
      "382:\tlearn: 0.4832840\ttotal: 604ms\tremaining: 973ms\n",
      "383:\tlearn: 0.4832723\ttotal: 605ms\tremaining: 970ms\n",
      "384:\tlearn: 0.4831536\ttotal: 606ms\tremaining: 967ms\n",
      "385:\tlearn: 0.4828783\ttotal: 607ms\tremaining: 965ms\n",
      "386:\tlearn: 0.4826151\ttotal: 608ms\tremaining: 963ms\n",
      "387:\tlearn: 0.4823746\ttotal: 610ms\tremaining: 962ms\n",
      "388:\tlearn: 0.4822034\ttotal: 612ms\tremaining: 961ms\n",
      "389:\tlearn: 0.4821474\ttotal: 613ms\tremaining: 959ms\n",
      "390:\tlearn: 0.4820495\ttotal: 615ms\tremaining: 959ms\n",
      "391:\tlearn: 0.4818306\ttotal: 617ms\tremaining: 958ms\n",
      "392:\tlearn: 0.4816171\ttotal: 619ms\tremaining: 956ms\n",
      "393:\tlearn: 0.4815413\ttotal: 620ms\tremaining: 954ms\n",
      "394:\tlearn: 0.4814214\ttotal: 622ms\tremaining: 953ms\n",
      "395:\tlearn: 0.4813165\ttotal: 624ms\tremaining: 951ms\n",
      "396:\tlearn: 0.4810596\ttotal: 625ms\tremaining: 949ms\n",
      "397:\tlearn: 0.4809111\ttotal: 626ms\tremaining: 947ms\n",
      "398:\tlearn: 0.4808689\ttotal: 627ms\tremaining: 944ms\n",
      "399:\tlearn: 0.4807214\ttotal: 629ms\tremaining: 944ms\n",
      "400:\tlearn: 0.4805404\ttotal: 631ms\tremaining: 942ms\n",
      "401:\tlearn: 0.4804641\ttotal: 632ms\tremaining: 940ms\n",
      "402:\tlearn: 0.4802942\ttotal: 633ms\tremaining: 938ms\n",
      "403:\tlearn: 0.4800434\ttotal: 634ms\tremaining: 935ms\n",
      "404:\tlearn: 0.4799214\ttotal: 635ms\tremaining: 933ms\n",
      "405:\tlearn: 0.4797510\ttotal: 636ms\tremaining: 931ms\n",
      "406:\tlearn: 0.4796541\ttotal: 638ms\tremaining: 930ms\n",
      "407:\tlearn: 0.4794314\ttotal: 639ms\tremaining: 927ms\n",
      "408:\tlearn: 0.4792306\ttotal: 641ms\tremaining: 926ms\n",
      "409:\tlearn: 0.4790836\ttotal: 642ms\tremaining: 923ms\n",
      "410:\tlearn: 0.4788697\ttotal: 643ms\tremaining: 921ms\n",
      "411:\tlearn: 0.4787186\ttotal: 644ms\tremaining: 919ms\n",
      "412:\tlearn: 0.4786750\ttotal: 645ms\tremaining: 916ms\n",
      "413:\tlearn: 0.4785514\ttotal: 646ms\tremaining: 914ms\n",
      "414:\tlearn: 0.4784277\ttotal: 647ms\tremaining: 912ms\n",
      "415:\tlearn: 0.4782497\ttotal: 648ms\tremaining: 909ms\n",
      "416:\tlearn: 0.4780654\ttotal: 649ms\tremaining: 907ms\n",
      "417:\tlearn: 0.4779089\ttotal: 650ms\tremaining: 905ms\n",
      "418:\tlearn: 0.4776967\ttotal: 651ms\tremaining: 903ms\n",
      "419:\tlearn: 0.4775490\ttotal: 653ms\tremaining: 902ms\n",
      "420:\tlearn: 0.4773420\ttotal: 654ms\tremaining: 900ms\n",
      "421:\tlearn: 0.4770674\ttotal: 655ms\tremaining: 898ms\n",
      "422:\tlearn: 0.4768967\ttotal: 656ms\tremaining: 895ms\n",
      "423:\tlearn: 0.4766486\ttotal: 657ms\tremaining: 893ms\n",
      "424:\tlearn: 0.4764818\ttotal: 658ms\tremaining: 890ms\n",
      "425:\tlearn: 0.4764651\ttotal: 659ms\tremaining: 888ms\n",
      "426:\tlearn: 0.4761822\ttotal: 660ms\tremaining: 886ms\n",
      "427:\tlearn: 0.4759874\ttotal: 661ms\tremaining: 884ms\n",
      "428:\tlearn: 0.4758445\ttotal: 663ms\tremaining: 882ms\n",
      "429:\tlearn: 0.4756597\ttotal: 664ms\tremaining: 880ms\n",
      "430:\tlearn: 0.4753739\ttotal: 666ms\tremaining: 879ms\n",
      "431:\tlearn: 0.4752419\ttotal: 668ms\tremaining: 878ms\n",
      "432:\tlearn: 0.4749967\ttotal: 669ms\tremaining: 877ms\n",
      "433:\tlearn: 0.4748276\ttotal: 672ms\tremaining: 876ms\n",
      "434:\tlearn: 0.4746360\ttotal: 674ms\tremaining: 875ms\n",
      "435:\tlearn: 0.4744982\ttotal: 675ms\tremaining: 873ms\n",
      "436:\tlearn: 0.4743812\ttotal: 676ms\tremaining: 871ms\n",
      "437:\tlearn: 0.4742413\ttotal: 678ms\tremaining: 870ms\n",
      "438:\tlearn: 0.4741272\ttotal: 679ms\tremaining: 867ms\n",
      "439:\tlearn: 0.4738892\ttotal: 680ms\tremaining: 865ms\n",
      "440:\tlearn: 0.4737124\ttotal: 681ms\tremaining: 863ms\n",
      "441:\tlearn: 0.4735179\ttotal: 682ms\tremaining: 861ms\n",
      "442:\tlearn: 0.4733774\ttotal: 683ms\tremaining: 859ms\n",
      "443:\tlearn: 0.4732439\ttotal: 685ms\tremaining: 857ms\n",
      "444:\tlearn: 0.4729073\ttotal: 687ms\tremaining: 857ms\n",
      "445:\tlearn: 0.4727544\ttotal: 690ms\tremaining: 857ms\n",
      "446:\tlearn: 0.4726356\ttotal: 691ms\tremaining: 855ms\n",
      "447:\tlearn: 0.4724714\ttotal: 693ms\tremaining: 853ms\n",
      "448:\tlearn: 0.4722965\ttotal: 694ms\tremaining: 852ms\n",
      "449:\tlearn: 0.4720481\ttotal: 695ms\tremaining: 850ms\n",
      "450:\tlearn: 0.4719051\ttotal: 697ms\tremaining: 848ms\n",
      "451:\tlearn: 0.4718163\ttotal: 698ms\tremaining: 846ms\n",
      "452:\tlearn: 0.4717574\ttotal: 700ms\tremaining: 845ms\n",
      "453:\tlearn: 0.4716510\ttotal: 701ms\tremaining: 843ms\n",
      "454:\tlearn: 0.4715065\ttotal: 702ms\tremaining: 841ms\n",
      "455:\tlearn: 0.4713441\ttotal: 703ms\tremaining: 839ms\n",
      "456:\tlearn: 0.4712584\ttotal: 704ms\tremaining: 837ms\n",
      "457:\tlearn: 0.4711148\ttotal: 706ms\tremaining: 836ms\n",
      "458:\tlearn: 0.4709907\ttotal: 708ms\tremaining: 835ms\n",
      "459:\tlearn: 0.4708119\ttotal: 710ms\tremaining: 833ms\n",
      "460:\tlearn: 0.4706582\ttotal: 711ms\tremaining: 832ms\n",
      "461:\tlearn: 0.4705124\ttotal: 713ms\tremaining: 830ms\n",
      "462:\tlearn: 0.4702660\ttotal: 714ms\tremaining: 828ms\n",
      "463:\tlearn: 0.4701742\ttotal: 715ms\tremaining: 826ms\n",
      "464:\tlearn: 0.4699897\ttotal: 716ms\tremaining: 824ms\n",
      "465:\tlearn: 0.4697247\ttotal: 717ms\tremaining: 822ms\n",
      "466:\tlearn: 0.4694171\ttotal: 719ms\tremaining: 820ms\n",
      "467:\tlearn: 0.4692957\ttotal: 720ms\tremaining: 818ms\n",
      "468:\tlearn: 0.4691819\ttotal: 721ms\tremaining: 816ms\n",
      "469:\tlearn: 0.4690438\ttotal: 723ms\tremaining: 815ms\n",
      "470:\tlearn: 0.4688706\ttotal: 724ms\tremaining: 813ms\n",
      "471:\tlearn: 0.4688182\ttotal: 728ms\tremaining: 814ms\n",
      "472:\tlearn: 0.4686415\ttotal: 729ms\tremaining: 812ms\n",
      "473:\tlearn: 0.4685293\ttotal: 730ms\tremaining: 810ms\n",
      "474:\tlearn: 0.4684543\ttotal: 732ms\tremaining: 809ms\n",
      "475:\tlearn: 0.4684501\ttotal: 732ms\tremaining: 806ms\n",
      "476:\tlearn: 0.4683676\ttotal: 733ms\tremaining: 804ms\n",
      "477:\tlearn: 0.4681878\ttotal: 734ms\tremaining: 802ms\n",
      "478:\tlearn: 0.4680777\ttotal: 735ms\tremaining: 800ms\n",
      "479:\tlearn: 0.4680775\ttotal: 736ms\tremaining: 797ms\n",
      "480:\tlearn: 0.4680383\ttotal: 738ms\tremaining: 797ms\n",
      "481:\tlearn: 0.4678918\ttotal: 740ms\tremaining: 796ms\n",
      "482:\tlearn: 0.4677603\ttotal: 742ms\tremaining: 794ms\n",
      "483:\tlearn: 0.4676172\ttotal: 743ms\tremaining: 792ms\n",
      "484:\tlearn: 0.4674879\ttotal: 744ms\tremaining: 790ms\n",
      "485:\tlearn: 0.4673870\ttotal: 746ms\tremaining: 789ms\n",
      "486:\tlearn: 0.4672030\ttotal: 747ms\tremaining: 787ms\n",
      "487:\tlearn: 0.4670087\ttotal: 748ms\tremaining: 785ms\n",
      "488:\tlearn: 0.4668128\ttotal: 749ms\tremaining: 783ms\n",
      "489:\tlearn: 0.4666928\ttotal: 751ms\tremaining: 781ms\n",
      "490:\tlearn: 0.4665062\ttotal: 752ms\tremaining: 779ms\n",
      "491:\tlearn: 0.4664001\ttotal: 753ms\tremaining: 778ms\n",
      "492:\tlearn: 0.4662123\ttotal: 754ms\tremaining: 776ms\n",
      "493:\tlearn: 0.4660917\ttotal: 756ms\tremaining: 774ms\n",
      "494:\tlearn: 0.4659851\ttotal: 757ms\tremaining: 772ms\n",
      "495:\tlearn: 0.4658720\ttotal: 758ms\tremaining: 771ms\n",
      "496:\tlearn: 0.4657592\ttotal: 760ms\tremaining: 769ms\n",
      "497:\tlearn: 0.4656536\ttotal: 762ms\tremaining: 768ms\n",
      "498:\tlearn: 0.4655629\ttotal: 763ms\tremaining: 766ms\n",
      "499:\tlearn: 0.4653707\ttotal: 764ms\tremaining: 764ms\n",
      "500:\tlearn: 0.4653077\ttotal: 766ms\tremaining: 763ms\n",
      "501:\tlearn: 0.4650172\ttotal: 768ms\tremaining: 762ms\n",
      "502:\tlearn: 0.4648568\ttotal: 770ms\tremaining: 761ms\n",
      "503:\tlearn: 0.4647730\ttotal: 771ms\tremaining: 759ms\n",
      "504:\tlearn: 0.4646263\ttotal: 773ms\tremaining: 757ms\n",
      "505:\tlearn: 0.4644283\ttotal: 775ms\tremaining: 756ms\n",
      "506:\tlearn: 0.4641899\ttotal: 776ms\tremaining: 755ms\n",
      "507:\tlearn: 0.4640975\ttotal: 777ms\tremaining: 753ms\n",
      "508:\tlearn: 0.4639615\ttotal: 778ms\tremaining: 751ms\n",
      "509:\tlearn: 0.4636687\ttotal: 783ms\tremaining: 752ms\n",
      "510:\tlearn: 0.4634418\ttotal: 785ms\tremaining: 751ms\n",
      "511:\tlearn: 0.4633020\ttotal: 786ms\tremaining: 749ms\n",
      "512:\tlearn: 0.4630886\ttotal: 787ms\tremaining: 747ms\n",
      "513:\tlearn: 0.4629178\ttotal: 789ms\tremaining: 746ms\n",
      "514:\tlearn: 0.4627452\ttotal: 790ms\tremaining: 744ms\n",
      "515:\tlearn: 0.4626612\ttotal: 791ms\tremaining: 742ms\n",
      "516:\tlearn: 0.4622707\ttotal: 792ms\tremaining: 740ms\n",
      "517:\tlearn: 0.4621022\ttotal: 794ms\tremaining: 739ms\n",
      "518:\tlearn: 0.4620997\ttotal: 795ms\tremaining: 737ms\n",
      "519:\tlearn: 0.4619007\ttotal: 796ms\tremaining: 735ms\n",
      "520:\tlearn: 0.4617923\ttotal: 797ms\tremaining: 733ms\n",
      "521:\tlearn: 0.4616023\ttotal: 798ms\tremaining: 731ms\n",
      "522:\tlearn: 0.4614301\ttotal: 800ms\tremaining: 730ms\n",
      "523:\tlearn: 0.4612737\ttotal: 802ms\tremaining: 728ms\n",
      "524:\tlearn: 0.4610355\ttotal: 803ms\tremaining: 727ms\n",
      "525:\tlearn: 0.4608977\ttotal: 805ms\tremaining: 725ms\n",
      "526:\tlearn: 0.4608032\ttotal: 807ms\tremaining: 724ms\n",
      "527:\tlearn: 0.4606145\ttotal: 809ms\tremaining: 723ms\n",
      "528:\tlearn: 0.4604782\ttotal: 810ms\tremaining: 721ms\n",
      "529:\tlearn: 0.4603679\ttotal: 811ms\tremaining: 719ms\n",
      "530:\tlearn: 0.4601335\ttotal: 813ms\tremaining: 718ms\n",
      "531:\tlearn: 0.4600069\ttotal: 814ms\tremaining: 716ms\n",
      "532:\tlearn: 0.4598969\ttotal: 815ms\tremaining: 714ms\n",
      "533:\tlearn: 0.4597585\ttotal: 817ms\tremaining: 713ms\n",
      "534:\tlearn: 0.4595726\ttotal: 818ms\tremaining: 711ms\n",
      "535:\tlearn: 0.4594367\ttotal: 819ms\tremaining: 709ms\n",
      "536:\tlearn: 0.4592470\ttotal: 820ms\tremaining: 707ms\n",
      "537:\tlearn: 0.4591240\ttotal: 821ms\tremaining: 705ms\n",
      "538:\tlearn: 0.4589470\ttotal: 822ms\tremaining: 703ms\n",
      "539:\tlearn: 0.4587988\ttotal: 824ms\tremaining: 702ms\n",
      "540:\tlearn: 0.4586177\ttotal: 825ms\tremaining: 700ms\n",
      "541:\tlearn: 0.4583759\ttotal: 826ms\tremaining: 698ms\n",
      "542:\tlearn: 0.4582667\ttotal: 828ms\tremaining: 697ms\n",
      "543:\tlearn: 0.4581632\ttotal: 829ms\tremaining: 695ms\n",
      "544:\tlearn: 0.4580350\ttotal: 831ms\tremaining: 694ms\n",
      "545:\tlearn: 0.4579568\ttotal: 832ms\tremaining: 692ms\n",
      "546:\tlearn: 0.4577320\ttotal: 834ms\tremaining: 690ms\n",
      "547:\tlearn: 0.4575139\ttotal: 835ms\tremaining: 689ms\n",
      "548:\tlearn: 0.4574082\ttotal: 837ms\tremaining: 687ms\n",
      "549:\tlearn: 0.4572743\ttotal: 838ms\tremaining: 686ms\n",
      "550:\tlearn: 0.4569959\ttotal: 839ms\tremaining: 684ms\n",
      "551:\tlearn: 0.4568969\ttotal: 841ms\tremaining: 682ms\n",
      "552:\tlearn: 0.4568015\ttotal: 842ms\tremaining: 681ms\n",
      "553:\tlearn: 0.4567305\ttotal: 844ms\tremaining: 679ms\n",
      "554:\tlearn: 0.4565888\ttotal: 845ms\tremaining: 677ms\n",
      "555:\tlearn: 0.4564528\ttotal: 846ms\tremaining: 676ms\n",
      "556:\tlearn: 0.4563254\ttotal: 848ms\tremaining: 674ms\n",
      "557:\tlearn: 0.4561597\ttotal: 849ms\tremaining: 672ms\n",
      "558:\tlearn: 0.4560183\ttotal: 850ms\tremaining: 671ms\n",
      "559:\tlearn: 0.4558897\ttotal: 852ms\tremaining: 669ms\n",
      "560:\tlearn: 0.4557901\ttotal: 853ms\tremaining: 667ms\n",
      "561:\tlearn: 0.4556641\ttotal: 854ms\tremaining: 666ms\n",
      "562:\tlearn: 0.4554593\ttotal: 856ms\tremaining: 664ms\n",
      "563:\tlearn: 0.4553276\ttotal: 858ms\tremaining: 663ms\n",
      "564:\tlearn: 0.4552448\ttotal: 859ms\tremaining: 661ms\n",
      "565:\tlearn: 0.4551708\ttotal: 860ms\tremaining: 660ms\n",
      "566:\tlearn: 0.4550099\ttotal: 862ms\tremaining: 658ms\n",
      "567:\tlearn: 0.4548581\ttotal: 863ms\tremaining: 656ms\n",
      "568:\tlearn: 0.4547832\ttotal: 864ms\tremaining: 655ms\n",
      "569:\tlearn: 0.4546528\ttotal: 866ms\tremaining: 653ms\n",
      "570:\tlearn: 0.4544395\ttotal: 868ms\tremaining: 652ms\n",
      "571:\tlearn: 0.4543071\ttotal: 870ms\tremaining: 651ms\n",
      "572:\tlearn: 0.4542054\ttotal: 871ms\tremaining: 649ms\n",
      "573:\tlearn: 0.4540535\ttotal: 873ms\tremaining: 648ms\n",
      "574:\tlearn: 0.4538568\ttotal: 874ms\tremaining: 646ms\n",
      "575:\tlearn: 0.4537308\ttotal: 876ms\tremaining: 645ms\n",
      "576:\tlearn: 0.4536152\ttotal: 877ms\tremaining: 643ms\n",
      "577:\tlearn: 0.4534226\ttotal: 878ms\tremaining: 641ms\n",
      "578:\tlearn: 0.4531473\ttotal: 880ms\tremaining: 640ms\n",
      "579:\tlearn: 0.4529850\ttotal: 881ms\tremaining: 638ms\n",
      "580:\tlearn: 0.4529032\ttotal: 882ms\tremaining: 636ms\n",
      "581:\tlearn: 0.4528723\ttotal: 883ms\tremaining: 634ms\n",
      "582:\tlearn: 0.4528355\ttotal: 884ms\tremaining: 633ms\n",
      "583:\tlearn: 0.4526636\ttotal: 886ms\tremaining: 631ms\n",
      "584:\tlearn: 0.4525325\ttotal: 887ms\tremaining: 630ms\n",
      "585:\tlearn: 0.4522340\ttotal: 889ms\tremaining: 628ms\n",
      "586:\tlearn: 0.4521453\ttotal: 890ms\tremaining: 626ms\n",
      "587:\tlearn: 0.4519781\ttotal: 892ms\tremaining: 625ms\n",
      "588:\tlearn: 0.4517318\ttotal: 894ms\tremaining: 623ms\n",
      "589:\tlearn: 0.4516301\ttotal: 895ms\tremaining: 622ms\n",
      "590:\tlearn: 0.4514371\ttotal: 896ms\tremaining: 620ms\n",
      "591:\tlearn: 0.4512608\ttotal: 898ms\tremaining: 619ms\n",
      "592:\tlearn: 0.4509758\ttotal: 899ms\tremaining: 617ms\n",
      "593:\tlearn: 0.4508121\ttotal: 901ms\tremaining: 616ms\n",
      "594:\tlearn: 0.4506653\ttotal: 902ms\tremaining: 614ms\n",
      "595:\tlearn: 0.4505950\ttotal: 904ms\tremaining: 613ms\n",
      "596:\tlearn: 0.4503845\ttotal: 905ms\tremaining: 611ms\n",
      "597:\tlearn: 0.4502070\ttotal: 907ms\tremaining: 610ms\n",
      "598:\tlearn: 0.4502070\ttotal: 907ms\tremaining: 608ms\n",
      "599:\tlearn: 0.4500292\ttotal: 909ms\tremaining: 606ms\n",
      "600:\tlearn: 0.4500071\ttotal: 910ms\tremaining: 604ms\n",
      "601:\tlearn: 0.4498890\ttotal: 912ms\tremaining: 603ms\n",
      "602:\tlearn: 0.4497062\ttotal: 913ms\tremaining: 601ms\n",
      "603:\tlearn: 0.4495568\ttotal: 917ms\tremaining: 601ms\n",
      "604:\tlearn: 0.4494502\ttotal: 918ms\tremaining: 600ms\n",
      "605:\tlearn: 0.4493296\ttotal: 920ms\tremaining: 598ms\n",
      "606:\tlearn: 0.4491446\ttotal: 921ms\tremaining: 596ms\n",
      "607:\tlearn: 0.4490342\ttotal: 922ms\tremaining: 595ms\n",
      "608:\tlearn: 0.4489264\ttotal: 924ms\tremaining: 593ms\n",
      "609:\tlearn: 0.4488769\ttotal: 925ms\tremaining: 591ms\n",
      "610:\tlearn: 0.4487252\ttotal: 927ms\tremaining: 590ms\n",
      "611:\tlearn: 0.4486490\ttotal: 928ms\tremaining: 588ms\n",
      "612:\tlearn: 0.4484703\ttotal: 929ms\tremaining: 587ms\n",
      "613:\tlearn: 0.4483069\ttotal: 930ms\tremaining: 585ms\n",
      "614:\tlearn: 0.4481458\ttotal: 931ms\tremaining: 583ms\n",
      "615:\tlearn: 0.4479583\ttotal: 932ms\tremaining: 581ms\n",
      "616:\tlearn: 0.4477267\ttotal: 934ms\tremaining: 580ms\n",
      "617:\tlearn: 0.4476092\ttotal: 935ms\tremaining: 578ms\n",
      "618:\tlearn: 0.4474816\ttotal: 936ms\tremaining: 576ms\n",
      "619:\tlearn: 0.4472892\ttotal: 937ms\tremaining: 574ms\n",
      "620:\tlearn: 0.4471559\ttotal: 940ms\tremaining: 574ms\n",
      "621:\tlearn: 0.4470452\ttotal: 943ms\tremaining: 573ms\n",
      "622:\tlearn: 0.4468552\ttotal: 945ms\tremaining: 572ms\n",
      "623:\tlearn: 0.4467276\ttotal: 947ms\tremaining: 570ms\n",
      "624:\tlearn: 0.4466015\ttotal: 948ms\tremaining: 569ms\n",
      "625:\tlearn: 0.4463840\ttotal: 949ms\tremaining: 567ms\n",
      "626:\tlearn: 0.4462207\ttotal: 950ms\tremaining: 565ms\n",
      "627:\tlearn: 0.4460803\ttotal: 952ms\tremaining: 564ms\n",
      "628:\tlearn: 0.4458702\ttotal: 953ms\tremaining: 562ms\n",
      "629:\tlearn: 0.4457453\ttotal: 954ms\tremaining: 560ms\n",
      "630:\tlearn: 0.4456520\ttotal: 956ms\tremaining: 559ms\n",
      "631:\tlearn: 0.4453873\ttotal: 957ms\tremaining: 557ms\n",
      "632:\tlearn: 0.4452760\ttotal: 959ms\tremaining: 556ms\n",
      "633:\tlearn: 0.4451503\ttotal: 960ms\tremaining: 554ms\n",
      "634:\tlearn: 0.4450219\ttotal: 961ms\tremaining: 552ms\n",
      "635:\tlearn: 0.4449161\ttotal: 962ms\tremaining: 551ms\n",
      "636:\tlearn: 0.4447325\ttotal: 964ms\tremaining: 549ms\n",
      "637:\tlearn: 0.4444746\ttotal: 966ms\tremaining: 548ms\n",
      "638:\tlearn: 0.4442492\ttotal: 967ms\tremaining: 546ms\n",
      "639:\tlearn: 0.4439909\ttotal: 969ms\tremaining: 545ms\n",
      "640:\tlearn: 0.4438812\ttotal: 970ms\tremaining: 543ms\n",
      "641:\tlearn: 0.4437377\ttotal: 971ms\tremaining: 542ms\n",
      "642:\tlearn: 0.4437139\ttotal: 973ms\tremaining: 540ms\n",
      "643:\tlearn: 0.4434706\ttotal: 974ms\tremaining: 538ms\n",
      "644:\tlearn: 0.4433645\ttotal: 975ms\tremaining: 537ms\n",
      "645:\tlearn: 0.4432307\ttotal: 976ms\tremaining: 535ms\n",
      "646:\tlearn: 0.4429898\ttotal: 977ms\tremaining: 533ms\n",
      "647:\tlearn: 0.4428692\ttotal: 978ms\tremaining: 531ms\n",
      "648:\tlearn: 0.4427413\ttotal: 979ms\tremaining: 530ms\n",
      "649:\tlearn: 0.4425639\ttotal: 981ms\tremaining: 528ms\n",
      "650:\tlearn: 0.4422796\ttotal: 981ms\tremaining: 526ms\n",
      "651:\tlearn: 0.4420608\ttotal: 984ms\tremaining: 525ms\n",
      "652:\tlearn: 0.4418955\ttotal: 986ms\tremaining: 524ms\n",
      "653:\tlearn: 0.4417661\ttotal: 987ms\tremaining: 522ms\n",
      "654:\tlearn: 0.4416425\ttotal: 990ms\tremaining: 521ms\n",
      "655:\tlearn: 0.4415164\ttotal: 991ms\tremaining: 520ms\n",
      "656:\tlearn: 0.4413470\ttotal: 996ms\tremaining: 520ms\n",
      "657:\tlearn: 0.4411556\ttotal: 1000ms\tremaining: 520ms\n",
      "658:\tlearn: 0.4410500\ttotal: 1s\tremaining: 518ms\n",
      "659:\tlearn: 0.4409109\ttotal: 1s\tremaining: 516ms\n",
      "660:\tlearn: 0.4407628\ttotal: 1s\tremaining: 515ms\n",
      "661:\tlearn: 0.4406260\ttotal: 1s\tremaining: 513ms\n",
      "662:\tlearn: 0.4405025\ttotal: 1.01s\tremaining: 512ms\n",
      "663:\tlearn: 0.4403204\ttotal: 1.01s\tremaining: 511ms\n",
      "664:\tlearn: 0.4402091\ttotal: 1.01s\tremaining: 509ms\n",
      "665:\tlearn: 0.4400504\ttotal: 1.01s\tremaining: 508ms\n",
      "666:\tlearn: 0.4398587\ttotal: 1.01s\tremaining: 506ms\n",
      "667:\tlearn: 0.4396956\ttotal: 1.01s\tremaining: 505ms\n",
      "668:\tlearn: 0.4395276\ttotal: 1.02s\tremaining: 504ms\n",
      "669:\tlearn: 0.4393856\ttotal: 1.02s\tremaining: 502ms\n",
      "670:\tlearn: 0.4392785\ttotal: 1.02s\tremaining: 501ms\n",
      "671:\tlearn: 0.4391782\ttotal: 1.02s\tremaining: 499ms\n",
      "672:\tlearn: 0.4388310\ttotal: 1.02s\tremaining: 498ms\n",
      "673:\tlearn: 0.4385519\ttotal: 1.03s\tremaining: 496ms\n",
      "674:\tlearn: 0.4383963\ttotal: 1.03s\tremaining: 495ms\n",
      "675:\tlearn: 0.4382070\ttotal: 1.03s\tremaining: 493ms\n",
      "676:\tlearn: 0.4381014\ttotal: 1.03s\tremaining: 491ms\n",
      "677:\tlearn: 0.4380981\ttotal: 1.03s\tremaining: 489ms\n",
      "678:\tlearn: 0.4379271\ttotal: 1.03s\tremaining: 488ms\n",
      "679:\tlearn: 0.4378062\ttotal: 1.03s\tremaining: 486ms\n",
      "680:\tlearn: 0.4375841\ttotal: 1.03s\tremaining: 484ms\n",
      "681:\tlearn: 0.4374130\ttotal: 1.03s\tremaining: 482ms\n",
      "682:\tlearn: 0.4372890\ttotal: 1.04s\tremaining: 481ms\n",
      "683:\tlearn: 0.4371946\ttotal: 1.04s\tremaining: 479ms\n",
      "684:\tlearn: 0.4370544\ttotal: 1.04s\tremaining: 477ms\n",
      "685:\tlearn: 0.4369152\ttotal: 1.04s\tremaining: 476ms\n",
      "686:\tlearn: 0.4367503\ttotal: 1.04s\tremaining: 474ms\n",
      "687:\tlearn: 0.4365259\ttotal: 1.04s\tremaining: 473ms\n",
      "688:\tlearn: 0.4363688\ttotal: 1.04s\tremaining: 471ms\n",
      "689:\tlearn: 0.4361604\ttotal: 1.04s\tremaining: 469ms\n",
      "690:\tlearn: 0.4360786\ttotal: 1.04s\tremaining: 468ms\n",
      "691:\tlearn: 0.4357950\ttotal: 1.05s\tremaining: 466ms\n",
      "692:\tlearn: 0.4356833\ttotal: 1.05s\tremaining: 464ms\n",
      "693:\tlearn: 0.4354951\ttotal: 1.05s\tremaining: 463ms\n",
      "694:\tlearn: 0.4354804\ttotal: 1.05s\tremaining: 461ms\n",
      "695:\tlearn: 0.4353610\ttotal: 1.05s\tremaining: 460ms\n",
      "696:\tlearn: 0.4351164\ttotal: 1.05s\tremaining: 458ms\n",
      "697:\tlearn: 0.4350108\ttotal: 1.05s\tremaining: 457ms\n",
      "698:\tlearn: 0.4348593\ttotal: 1.06s\tremaining: 455ms\n",
      "699:\tlearn: 0.4346335\ttotal: 1.06s\tremaining: 453ms\n",
      "700:\tlearn: 0.4344475\ttotal: 1.06s\tremaining: 452ms\n",
      "701:\tlearn: 0.4342242\ttotal: 1.06s\tremaining: 450ms\n",
      "702:\tlearn: 0.4340219\ttotal: 1.06s\tremaining: 448ms\n",
      "703:\tlearn: 0.4338401\ttotal: 1.06s\tremaining: 447ms\n",
      "704:\tlearn: 0.4337081\ttotal: 1.06s\tremaining: 445ms\n",
      "705:\tlearn: 0.4335172\ttotal: 1.06s\tremaining: 443ms\n",
      "706:\tlearn: 0.4333774\ttotal: 1.06s\tremaining: 442ms\n",
      "707:\tlearn: 0.4332610\ttotal: 1.07s\tremaining: 440ms\n",
      "708:\tlearn: 0.4331234\ttotal: 1.07s\tremaining: 439ms\n",
      "709:\tlearn: 0.4329139\ttotal: 1.07s\tremaining: 437ms\n",
      "710:\tlearn: 0.4327963\ttotal: 1.07s\tremaining: 435ms\n",
      "711:\tlearn: 0.4325983\ttotal: 1.07s\tremaining: 434ms\n",
      "712:\tlearn: 0.4324448\ttotal: 1.07s\tremaining: 432ms\n",
      "713:\tlearn: 0.4322841\ttotal: 1.07s\tremaining: 430ms\n",
      "714:\tlearn: 0.4321597\ttotal: 1.07s\tremaining: 428ms\n",
      "715:\tlearn: 0.4320020\ttotal: 1.08s\tremaining: 427ms\n",
      "716:\tlearn: 0.4317953\ttotal: 1.08s\tremaining: 425ms\n",
      "717:\tlearn: 0.4316515\ttotal: 1.08s\tremaining: 424ms\n",
      "718:\tlearn: 0.4315407\ttotal: 1.08s\tremaining: 422ms\n",
      "719:\tlearn: 0.4313456\ttotal: 1.08s\tremaining: 421ms\n",
      "720:\tlearn: 0.4310980\ttotal: 1.08s\tremaining: 419ms\n",
      "721:\tlearn: 0.4308964\ttotal: 1.08s\tremaining: 418ms\n",
      "722:\tlearn: 0.4307721\ttotal: 1.09s\tremaining: 416ms\n",
      "723:\tlearn: 0.4305843\ttotal: 1.09s\tremaining: 415ms\n",
      "724:\tlearn: 0.4304780\ttotal: 1.09s\tremaining: 413ms\n",
      "725:\tlearn: 0.4303517\ttotal: 1.09s\tremaining: 411ms\n",
      "726:\tlearn: 0.4302249\ttotal: 1.09s\tremaining: 410ms\n",
      "727:\tlearn: 0.4301163\ttotal: 1.09s\tremaining: 409ms\n",
      "728:\tlearn: 0.4299149\ttotal: 1.09s\tremaining: 407ms\n",
      "729:\tlearn: 0.4297516\ttotal: 1.1s\tremaining: 405ms\n",
      "730:\tlearn: 0.4296034\ttotal: 1.1s\tremaining: 404ms\n",
      "731:\tlearn: 0.4294598\ttotal: 1.1s\tremaining: 402ms\n",
      "732:\tlearn: 0.4293398\ttotal: 1.1s\tremaining: 401ms\n",
      "733:\tlearn: 0.4292479\ttotal: 1.1s\tremaining: 399ms\n",
      "734:\tlearn: 0.4290624\ttotal: 1.1s\tremaining: 398ms\n",
      "735:\tlearn: 0.4289241\ttotal: 1.1s\tremaining: 396ms\n",
      "736:\tlearn: 0.4287529\ttotal: 1.11s\tremaining: 395ms\n",
      "737:\tlearn: 0.4286160\ttotal: 1.11s\tremaining: 394ms\n",
      "738:\tlearn: 0.4284814\ttotal: 1.11s\tremaining: 392ms\n",
      "739:\tlearn: 0.4281959\ttotal: 1.11s\tremaining: 391ms\n",
      "740:\tlearn: 0.4280507\ttotal: 1.11s\tremaining: 390ms\n",
      "741:\tlearn: 0.4279325\ttotal: 1.12s\tremaining: 388ms\n",
      "742:\tlearn: 0.4277860\ttotal: 1.12s\tremaining: 387ms\n",
      "743:\tlearn: 0.4276346\ttotal: 1.12s\tremaining: 385ms\n",
      "744:\tlearn: 0.4274907\ttotal: 1.12s\tremaining: 384ms\n",
      "745:\tlearn: 0.4273189\ttotal: 1.12s\tremaining: 382ms\n",
      "746:\tlearn: 0.4271833\ttotal: 1.12s\tremaining: 380ms\n",
      "747:\tlearn: 0.4269821\ttotal: 1.12s\tremaining: 379ms\n",
      "748:\tlearn: 0.4267180\ttotal: 1.13s\tremaining: 377ms\n",
      "749:\tlearn: 0.4265417\ttotal: 1.13s\tremaining: 375ms\n",
      "750:\tlearn: 0.4264134\ttotal: 1.13s\tremaining: 374ms\n",
      "751:\tlearn: 0.4263191\ttotal: 1.13s\tremaining: 372ms\n",
      "752:\tlearn: 0.4262078\ttotal: 1.13s\tremaining: 370ms\n",
      "753:\tlearn: 0.4261218\ttotal: 1.13s\tremaining: 369ms\n",
      "754:\tlearn: 0.4260095\ttotal: 1.13s\tremaining: 367ms\n",
      "755:\tlearn: 0.4258056\ttotal: 1.13s\tremaining: 366ms\n",
      "756:\tlearn: 0.4257410\ttotal: 1.13s\tremaining: 364ms\n",
      "757:\tlearn: 0.4256650\ttotal: 1.14s\tremaining: 362ms\n",
      "758:\tlearn: 0.4255502\ttotal: 1.14s\tremaining: 361ms\n",
      "759:\tlearn: 0.4253356\ttotal: 1.14s\tremaining: 359ms\n",
      "760:\tlearn: 0.4251736\ttotal: 1.14s\tremaining: 357ms\n",
      "761:\tlearn: 0.4250227\ttotal: 1.14s\tremaining: 356ms\n",
      "762:\tlearn: 0.4248840\ttotal: 1.14s\tremaining: 354ms\n",
      "763:\tlearn: 0.4247018\ttotal: 1.14s\tremaining: 353ms\n",
      "764:\tlearn: 0.4243429\ttotal: 1.14s\tremaining: 351ms\n",
      "765:\tlearn: 0.4242386\ttotal: 1.14s\tremaining: 349ms\n",
      "766:\tlearn: 0.4241098\ttotal: 1.15s\tremaining: 348ms\n",
      "767:\tlearn: 0.4240064\ttotal: 1.15s\tremaining: 346ms\n",
      "768:\tlearn: 0.4238471\ttotal: 1.15s\tremaining: 345ms\n",
      "769:\tlearn: 0.4236413\ttotal: 1.15s\tremaining: 343ms\n",
      "770:\tlearn: 0.4235631\ttotal: 1.15s\tremaining: 342ms\n",
      "771:\tlearn: 0.4234284\ttotal: 1.15s\tremaining: 340ms\n",
      "772:\tlearn: 0.4233033\ttotal: 1.15s\tremaining: 339ms\n",
      "773:\tlearn: 0.4231774\ttotal: 1.15s\tremaining: 337ms\n",
      "774:\tlearn: 0.4231137\ttotal: 1.15s\tremaining: 335ms\n",
      "775:\tlearn: 0.4229924\ttotal: 1.16s\tremaining: 334ms\n",
      "776:\tlearn: 0.4228025\ttotal: 1.16s\tremaining: 332ms\n",
      "777:\tlearn: 0.4224658\ttotal: 1.16s\tremaining: 331ms\n",
      "778:\tlearn: 0.4223441\ttotal: 1.16s\tremaining: 329ms\n",
      "779:\tlearn: 0.4221908\ttotal: 1.16s\tremaining: 328ms\n",
      "780:\tlearn: 0.4220623\ttotal: 1.16s\tremaining: 326ms\n",
      "781:\tlearn: 0.4219020\ttotal: 1.16s\tremaining: 325ms\n",
      "782:\tlearn: 0.4218425\ttotal: 1.17s\tremaining: 323ms\n",
      "783:\tlearn: 0.4217017\ttotal: 1.17s\tremaining: 322ms\n",
      "784:\tlearn: 0.4215446\ttotal: 1.17s\tremaining: 320ms\n",
      "785:\tlearn: 0.4214126\ttotal: 1.17s\tremaining: 319ms\n",
      "786:\tlearn: 0.4211931\ttotal: 1.17s\tremaining: 317ms\n",
      "787:\tlearn: 0.4209901\ttotal: 1.17s\tremaining: 316ms\n",
      "788:\tlearn: 0.4207408\ttotal: 1.18s\tremaining: 314ms\n",
      "789:\tlearn: 0.4204670\ttotal: 1.18s\tremaining: 313ms\n",
      "790:\tlearn: 0.4202392\ttotal: 1.18s\tremaining: 311ms\n",
      "791:\tlearn: 0.4201051\ttotal: 1.18s\tremaining: 310ms\n",
      "792:\tlearn: 0.4200354\ttotal: 1.18s\tremaining: 308ms\n",
      "793:\tlearn: 0.4197357\ttotal: 1.18s\tremaining: 307ms\n",
      "794:\tlearn: 0.4195389\ttotal: 1.18s\tremaining: 305ms\n",
      "795:\tlearn: 0.4193296\ttotal: 1.18s\tremaining: 303ms\n",
      "796:\tlearn: 0.4191755\ttotal: 1.18s\tremaining: 302ms\n",
      "797:\tlearn: 0.4189380\ttotal: 1.19s\tremaining: 300ms\n",
      "798:\tlearn: 0.4189240\ttotal: 1.19s\tremaining: 299ms\n",
      "799:\tlearn: 0.4187792\ttotal: 1.19s\tremaining: 297ms\n",
      "800:\tlearn: 0.4185772\ttotal: 1.19s\tremaining: 296ms\n",
      "801:\tlearn: 0.4184115\ttotal: 1.19s\tremaining: 294ms\n",
      "802:\tlearn: 0.4183124\ttotal: 1.19s\tremaining: 293ms\n",
      "803:\tlearn: 0.4179619\ttotal: 1.2s\tremaining: 291ms\n",
      "804:\tlearn: 0.4178647\ttotal: 1.2s\tremaining: 290ms\n",
      "805:\tlearn: 0.4176971\ttotal: 1.2s\tremaining: 288ms\n",
      "806:\tlearn: 0.4175858\ttotal: 1.2s\tremaining: 287ms\n",
      "807:\tlearn: 0.4172624\ttotal: 1.2s\tremaining: 286ms\n",
      "808:\tlearn: 0.4171092\ttotal: 1.2s\tremaining: 284ms\n",
      "809:\tlearn: 0.4169927\ttotal: 1.21s\tremaining: 283ms\n",
      "810:\tlearn: 0.4167795\ttotal: 1.21s\tremaining: 281ms\n",
      "811:\tlearn: 0.4166641\ttotal: 1.21s\tremaining: 280ms\n",
      "812:\tlearn: 0.4165277\ttotal: 1.21s\tremaining: 279ms\n",
      "813:\tlearn: 0.4164753\ttotal: 1.21s\tremaining: 277ms\n",
      "814:\tlearn: 0.4163321\ttotal: 1.21s\tremaining: 276ms\n",
      "815:\tlearn: 0.4161494\ttotal: 1.22s\tremaining: 274ms\n",
      "816:\tlearn: 0.4158882\ttotal: 1.22s\tremaining: 273ms\n",
      "817:\tlearn: 0.4156903\ttotal: 1.22s\tremaining: 271ms\n",
      "818:\tlearn: 0.4155261\ttotal: 1.22s\tremaining: 270ms\n",
      "819:\tlearn: 0.4153600\ttotal: 1.22s\tremaining: 268ms\n",
      "820:\tlearn: 0.4151792\ttotal: 1.22s\tremaining: 267ms\n",
      "821:\tlearn: 0.4150845\ttotal: 1.23s\tremaining: 265ms\n",
      "822:\tlearn: 0.4149456\ttotal: 1.23s\tremaining: 264ms\n",
      "823:\tlearn: 0.4146171\ttotal: 1.23s\tremaining: 263ms\n",
      "824:\tlearn: 0.4144865\ttotal: 1.23s\tremaining: 261ms\n",
      "825:\tlearn: 0.4143878\ttotal: 1.23s\tremaining: 260ms\n",
      "826:\tlearn: 0.4142246\ttotal: 1.23s\tremaining: 258ms\n",
      "827:\tlearn: 0.4140890\ttotal: 1.24s\tremaining: 257ms\n",
      "828:\tlearn: 0.4140233\ttotal: 1.24s\tremaining: 255ms\n",
      "829:\tlearn: 0.4138465\ttotal: 1.24s\tremaining: 254ms\n",
      "830:\tlearn: 0.4135545\ttotal: 1.24s\tremaining: 252ms\n",
      "831:\tlearn: 0.4132648\ttotal: 1.24s\tremaining: 251ms\n",
      "832:\tlearn: 0.4130766\ttotal: 1.24s\tremaining: 249ms\n",
      "833:\tlearn: 0.4128859\ttotal: 1.24s\tremaining: 248ms\n",
      "834:\tlearn: 0.4126387\ttotal: 1.25s\tremaining: 246ms\n",
      "835:\tlearn: 0.4124949\ttotal: 1.25s\tremaining: 245ms\n",
      "836:\tlearn: 0.4123010\ttotal: 1.25s\tremaining: 243ms\n",
      "837:\tlearn: 0.4122069\ttotal: 1.25s\tremaining: 242ms\n",
      "838:\tlearn: 0.4119193\ttotal: 1.25s\tremaining: 240ms\n",
      "839:\tlearn: 0.4117765\ttotal: 1.25s\tremaining: 239ms\n",
      "840:\tlearn: 0.4116422\ttotal: 1.25s\tremaining: 237ms\n",
      "841:\tlearn: 0.4115335\ttotal: 1.25s\tremaining: 235ms\n",
      "842:\tlearn: 0.4112687\ttotal: 1.25s\tremaining: 234ms\n",
      "843:\tlearn: 0.4111110\ttotal: 1.26s\tremaining: 232ms\n",
      "844:\tlearn: 0.4110329\ttotal: 1.26s\tremaining: 231ms\n",
      "845:\tlearn: 0.4109481\ttotal: 1.26s\tremaining: 229ms\n",
      "846:\tlearn: 0.4106548\ttotal: 1.26s\tremaining: 228ms\n",
      "847:\tlearn: 0.4104463\ttotal: 1.26s\tremaining: 226ms\n",
      "848:\tlearn: 0.4102742\ttotal: 1.26s\tremaining: 225ms\n",
      "849:\tlearn: 0.4101574\ttotal: 1.26s\tremaining: 223ms\n",
      "850:\tlearn: 0.4100026\ttotal: 1.26s\tremaining: 222ms\n",
      "851:\tlearn: 0.4099339\ttotal: 1.27s\tremaining: 220ms\n",
      "852:\tlearn: 0.4097749\ttotal: 1.27s\tremaining: 219ms\n",
      "853:\tlearn: 0.4097233\ttotal: 1.27s\tremaining: 217ms\n",
      "854:\tlearn: 0.4095478\ttotal: 1.27s\tremaining: 216ms\n",
      "855:\tlearn: 0.4093769\ttotal: 1.27s\tremaining: 214ms\n",
      "856:\tlearn: 0.4091596\ttotal: 1.28s\tremaining: 213ms\n",
      "857:\tlearn: 0.4089554\ttotal: 1.28s\tremaining: 212ms\n",
      "858:\tlearn: 0.4087859\ttotal: 1.28s\tremaining: 210ms\n",
      "859:\tlearn: 0.4086723\ttotal: 1.28s\tremaining: 209ms\n",
      "860:\tlearn: 0.4085165\ttotal: 1.28s\tremaining: 207ms\n",
      "861:\tlearn: 0.4084531\ttotal: 1.28s\tremaining: 205ms\n",
      "862:\tlearn: 0.4082988\ttotal: 1.28s\tremaining: 204ms\n",
      "863:\tlearn: 0.4081287\ttotal: 1.28s\tremaining: 202ms\n",
      "864:\tlearn: 0.4079336\ttotal: 1.29s\tremaining: 201ms\n",
      "865:\tlearn: 0.4077179\ttotal: 1.29s\tremaining: 199ms\n",
      "866:\tlearn: 0.4075607\ttotal: 1.29s\tremaining: 198ms\n",
      "867:\tlearn: 0.4072905\ttotal: 1.29s\tremaining: 196ms\n",
      "868:\tlearn: 0.4070481\ttotal: 1.29s\tremaining: 195ms\n",
      "869:\tlearn: 0.4069528\ttotal: 1.29s\tremaining: 193ms\n",
      "870:\tlearn: 0.4067252\ttotal: 1.3s\tremaining: 192ms\n",
      "871:\tlearn: 0.4065735\ttotal: 1.3s\tremaining: 191ms\n",
      "872:\tlearn: 0.4064499\ttotal: 1.3s\tremaining: 189ms\n",
      "873:\tlearn: 0.4063403\ttotal: 1.3s\tremaining: 187ms\n",
      "874:\tlearn: 0.4061310\ttotal: 1.3s\tremaining: 186ms\n",
      "875:\tlearn: 0.4059497\ttotal: 1.3s\tremaining: 185ms\n",
      "876:\tlearn: 0.4058954\ttotal: 1.3s\tremaining: 183ms\n",
      "877:\tlearn: 0.4058223\ttotal: 1.31s\tremaining: 182ms\n",
      "878:\tlearn: 0.4056734\ttotal: 1.31s\tremaining: 180ms\n",
      "879:\tlearn: 0.4055767\ttotal: 1.31s\tremaining: 178ms\n",
      "880:\tlearn: 0.4053498\ttotal: 1.31s\tremaining: 177ms\n",
      "881:\tlearn: 0.4051236\ttotal: 1.31s\tremaining: 175ms\n",
      "882:\tlearn: 0.4050408\ttotal: 1.31s\tremaining: 174ms\n",
      "883:\tlearn: 0.4049614\ttotal: 1.31s\tremaining: 173ms\n",
      "884:\tlearn: 0.4048142\ttotal: 1.32s\tremaining: 171ms\n",
      "885:\tlearn: 0.4047216\ttotal: 1.32s\tremaining: 170ms\n",
      "886:\tlearn: 0.4044373\ttotal: 1.32s\tremaining: 168ms\n",
      "887:\tlearn: 0.4042553\ttotal: 1.32s\tremaining: 167ms\n",
      "888:\tlearn: 0.4040691\ttotal: 1.32s\tremaining: 165ms\n",
      "889:\tlearn: 0.4039437\ttotal: 1.32s\tremaining: 164ms\n",
      "890:\tlearn: 0.4039196\ttotal: 1.32s\tremaining: 162ms\n",
      "891:\tlearn: 0.4038510\ttotal: 1.33s\tremaining: 161ms\n",
      "892:\tlearn: 0.4036020\ttotal: 1.33s\tremaining: 159ms\n",
      "893:\tlearn: 0.4034709\ttotal: 1.33s\tremaining: 158ms\n",
      "894:\tlearn: 0.4033250\ttotal: 1.33s\tremaining: 156ms\n",
      "895:\tlearn: 0.4030828\ttotal: 1.33s\tremaining: 155ms\n",
      "896:\tlearn: 0.4030569\ttotal: 1.33s\tremaining: 153ms\n",
      "897:\tlearn: 0.4030082\ttotal: 1.33s\tremaining: 152ms\n",
      "898:\tlearn: 0.4028031\ttotal: 1.34s\tremaining: 150ms\n",
      "899:\tlearn: 0.4025752\ttotal: 1.34s\tremaining: 149ms\n",
      "900:\tlearn: 0.4024166\ttotal: 1.34s\tremaining: 147ms\n",
      "901:\tlearn: 0.4022356\ttotal: 1.34s\tremaining: 146ms\n",
      "902:\tlearn: 0.4019998\ttotal: 1.34s\tremaining: 144ms\n",
      "903:\tlearn: 0.4019790\ttotal: 1.34s\tremaining: 143ms\n",
      "904:\tlearn: 0.4018822\ttotal: 1.35s\tremaining: 141ms\n",
      "905:\tlearn: 0.4016967\ttotal: 1.35s\tremaining: 140ms\n",
      "906:\tlearn: 0.4015376\ttotal: 1.35s\tremaining: 138ms\n",
      "907:\tlearn: 0.4014122\ttotal: 1.35s\tremaining: 137ms\n",
      "908:\tlearn: 0.4012897\ttotal: 1.35s\tremaining: 135ms\n",
      "909:\tlearn: 0.4011423\ttotal: 1.35s\tremaining: 134ms\n",
      "910:\tlearn: 0.4011020\ttotal: 1.35s\tremaining: 132ms\n",
      "911:\tlearn: 0.4007779\ttotal: 1.35s\tremaining: 131ms\n",
      "912:\tlearn: 0.4005576\ttotal: 1.36s\tremaining: 129ms\n",
      "913:\tlearn: 0.4004107\ttotal: 1.36s\tremaining: 128ms\n",
      "914:\tlearn: 0.4002102\ttotal: 1.36s\tremaining: 126ms\n",
      "915:\tlearn: 0.4001802\ttotal: 1.36s\tremaining: 125ms\n",
      "916:\tlearn: 0.3999058\ttotal: 1.36s\tremaining: 123ms\n",
      "917:\tlearn: 0.3996675\ttotal: 1.36s\tremaining: 122ms\n",
      "918:\tlearn: 0.3995943\ttotal: 1.36s\tremaining: 120ms\n",
      "919:\tlearn: 0.3994722\ttotal: 1.37s\tremaining: 119ms\n",
      "920:\tlearn: 0.3993596\ttotal: 1.37s\tremaining: 117ms\n",
      "921:\tlearn: 0.3991758\ttotal: 1.37s\tremaining: 116ms\n",
      "922:\tlearn: 0.3991424\ttotal: 1.37s\tremaining: 114ms\n",
      "923:\tlearn: 0.3989825\ttotal: 1.37s\tremaining: 113ms\n",
      "924:\tlearn: 0.3988056\ttotal: 1.37s\tremaining: 111ms\n",
      "925:\tlearn: 0.3986700\ttotal: 1.38s\tremaining: 110ms\n",
      "926:\tlearn: 0.3985376\ttotal: 1.38s\tremaining: 108ms\n",
      "927:\tlearn: 0.3985210\ttotal: 1.38s\tremaining: 107ms\n",
      "928:\tlearn: 0.3983740\ttotal: 1.38s\tremaining: 105ms\n",
      "929:\tlearn: 0.3982905\ttotal: 1.38s\tremaining: 104ms\n",
      "930:\tlearn: 0.3980309\ttotal: 1.38s\tremaining: 102ms\n",
      "931:\tlearn: 0.3978784\ttotal: 1.38s\tremaining: 101ms\n",
      "932:\tlearn: 0.3977928\ttotal: 1.39s\tremaining: 99.5ms\n",
      "933:\tlearn: 0.3975901\ttotal: 1.39s\tremaining: 98ms\n",
      "934:\tlearn: 0.3974962\ttotal: 1.39s\tremaining: 96.5ms\n",
      "935:\tlearn: 0.3973879\ttotal: 1.39s\tremaining: 95ms\n",
      "936:\tlearn: 0.3972601\ttotal: 1.39s\tremaining: 93.6ms\n",
      "937:\tlearn: 0.3970158\ttotal: 1.39s\tremaining: 92.1ms\n",
      "938:\tlearn: 0.3970071\ttotal: 1.39s\tremaining: 90.6ms\n",
      "939:\tlearn: 0.3968105\ttotal: 1.4s\tremaining: 89.1ms\n",
      "940:\tlearn: 0.3966734\ttotal: 1.4s\tremaining: 87.6ms\n",
      "941:\tlearn: 0.3965091\ttotal: 1.4s\tremaining: 86.1ms\n",
      "942:\tlearn: 0.3963309\ttotal: 1.4s\tremaining: 84.6ms\n",
      "943:\tlearn: 0.3961860\ttotal: 1.4s\tremaining: 83.1ms\n",
      "944:\tlearn: 0.3959687\ttotal: 1.4s\tremaining: 81.6ms\n",
      "945:\tlearn: 0.3957788\ttotal: 1.4s\tremaining: 80.2ms\n",
      "946:\tlearn: 0.3955856\ttotal: 1.41s\tremaining: 78.7ms\n",
      "947:\tlearn: 0.3955628\ttotal: 1.41s\tremaining: 77.2ms\n",
      "948:\tlearn: 0.3954684\ttotal: 1.41s\tremaining: 75.7ms\n",
      "949:\tlearn: 0.3953180\ttotal: 1.41s\tremaining: 74.2ms\n",
      "950:\tlearn: 0.3951703\ttotal: 1.41s\tremaining: 72.7ms\n",
      "951:\tlearn: 0.3949441\ttotal: 1.41s\tremaining: 71.2ms\n",
      "952:\tlearn: 0.3948054\ttotal: 1.41s\tremaining: 69.8ms\n",
      "953:\tlearn: 0.3946305\ttotal: 1.42s\tremaining: 68.3ms\n",
      "954:\tlearn: 0.3944393\ttotal: 1.42s\tremaining: 66.8ms\n",
      "955:\tlearn: 0.3942421\ttotal: 1.42s\tremaining: 65.3ms\n",
      "956:\tlearn: 0.3940540\ttotal: 1.42s\tremaining: 63.8ms\n",
      "957:\tlearn: 0.3938454\ttotal: 1.42s\tremaining: 62.4ms\n",
      "958:\tlearn: 0.3936120\ttotal: 1.42s\tremaining: 60.9ms\n",
      "959:\tlearn: 0.3935519\ttotal: 1.42s\tremaining: 59.4ms\n",
      "960:\tlearn: 0.3934377\ttotal: 1.43s\tremaining: 57.9ms\n",
      "961:\tlearn: 0.3932611\ttotal: 1.43s\tremaining: 56.4ms\n",
      "962:\tlearn: 0.3930859\ttotal: 1.43s\tremaining: 54.9ms\n",
      "963:\tlearn: 0.3929131\ttotal: 1.43s\tremaining: 53.4ms\n",
      "964:\tlearn: 0.3927880\ttotal: 1.43s\tremaining: 51.9ms\n",
      "965:\tlearn: 0.3925410\ttotal: 1.43s\tremaining: 50.4ms\n",
      "966:\tlearn: 0.3923779\ttotal: 1.43s\tremaining: 49ms\n",
      "967:\tlearn: 0.3921886\ttotal: 1.44s\tremaining: 47.5ms\n",
      "968:\tlearn: 0.3920320\ttotal: 1.44s\tremaining: 46ms\n",
      "969:\tlearn: 0.3919272\ttotal: 1.44s\tremaining: 44.5ms\n",
      "970:\tlearn: 0.3917940\ttotal: 1.44s\tremaining: 43ms\n",
      "971:\tlearn: 0.3916836\ttotal: 1.44s\tremaining: 41.5ms\n",
      "972:\tlearn: 0.3915753\ttotal: 1.44s\tremaining: 40.1ms\n",
      "973:\tlearn: 0.3913511\ttotal: 1.45s\tremaining: 38.6ms\n",
      "974:\tlearn: 0.3911528\ttotal: 1.45s\tremaining: 37.1ms\n",
      "975:\tlearn: 0.3911060\ttotal: 1.45s\tremaining: 35.6ms\n",
      "976:\tlearn: 0.3908952\ttotal: 1.45s\tremaining: 34.1ms\n",
      "977:\tlearn: 0.3907492\ttotal: 1.45s\tremaining: 32.7ms\n",
      "978:\tlearn: 0.3906355\ttotal: 1.45s\tremaining: 31.2ms\n",
      "979:\tlearn: 0.3905797\ttotal: 1.45s\tremaining: 29.7ms\n",
      "980:\tlearn: 0.3904290\ttotal: 1.46s\tremaining: 28.2ms\n",
      "981:\tlearn: 0.3903379\ttotal: 1.46s\tremaining: 26.7ms\n",
      "982:\tlearn: 0.3902988\ttotal: 1.46s\tremaining: 25.2ms\n",
      "983:\tlearn: 0.3901814\ttotal: 1.46s\tremaining: 23.8ms\n",
      "984:\tlearn: 0.3900231\ttotal: 1.47s\tremaining: 22.3ms\n",
      "985:\tlearn: 0.3898533\ttotal: 1.47s\tremaining: 20.8ms\n",
      "986:\tlearn: 0.3897011\ttotal: 1.47s\tremaining: 19.3ms\n",
      "987:\tlearn: 0.3896451\ttotal: 1.47s\tremaining: 17.9ms\n",
      "988:\tlearn: 0.3895131\ttotal: 1.47s\tremaining: 16.4ms\n",
      "989:\tlearn: 0.3893683\ttotal: 1.47s\tremaining: 14.9ms\n",
      "990:\tlearn: 0.3891902\ttotal: 1.47s\tremaining: 13.4ms\n",
      "991:\tlearn: 0.3890166\ttotal: 1.48s\tremaining: 11.9ms\n",
      "992:\tlearn: 0.3887740\ttotal: 1.48s\tremaining: 10.4ms\n",
      "993:\tlearn: 0.3886074\ttotal: 1.48s\tremaining: 8.93ms\n",
      "994:\tlearn: 0.3884834\ttotal: 1.48s\tremaining: 7.44ms\n",
      "995:\tlearn: 0.3882726\ttotal: 1.48s\tremaining: 5.96ms\n",
      "996:\tlearn: 0.3880548\ttotal: 1.49s\tremaining: 4.47ms\n",
      "997:\tlearn: 0.3879140\ttotal: 1.49s\tremaining: 2.98ms\n",
      "998:\tlearn: 0.3877648\ttotal: 1.49s\tremaining: 1.49ms\n",
      "999:\tlearn: 0.3876655\ttotal: 1.49s\tremaining: 0us\n",
      "Training Accuracy: 0.85\n"
     ]
    }
   ],
   "source": [
    "catboost_model.fit(X_train, y_train)\n",
    "catboost_preds = catboost_model.predict(X_test)\n",
    "catboost_train_preds = catboost_model.predict(X_train)\n",
    "\n",
    "cat_train_accuracy = accuracy_score(y_train, catboost_train_preds)\n",
    "\n",
    "print(f\"Training Accuracy: {cat_train_accuracy:.2f}\")\n"
   ]
  },
  {
   "cell_type": "code",
   "execution_count": 51,
   "id": "b0174e9f",
   "metadata": {
    "execution": {
     "iopub.execute_input": "2024-02-12T22:31:35.366144Z",
     "iopub.status.busy": "2024-02-12T22:31:35.365363Z",
     "iopub.status.idle": "2024-02-12T22:31:35.416985Z",
     "shell.execute_reply": "2024-02-12T22:31:35.415127Z"
    },
    "papermill": {
     "duration": 0.085396,
     "end_time": "2024-02-12T22:31:35.420363",
     "exception": false,
     "start_time": "2024-02-12T22:31:35.334967",
     "status": "completed"
    },
    "tags": []
   },
   "outputs": [
    {
     "name": "stdout",
     "output_type": "stream",
     "text": [
      "Training Accuracy: 0.68\n"
     ]
    },
    {
     "name": "stderr",
     "output_type": "stream",
     "text": [
      "/opt/conda/lib/python3.10/site-packages/sklearn/linear_model/_logistic.py:458: ConvergenceWarning: lbfgs failed to converge (status=1):\n",
      "STOP: TOTAL NO. of ITERATIONS REACHED LIMIT.\n",
      "\n",
      "Increase the number of iterations (max_iter) or scale the data as shown in:\n",
      "    https://scikit-learn.org/stable/modules/preprocessing.html\n",
      "Please also refer to the documentation for alternative solver options:\n",
      "    https://scikit-learn.org/stable/modules/linear_model.html#logistic-regression\n",
      "  n_iter_i = _check_optimize_result(\n"
     ]
    }
   ],
   "source": [
    "from sklearn.linear_model import LogisticRegression\n",
    "from sklearn.model_selection import train_test_split\n",
    "from sklearn.metrics import accuracy_score, classification_report, confusion_matrix\n",
    "logistic_regression_model = LogisticRegression()\n",
    "logistic_regression_model.fit(X_train, y_train)\n",
    "logistic_preds = logistic_regression_model.predict(X_test)\n",
    "logistic_train_preds = logistic_regression_model.predict(X_train)\n",
    "logistic_train_accuracy = accuracy_score(y_train, logistic_train_preds)\n",
    "\n",
    "print(f\"Training Accuracy: {logistic_train_accuracy:.2f}\")"
   ]
  },
  {
   "cell_type": "code",
   "execution_count": 52,
   "id": "0e41951e",
   "metadata": {
    "execution": {
     "iopub.execute_input": "2024-02-12T22:31:35.474599Z",
     "iopub.status.busy": "2024-02-12T22:31:35.474207Z",
     "iopub.status.idle": "2024-02-12T22:31:35.571326Z",
     "shell.execute_reply": "2024-02-12T22:31:35.570039Z"
    },
    "papermill": {
     "duration": 0.126513,
     "end_time": "2024-02-12T22:31:35.573930",
     "exception": false,
     "start_time": "2024-02-12T22:31:35.447417",
     "status": "completed"
    },
    "tags": []
   },
   "outputs": [
    {
     "name": "stdout",
     "output_type": "stream",
     "text": [
      "Training Accuracy: 0.68\n"
     ]
    }
   ],
   "source": [
    "from sklearn.svm import SVC\n",
    "from sklearn.model_selection import train_test_split\n",
    "from sklearn.metrics import accuracy_score, classification_report, confusion_matrix\n",
    "\n",
    "# Assuming you have your data and labels stored in X (features) and y (labels/targets) respectively\n",
    "\n",
    "\n",
    "\n",
    "# Instantiate the Support Vector Machine classifier\n",
    "svm_model = SVC(kernel='rbf', C=1.0, gamma='scale')\n",
    "\n",
    "# Train the model\n",
    "svm_model.fit(X_train, y_train)\n",
    "svm_preds = svm_model.predict(X_test)\n",
    "svm_train_preds = svm_model.predict(X_train)\n",
    "svm_train_accuracy = accuracy_score(y_train, svm_train_preds)\n",
    "\n",
    "print(f\"Training Accuracy: {svm_train_accuracy:.2f}\")"
   ]
  },
  {
   "cell_type": "code",
   "execution_count": 53,
   "id": "1127267d",
   "metadata": {
    "execution": {
     "iopub.execute_input": "2024-02-12T22:31:35.625503Z",
     "iopub.status.busy": "2024-02-12T22:31:35.625111Z",
     "iopub.status.idle": "2024-02-12T22:31:35.646612Z",
     "shell.execute_reply": "2024-02-12T22:31:35.645042Z"
    },
    "papermill": {
     "duration": 0.050102,
     "end_time": "2024-02-12T22:31:35.649313",
     "exception": false,
     "start_time": "2024-02-12T22:31:35.599211",
     "status": "completed"
    },
    "tags": []
   },
   "outputs": [
    {
     "name": "stdout",
     "output_type": "stream",
     "text": [
      "Training Accuracy: 0.67\n"
     ]
    }
   ],
   "source": [
    "from sklearn.naive_bayes import GaussianNB\n",
    "from sklearn.model_selection import train_test_split\n",
    "from sklearn.metrics import accuracy_score, classification_report, confusion_matrix\n",
    "\n",
    "# Assuming you have your data and labels stored in X (features) and y (labels/targets) respectively\n",
    "\n",
    "\n",
    "# Instantiate the Naive Bayes classifier (GaussianNB for continuous features)\n",
    "naive_bayes_model = GaussianNB()\n",
    "\n",
    "# Train the model\n",
    "naive_bayes_model.fit(X_train, y_train)\n",
    "nb_preds = naive_bayes_model.predict(X_test)\n",
    "nb_train_preds = naive_bayes_model.predict(X_train)\n",
    "nb_train_accuracy = accuracy_score(y_train, nb_train_preds)\n",
    "\n",
    "print(f\"Training Accuracy: {nb_train_accuracy:.2f}\")"
   ]
  },
  {
   "cell_type": "code",
   "execution_count": 54,
   "id": "462cb977",
   "metadata": {
    "execution": {
     "iopub.execute_input": "2024-02-12T22:31:35.700079Z",
     "iopub.status.busy": "2024-02-12T22:31:35.699644Z",
     "iopub.status.idle": "2024-02-12T22:31:35.705105Z",
     "shell.execute_reply": "2024-02-12T22:31:35.703898Z"
    },
    "papermill": {
     "duration": 0.033088,
     "end_time": "2024-02-12T22:31:35.707815",
     "exception": false,
     "start_time": "2024-02-12T22:31:35.674727",
     "status": "completed"
    },
    "tags": []
   },
   "outputs": [],
   "source": [
    "test_df_encoded['Survived'] = xgb_preds"
   ]
  },
  {
   "cell_type": "code",
   "execution_count": 55,
   "id": "ded6a75f",
   "metadata": {
    "execution": {
     "iopub.execute_input": "2024-02-12T22:31:35.758253Z",
     "iopub.status.busy": "2024-02-12T22:31:35.757859Z",
     "iopub.status.idle": "2024-02-12T22:31:35.769800Z",
     "shell.execute_reply": "2024-02-12T22:31:35.768088Z"
    },
    "papermill": {
     "duration": 0.041812,
     "end_time": "2024-02-12T22:31:35.772432",
     "exception": false,
     "start_time": "2024-02-12T22:31:35.730620",
     "status": "completed"
    },
    "tags": []
   },
   "outputs": [],
   "source": [
    "test_df_encoded[['PassengerId','Survived']].to_csv('submission3.csv', index = False)"
   ]
  },
  {
   "cell_type": "code",
   "execution_count": 56,
   "id": "74b0c100",
   "metadata": {
    "execution": {
     "iopub.execute_input": "2024-02-12T22:31:35.824370Z",
     "iopub.status.busy": "2024-02-12T22:31:35.823986Z",
     "iopub.status.idle": "2024-02-12T22:31:35.830802Z",
     "shell.execute_reply": "2024-02-12T22:31:35.828977Z"
    },
    "papermill": {
     "duration": 0.03626,
     "end_time": "2024-02-12T22:31:35.833684",
     "exception": false,
     "start_time": "2024-02-12T22:31:35.797424",
     "status": "completed"
    },
    "tags": []
   },
   "outputs": [],
   "source": [
    "test_df_encoded['PassengerId']= test_df_encoded['PassengerId'].astype(int)"
   ]
  },
  {
   "cell_type": "code",
   "execution_count": 57,
   "id": "cae8520d",
   "metadata": {
    "execution": {
     "iopub.execute_input": "2024-02-12T22:31:35.888034Z",
     "iopub.status.busy": "2024-02-12T22:31:35.887599Z",
     "iopub.status.idle": "2024-02-12T22:31:35.897682Z",
     "shell.execute_reply": "2024-02-12T22:31:35.895958Z"
    },
    "papermill": {
     "duration": 0.042148,
     "end_time": "2024-02-12T22:31:35.900528",
     "exception": false,
     "start_time": "2024-02-12T22:31:35.858380",
     "status": "completed"
    },
    "tags": []
   },
   "outputs": [
    {
     "data": {
      "text/plain": [
       "0     892\n",
       "1     893\n",
       "2     894\n",
       "3     895\n",
       "4     896\n",
       "     ... \n",
       "95    987\n",
       "96    988\n",
       "97    989\n",
       "98    990\n",
       "99    991\n",
       "Name: PassengerId, Length: 100, dtype: int64"
      ]
     },
     "execution_count": 57,
     "metadata": {},
     "output_type": "execute_result"
    }
   ],
   "source": [
    "test_df_encoded['PassengerId'].head(100)"
   ]
  },
  {
   "cell_type": "code",
   "execution_count": 58,
   "id": "d2f9a0bd",
   "metadata": {
    "execution": {
     "iopub.execute_input": "2024-02-12T22:31:35.953720Z",
     "iopub.status.busy": "2024-02-12T22:31:35.953306Z",
     "iopub.status.idle": "2024-02-12T22:31:35.974606Z",
     "shell.execute_reply": "2024-02-12T22:31:35.973542Z"
    },
    "papermill": {
     "duration": 0.050324,
     "end_time": "2024-02-12T22:31:35.977066",
     "exception": false,
     "start_time": "2024-02-12T22:31:35.926742",
     "status": "completed"
    },
    "tags": []
   },
   "outputs": [
    {
     "data": {
      "text/html": [
       "<div>\n",
       "<style scoped>\n",
       "    .dataframe tbody tr th:only-of-type {\n",
       "        vertical-align: middle;\n",
       "    }\n",
       "\n",
       "    .dataframe tbody tr th {\n",
       "        vertical-align: top;\n",
       "    }\n",
       "\n",
       "    .dataframe thead th {\n",
       "        text-align: right;\n",
       "    }\n",
       "</style>\n",
       "<table border=\"1\" class=\"dataframe\">\n",
       "  <thead>\n",
       "    <tr style=\"text-align: right;\">\n",
       "      <th></th>\n",
       "      <th>PassengerId</th>\n",
       "      <th>Pclass</th>\n",
       "      <th>Name</th>\n",
       "      <th>Sex</th>\n",
       "      <th>Age</th>\n",
       "      <th>SibSp</th>\n",
       "      <th>Parch</th>\n",
       "      <th>Ticket</th>\n",
       "      <th>Fare</th>\n",
       "      <th>Embarked</th>\n",
       "      <th>People_Related</th>\n",
       "    </tr>\n",
       "  </thead>\n",
       "  <tbody>\n",
       "    <tr>\n",
       "      <th>413</th>\n",
       "      <td>1305</td>\n",
       "      <td>3</td>\n",
       "      <td>Spector, Mr. Woolf</td>\n",
       "      <td>male</td>\n",
       "      <td>27.0</td>\n",
       "      <td>0</td>\n",
       "      <td>0</td>\n",
       "      <td>A.5. 3236</td>\n",
       "      <td>8.0500</td>\n",
       "      <td>S</td>\n",
       "      <td>0</td>\n",
       "    </tr>\n",
       "    <tr>\n",
       "      <th>414</th>\n",
       "      <td>1306</td>\n",
       "      <td>1</td>\n",
       "      <td>Oliva y Ocana, Dona. Fermina</td>\n",
       "      <td>female</td>\n",
       "      <td>39.0</td>\n",
       "      <td>0</td>\n",
       "      <td>0</td>\n",
       "      <td>PC 17758</td>\n",
       "      <td>108.9000</td>\n",
       "      <td>C</td>\n",
       "      <td>0</td>\n",
       "    </tr>\n",
       "    <tr>\n",
       "      <th>415</th>\n",
       "      <td>1307</td>\n",
       "      <td>3</td>\n",
       "      <td>Saether, Mr. Simon Sivertsen</td>\n",
       "      <td>male</td>\n",
       "      <td>38.5</td>\n",
       "      <td>0</td>\n",
       "      <td>0</td>\n",
       "      <td>SOTON/O.Q. 3101262</td>\n",
       "      <td>7.2500</td>\n",
       "      <td>S</td>\n",
       "      <td>0</td>\n",
       "    </tr>\n",
       "    <tr>\n",
       "      <th>416</th>\n",
       "      <td>1308</td>\n",
       "      <td>3</td>\n",
       "      <td>Ware, Mr. Frederick</td>\n",
       "      <td>male</td>\n",
       "      <td>27.0</td>\n",
       "      <td>0</td>\n",
       "      <td>0</td>\n",
       "      <td>359309</td>\n",
       "      <td>8.0500</td>\n",
       "      <td>S</td>\n",
       "      <td>0</td>\n",
       "    </tr>\n",
       "    <tr>\n",
       "      <th>417</th>\n",
       "      <td>1309</td>\n",
       "      <td>3</td>\n",
       "      <td>Peter, Master. Michael J</td>\n",
       "      <td>male</td>\n",
       "      <td>27.0</td>\n",
       "      <td>1</td>\n",
       "      <td>1</td>\n",
       "      <td>2668</td>\n",
       "      <td>22.3583</td>\n",
       "      <td>C</td>\n",
       "      <td>2</td>\n",
       "    </tr>\n",
       "  </tbody>\n",
       "</table>\n",
       "</div>"
      ],
      "text/plain": [
       "     PassengerId  Pclass                          Name     Sex   Age  SibSp  \\\n",
       "413         1305       3            Spector, Mr. Woolf    male  27.0      0   \n",
       "414         1306       1  Oliva y Ocana, Dona. Fermina  female  39.0      0   \n",
       "415         1307       3  Saether, Mr. Simon Sivertsen    male  38.5      0   \n",
       "416         1308       3           Ware, Mr. Frederick    male  27.0      0   \n",
       "417         1309       3      Peter, Master. Michael J    male  27.0      1   \n",
       "\n",
       "     Parch              Ticket      Fare Embarked  People_Related  \n",
       "413      0           A.5. 3236    8.0500        S               0  \n",
       "414      0            PC 17758  108.9000        C               0  \n",
       "415      0  SOTON/O.Q. 3101262    7.2500        S               0  \n",
       "416      0              359309    8.0500        S               0  \n",
       "417      1                2668   22.3583        C               2  "
      ]
     },
     "execution_count": 58,
     "metadata": {},
     "output_type": "execute_result"
    }
   ],
   "source": [
    "test_data.tail()"
   ]
  },
  {
   "cell_type": "code",
   "execution_count": 59,
   "id": "806ca73d",
   "metadata": {
    "execution": {
     "iopub.execute_input": "2024-02-12T22:31:36.029389Z",
     "iopub.status.busy": "2024-02-12T22:31:36.028987Z",
     "iopub.status.idle": "2024-02-12T22:31:36.037621Z",
     "shell.execute_reply": "2024-02-12T22:31:36.036468Z"
    },
    "papermill": {
     "duration": 0.038309,
     "end_time": "2024-02-12T22:31:36.039988",
     "exception": false,
     "start_time": "2024-02-12T22:31:36.001679",
     "status": "completed"
    },
    "tags": []
   },
   "outputs": [
    {
     "data": {
      "text/plain": [
       "0       892\n",
       "1       893\n",
       "2       894\n",
       "3       895\n",
       "4       896\n",
       "       ... \n",
       "413    1305\n",
       "414    1306\n",
       "415    1307\n",
       "416    1308\n",
       "417    1309\n",
       "Name: PassengerId, Length: 417, dtype: int64"
      ]
     },
     "execution_count": 59,
     "metadata": {},
     "output_type": "execute_result"
    }
   ],
   "source": [
    "test_data['PassengerId']"
   ]
  },
  {
   "cell_type": "code",
   "execution_count": 60,
   "id": "ab6fe024",
   "metadata": {
    "execution": {
     "iopub.execute_input": "2024-02-12T22:31:36.091140Z",
     "iopub.status.busy": "2024-02-12T22:31:36.090749Z",
     "iopub.status.idle": "2024-02-12T22:31:36.097579Z",
     "shell.execute_reply": "2024-02-12T22:31:36.096450Z"
    },
    "papermill": {
     "duration": 0.034718,
     "end_time": "2024-02-12T22:31:36.099968",
     "exception": false,
     "start_time": "2024-02-12T22:31:36.065250",
     "status": "completed"
    },
    "tags": []
   },
   "outputs": [
    {
     "data": {
      "text/plain": [
       "1044"
      ]
     },
     "execution_count": 60,
     "metadata": {},
     "output_type": "execute_result"
    }
   ],
   "source": [
    "892 +152"
   ]
  },
  {
   "cell_type": "code",
   "execution_count": 61,
   "id": "fb6c4a90",
   "metadata": {
    "execution": {
     "iopub.execute_input": "2024-02-12T22:31:36.148994Z",
     "iopub.status.busy": "2024-02-12T22:31:36.148583Z",
     "iopub.status.idle": "2024-02-12T22:31:36.154069Z",
     "shell.execute_reply": "2024-02-12T22:31:36.152918Z"
    },
    "papermill": {
     "duration": 0.03328,
     "end_time": "2024-02-12T22:31:36.156516",
     "exception": false,
     "start_time": "2024-02-12T22:31:36.123236",
     "status": "completed"
    },
    "tags": []
   },
   "outputs": [],
   "source": [
    "test_df_encoded['Survived'] = svm_preds.astype(int)"
   ]
  },
  {
   "cell_type": "code",
   "execution_count": null,
   "id": "f5a922a9",
   "metadata": {
    "papermill": {
     "duration": 0.025903,
     "end_time": "2024-02-12T22:31:36.208060",
     "exception": false,
     "start_time": "2024-02-12T22:31:36.182157",
     "status": "completed"
    },
    "tags": []
   },
   "outputs": [],
   "source": []
  }
 ],
 "metadata": {
  "kaggle": {
   "accelerator": "none",
   "dataSources": [
    {
     "databundleVersionId": 26502,
     "sourceId": 3136,
     "sourceType": "competition"
    }
   ],
   "dockerImageVersionId": 30646,
   "isGpuEnabled": false,
   "isInternetEnabled": true,
   "language": "python",
   "sourceType": "notebook"
  },
  "kernelspec": {
   "display_name": "Python 3",
   "language": "python",
   "name": "python3"
  },
  "language_info": {
   "codemirror_mode": {
    "name": "ipython",
    "version": 3
   },
   "file_extension": ".py",
   "mimetype": "text/x-python",
   "name": "python",
   "nbconvert_exporter": "python",
   "pygments_lexer": "ipython3",
   "version": "3.10.13"
  },
  "papermill": {
   "default_parameters": {},
   "duration": 18.2181,
   "end_time": "2024-02-12T22:31:37.155166",
   "environment_variables": {},
   "exception": null,
   "input_path": "__notebook__.ipynb",
   "output_path": "__notebook__.ipynb",
   "parameters": {},
   "start_time": "2024-02-12T22:31:18.937066",
   "version": "2.5.0"
  }
 },
 "nbformat": 4,
 "nbformat_minor": 5
}
